{
  "nbformat": 4,
  "nbformat_minor": 0,
  "metadata": {
    "kernelspec": {
      "display_name": "Python 3",
      "language": "python",
      "name": "python3"
    },
    "language_info": {
      "codemirror_mode": {
        "name": "ipython",
        "version": 3
      },
      "file_extension": ".py",
      "mimetype": "text/x-python",
      "name": "python",
      "nbconvert_exporter": "python",
      "pygments_lexer": "ipython3",
      "version": "3.7.3"
    },
    "colab": {
      "name": "01-upcoming.ipynb",
      "provenance": [],
      "include_colab_link": true
    }
  },
  "cells": [
    {
      "cell_type": "markdown",
      "metadata": {
        "id": "view-in-github",
        "colab_type": "text"
      },
      "source": [
        "<a href=\"https://colab.research.google.com/github/rveerag567/Quantum-Computing/blob/master/01_upcoming.ipynb\" target=\"_parent\"><img src=\"https://colab.research.google.com/assets/colab-badge.svg\" alt=\"Open In Colab\"/></a>"
      ]
    },
    {
      "cell_type": "markdown",
      "metadata": {
        "id": "yPD0Sz6_M2hS",
        "colab_type": "text"
      },
      "source": [
        "# This Project contains list of topics are: "
      ]
    },
    {
      "cell_type": "markdown",
      "metadata": {
        "id": "HI3NtaxeM2hU",
        "colab_type": "text"
      },
      "source": [
        "The following topics are being developed:"
      ]
    },
    {
      "cell_type": "markdown",
      "metadata": {
        "id": "nqWuEKlfM2hW",
        "colab_type": "text"
      },
      "source": [
        "1. Shor's Algorithm\n",
        "2. Overview of Quantum Algorithms for NISQ Hardware\n",
        "3. Mapping the Ising Model onto a Superconducting Quantum Computer\n",
        "4. Solving Combinatorial Optimization Problems using QAOA\n",
        "5. Solving Linear Systems of Equations using HHL\n",
        "6. Securing Communications using BB84\n",
        "7. Decoherence and Energy Relaxation: Measuring T2 and T1\n",
        "8. Optimizing Microwave Pulses for High-Fidelity Qubit Operations\n",
        "9. State and Process Tomography"
      ]
    },
    {
      "cell_type": "code",
      "metadata": {
        "id": "jJ3t5jDBNTcX",
        "colab_type": "code",
        "colab": {}
      },
      "source": [
        ""
      ],
      "execution_count": 0,
      "outputs": []
    }
  ]
}