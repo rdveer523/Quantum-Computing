{
  "nbformat": 4,
  "nbformat_minor": 0,
  "metadata": {
    "kernelspec": {
      "display_name": "Python 3",
      "language": "python",
      "name": "python3"
    },
    "language_info": {
      "codemirror_mode": {
        "name": "ipython",
        "version": 3
      },
      "file_extension": ".py",
      "mimetype": "text/x-python",
      "name": "python",
      "nbconvert_exporter": "python",
      "pygments_lexer": "ipython3",
      "version": "3.7.4"
    },
    "colab": {
      "name": "02-python-and-jupyter-notebooks.ipynb",
      "provenance": [],
      "include_colab_link": true
    }
  },
  "cells": [
    {
      "cell_type": "markdown",
      "metadata": {
        "id": "view-in-github",
        "colab_type": "text"
      },
      "source": [
        "<a href=\"https://colab.research.google.com/github/rveerag567/Quantum-Computing/blob/master/02_python_and_jupyter_notebooks.ipynb\" target=\"_parent\"><img src=\"https://colab.research.google.com/assets/colab-badge.svg\" alt=\"Open In Colab\"/></a>"
      ]
    },
    {
      "cell_type": "markdown",
      "metadata": {
        "id": "NrBzoh7nN9yj",
        "colab_type": "text"
      },
      "source": [
        "# Introduction to Python with Jupyter:"
      ]
    },
    {
      "cell_type": "markdown",
      "metadata": {
        "id": "Wp2ZHpoDN9yo",
        "colab_type": "text"
      },
      "source": [
        "1. Python don't need to compile, can run it line by line ( as how in a notebook)\n",
        "\n",
        "2. Jupyter notebook is very powerful source to do all python code which is best way to combine coding, text and images. \n",
        "\n",
        "3. In a notebook, everything is laid out in cells. Text cells and code cells are the most common. If you are viewing this section as a Jupyter notebook, the text you are now reading is in a text cell. A code cell can be found just below.\n",
        "\n",
        "4. To run the contents of a code cell, you can click on it and press Shift + Enter. Or if there is a little arrow thing on the left, you can click on that."
      ]
    },
    {
      "cell_type": "code",
      "metadata": {
        "id": "F-wQtXq4N9yq",
        "colab_type": "code",
        "colab": {
          "base_uri": "https://localhost:8080/",
          "height": 34
        },
        "outputId": "68021274-fb82-4af0-a026-980d44179149"
      },
      "source": [
        "2+3"
      ],
      "execution_count": 1,
      "outputs": [
        {
          "output_type": "execute_result",
          "data": {
            "text/plain": [
              "5"
            ]
          },
          "metadata": {
            "tags": []
          },
          "execution_count": 1
        }
      ]
    },
    {
      "cell_type": "markdown",
      "metadata": {
        "id": "9vtyYItHN9zA",
        "colab_type": "text"
      },
      "source": [
        "If you are viewing this section as a Jupyter notebook, execute each of the code cells as you read through."
      ]
    },
    {
      "cell_type": "code",
      "metadata": {
        "id": "YP9kX0J2N9zC",
        "colab_type": "code",
        "colab": {
          "base_uri": "https://localhost:8080/",
          "height": 34
        },
        "outputId": "e4ec3aa9-7e40-4e53-d52d-bde90e864117"
      },
      "source": [
        "a = 12\n",
        "b = 3.5\n",
        "a + b"
      ],
      "execution_count": 2,
      "outputs": [
        {
          "output_type": "execute_result",
          "data": {
            "text/plain": [
              "15.5"
            ]
          },
          "metadata": {
            "tags": []
          },
          "execution_count": 2
        }
      ]
    },
    {
      "cell_type": "markdown",
      "metadata": {
        "id": "lFVQnujBN9zM",
        "colab_type": "text"
      },
      "source": [
        "Above we created two variables, which we called `a` and `b`, and gave them values. Then we added them. Simple arithmetic like this is pretty straightforward in Python."
      ]
    },
    {
      "cell_type": "markdown",
      "metadata": {
        "id": "6U6lJiWHN9zN",
        "colab_type": "text"
      },
      "source": [
        "Variables in Python come in many forms. Below are some examples."
      ]
    },
    {
      "cell_type": "code",
      "metadata": {
        "id": "HSBTtUtkN9zP",
        "colab_type": "code",
        "colab": {}
      },
      "source": [
        "integer = 42 # Just an integer\n",
        "floats = 0.1 # A non-integer number, up to a fixed precision\n",
        "boolean = True # A value that can be True or False\n",
        "string = '''just enclose text between two 's, or two \"s, or do what we did for this string''' # Text\n",
        "none_of_the_above = None # The absence of any actual value or variable type"
      ],
      "execution_count": 0,
      "outputs": []
    },
    {
      "cell_type": "markdown",
      "metadata": {
        "id": "xXa8_YrCN9zV",
        "colab_type": "text"
      },
      "source": [
        "As well as numbers, another data structure we can use is the *list*."
      ]
    },
    {
      "cell_type": "code",
      "metadata": {
        "id": "MYiAlgekN9zW",
        "colab_type": "code",
        "colab": {}
      },
      "source": [
        "list1 = [3,12,21,3]"
      ],
      "execution_count": 0,
      "outputs": []
    },
    {
      "cell_type": "markdown",
      "metadata": {
        "id": "bjlJzn7VN9zc",
        "colab_type": "text"
      },
      "source": [
        "Lists in Python can contain any mixture of variable types."
      ]
    },
    {
      "cell_type": "code",
      "metadata": {
        "id": "IqwCtp9KN9zd",
        "colab_type": "code",
        "colab": {}
      },
      "source": [
        "list2 = [ 4, 1.51, True, [0,1], None, 'WaterMelon' ]"
      ],
      "execution_count": 0,
      "outputs": []
    },
    {
      "cell_type": "markdown",
      "metadata": {
        "id": "YSnRlv8ZN9zk",
        "colab_type": "text"
      },
      "source": [
        "Lists are indexed from `0` in Python (unlike languages such as Fortran). So here's how you access the `42` at the beginning of the above list."
      ]
    },
    {
      "cell_type": "code",
      "metadata": {
        "id": "I2CgTVWEN9zm",
        "colab_type": "code",
        "colab": {
          "base_uri": "https://localhost:8080/",
          "height": 34
        },
        "outputId": "297a3f8b-69ae-469b-9588-3bcf62d6143d"
      },
      "source": [
        "list2[0]"
      ],
      "execution_count": 6,
      "outputs": [
        {
          "output_type": "execute_result",
          "data": {
            "text/plain": [
              "4"
            ]
          },
          "metadata": {
            "tags": []
          },
          "execution_count": 6
        }
      ]
    },
    {
      "cell_type": "markdown",
      "metadata": {
        "id": "EOYXa9fxN9zs",
        "colab_type": "text"
      },
      "source": [
        "A similar data structure is the *tuple*."
      ]
    },
    {
      "cell_type": "code",
      "metadata": {
        "id": "Sbub0LI0N9zu",
        "colab_type": "code",
        "colab": {
          "base_uri": "https://localhost:8080/",
          "height": 34
        },
        "outputId": "ba10d831-988f-4c4b-e91d-126b33a5446c"
      },
      "source": [
        "tup1 = (2, 3.5, True, [6,1], None, 'Python' )\n",
        "tup1[0]"
      ],
      "execution_count": 7,
      "outputs": [
        {
          "output_type": "execute_result",
          "data": {
            "text/plain": [
              "2"
            ]
          },
          "metadata": {
            "tags": []
          },
          "execution_count": 7
        }
      ]
    },
    {
      "cell_type": "markdown",
      "metadata": {
        "id": "EeDQzhdoN9zz",
        "colab_type": "text"
      },
      "source": [
        "A major difference between the list and the tuple is that list elements can be changed"
      ]
    },
    {
      "cell_type": "code",
      "metadata": {
        "id": "g8wqIEc7N9z0",
        "colab_type": "code",
        "colab": {
          "base_uri": "https://localhost:8080/",
          "height": 34
        },
        "outputId": "e33a1d0d-ee88-4728-fd7c-1a78502a1897"
      },
      "source": [
        "list2[5] = 'Quantum'\n",
        "print(list2)"
      ],
      "execution_count": 12,
      "outputs": [
        {
          "output_type": "stream",
          "text": [
            "[4, 1.51, True, [0, 1], None, 'Quantum']\n"
          ],
          "name": "stdout"
        }
      ]
    },
    {
      "cell_type": "markdown",
      "metadata": {
        "id": "XkPzwfSBN9z6",
        "colab_type": "text"
      },
      "source": [
        "whereas tuple elements cannot"
      ]
    },
    {
      "cell_type": "code",
      "metadata": {
        "id": "kAzpgPpAN9z7",
        "colab_type": "code",
        "colab": {
          "base_uri": "https://localhost:8080/",
          "height": 163
        },
        "outputId": "ef3b16fd-f1b7-4351-911b-0b9f6d8ce2f8"
      },
      "source": [
        "tup1[5] = 'Quantum'"
      ],
      "execution_count": 13,
      "outputs": [
        {
          "output_type": "error",
          "ename": "TypeError",
          "evalue": "ignored",
          "traceback": [
            "\u001b[0;31m---------------------------------------------------------------------------\u001b[0m",
            "\u001b[0;31mTypeError\u001b[0m                                 Traceback (most recent call last)",
            "\u001b[0;32m<ipython-input-13-d63bca1b6702>\u001b[0m in \u001b[0;36m<module>\u001b[0;34m()\u001b[0m\n\u001b[0;32m----> 1\u001b[0;31m \u001b[0mtup1\u001b[0m\u001b[0;34m[\u001b[0m\u001b[0;36m5\u001b[0m\u001b[0;34m]\u001b[0m \u001b[0;34m=\u001b[0m \u001b[0;34m'Quantum'\u001b[0m\u001b[0;34m\u001b[0m\u001b[0;34m\u001b[0m\u001b[0m\n\u001b[0m",
            "\u001b[0;31mTypeError\u001b[0m: 'tuple' object does not support item assignment"
          ]
        }
      ]
    },
    {
      "cell_type": "markdown",
      "metadata": {
        "id": "RO3VWI2iN90E",
        "colab_type": "text"
      },
      "source": [
        "Also we can add an element to the end of a list, which we cannot do with tuples."
      ]
    },
    {
      "cell_type": "code",
      "metadata": {
        "id": "yUiYkMRDN90F",
        "colab_type": "code",
        "colab": {},
        "outputId": "dade6c65-c4ec-4c45-d28e-fe56d2ced535"
      },
      "source": [
        "a_list.append( 3.14 )\n",
        "\n",
        "print(a_list)"
      ],
      "execution_count": 0,
      "outputs": [
        {
          "output_type": "stream",
          "text": [
            "[42, 0.5, True, [0, 1], None, 'apple', 3.14]\n"
          ],
          "name": "stdout"
        }
      ]
    },
    {
      "cell_type": "markdown",
      "metadata": {
        "id": "qSncM4boN90N",
        "colab_type": "text"
      },
      "source": [
        "Another useful data structure is the *dictionary*. This stores a set of *values*, each labeled by a unique *key*.\n",
        "\n",
        "Values can be any data type. Keys can be anything sufficiently simple (integer, float, Boolean, string). It cannot be a list, but it _can_ be a tuple."
      ]
    },
    {
      "cell_type": "code",
      "metadata": {
        "id": "HuMNGTLNN90O",
        "colab_type": "code",
        "colab": {}
      },
      "source": [
        "a_dict = { 1:'This is the value, for the key 1', 'This is the key for a value 1':1, False:':)', (0,1):256 }"
      ],
      "execution_count": 0,
      "outputs": []
    },
    {
      "cell_type": "markdown",
      "metadata": {
        "id": "8i0FDQljN90V",
        "colab_type": "text"
      },
      "source": [
        "The values are accessed using the keys"
      ]
    },
    {
      "cell_type": "code",
      "metadata": {
        "id": "wqlW8E17N90W",
        "colab_type": "code",
        "colab": {},
        "outputId": "8a3833dd-b21f-48e5-d9ea-62377524db53"
      },
      "source": [
        "a_dict['This is the key for a value 1']"
      ],
      "execution_count": 0,
      "outputs": [
        {
          "output_type": "execute_result",
          "data": {
            "text/plain": [
              "1"
            ]
          },
          "metadata": {
            "tags": []
          },
          "execution_count": 12
        }
      ]
    },
    {
      "cell_type": "markdown",
      "metadata": {
        "id": "zvJeMBXVN90b",
        "colab_type": "text"
      },
      "source": [
        "New key/value pairs can be added by just supplying the new value for the new key"
      ]
    },
    {
      "cell_type": "code",
      "metadata": {
        "id": "r5jg_dlgN90c",
        "colab_type": "code",
        "colab": {}
      },
      "source": [
        "a_dict['new key'] = 'new_value'"
      ],
      "execution_count": 0,
      "outputs": []
    },
    {
      "cell_type": "markdown",
      "metadata": {
        "id": "BEBTp3boN90h",
        "colab_type": "text"
      },
      "source": [
        "To loop over a range of numbers, the syntax is"
      ]
    },
    {
      "cell_type": "code",
      "metadata": {
        "id": "5Dcynwv9N90j",
        "colab_type": "code",
        "colab": {},
        "outputId": "1165e868-d8ee-43a0-c79d-75445f51240c"
      },
      "source": [
        "for j in range(5):\n",
        "    print(j)"
      ],
      "execution_count": 0,
      "outputs": [
        {
          "output_type": "stream",
          "text": [
            "0\n",
            "1\n",
            "2\n",
            "3\n",
            "4\n"
          ],
          "name": "stdout"
        }
      ]
    },
    {
      "cell_type": "markdown",
      "metadata": {
        "id": "aTOjbbAtN90p",
        "colab_type": "text"
      },
      "source": [
        "Note that it starts at 0 (by default), and ends at n-1 for `range(n)`."
      ]
    },
    {
      "cell_type": "markdown",
      "metadata": {
        "id": "KayrU4RkN90q",
        "colab_type": "text"
      },
      "source": [
        "You can also loop over any 'iterable' object, such as lists"
      ]
    },
    {
      "cell_type": "code",
      "metadata": {
        "id": "nrLFaJtSN90r",
        "colab_type": "code",
        "colab": {},
        "outputId": "a70d07b3-1408-43b0-fd0d-adddc856815f"
      },
      "source": [
        "for j in a_list:\n",
        "    print(j)"
      ],
      "execution_count": 0,
      "outputs": [
        {
          "output_type": "stream",
          "text": [
            "42\n",
            "0.5\n",
            "True\n",
            "[0, 1]\n",
            "None\n",
            "apple\n",
            "3.14\n"
          ],
          "name": "stdout"
        }
      ]
    },
    {
      "cell_type": "markdown",
      "metadata": {
        "id": "UnDx4aCvN90x",
        "colab_type": "text"
      },
      "source": [
        "or dictionaries"
      ]
    },
    {
      "cell_type": "code",
      "metadata": {
        "id": "CbtJuPI8N90y",
        "colab_type": "code",
        "colab": {},
        "outputId": "c31db07a-d4f4-4e58-d164-986df4e33c66"
      },
      "source": [
        "for key in a_dict:\n",
        "    value = a_dict[key]\n",
        "    print('key =',key)\n",
        "    print('value =',value)\n",
        "    print()"
      ],
      "execution_count": 0,
      "outputs": [
        {
          "output_type": "stream",
          "text": [
            "key = 1\n",
            "value = This is the value, for the key 1\n",
            "\n",
            "key = This is the key for a value 1\n",
            "value = 1\n",
            "\n",
            "key = False\n",
            "value = :)\n",
            "\n",
            "key = (0, 1)\n",
            "value = 256\n",
            "\n",
            "key = new key\n",
            "value = new_value\n",
            "\n"
          ],
          "name": "stdout"
        }
      ]
    },
    {
      "cell_type": "markdown",
      "metadata": {
        "id": "Ew5GfVH4N903",
        "colab_type": "text"
      },
      "source": [
        "Conditional statements are done with `if`, `elif` and `else` with the following syntax."
      ]
    },
    {
      "cell_type": "code",
      "metadata": {
        "id": "tK98SVWsN904",
        "colab_type": "code",
        "colab": {},
        "outputId": "5b2a0d4f-076f-4be1-c97b-3c46650268aa"
      },
      "source": [
        "if 'strawberry' in a_list:\n",
        "    print('We have a strawberry!')\n",
        "elif a_list[5]=='apple':\n",
        "    print('We have an apple!')\n",
        "else:\n",
        "    print('Not much fruit here!')"
      ],
      "execution_count": 0,
      "outputs": [
        {
          "output_type": "stream",
          "text": [
            "We have an apple!\n"
          ],
          "name": "stdout"
        }
      ]
    },
    {
      "cell_type": "markdown",
      "metadata": {
        "id": "hArLb2mAN909",
        "colab_type": "text"
      },
      "source": [
        "Importing packages is done with a line such as"
      ]
    },
    {
      "cell_type": "code",
      "metadata": {
        "id": "b3b6jHOtN90-",
        "colab_type": "code",
        "colab": {}
      },
      "source": [
        "import numpy"
      ],
      "execution_count": 0,
      "outputs": []
    },
    {
      "cell_type": "markdown",
      "metadata": {
        "id": "ODH8w3bzN91C",
        "colab_type": "text"
      },
      "source": [
        "The `numpy` package is important for doing maths"
      ]
    },
    {
      "cell_type": "code",
      "metadata": {
        "id": "VrzVYXMkN91D",
        "colab_type": "code",
        "colab": {},
        "outputId": "3498ddd2-8924-4518-a2a8-708c3e53165c"
      },
      "source": [
        "numpy.sin( numpy.pi/2 )"
      ],
      "execution_count": 0,
      "outputs": [
        {
          "output_type": "execute_result",
          "data": {
            "text/plain": [
              "1.0"
            ]
          },
          "metadata": {
            "tags": []
          },
          "execution_count": 19
        }
      ]
    },
    {
      "cell_type": "markdown",
      "metadata": {
        "id": "XZ2Tp67kN91I",
        "colab_type": "text"
      },
      "source": [
        "We have to write `numpy.` in front of every numpy command so that it knows to find that command defined in `numpy`. To save writing, it is common to use"
      ]
    },
    {
      "cell_type": "code",
      "metadata": {
        "id": "sLxWmaaBN91J",
        "colab_type": "code",
        "colab": {},
        "outputId": "c6acf053-6d45-4914-b0bc-de89cb07e9bf"
      },
      "source": [
        "import numpy as np\n",
        "\n",
        "np.sin( np.pi/2 )"
      ],
      "execution_count": 0,
      "outputs": [
        {
          "output_type": "execute_result",
          "data": {
            "text/plain": [
              "1.0"
            ]
          },
          "metadata": {
            "tags": []
          },
          "execution_count": 20
        }
      ]
    },
    {
      "cell_type": "markdown",
      "metadata": {
        "id": "bvrPe3f2N91P",
        "colab_type": "text"
      },
      "source": [
        "Then you only need the shortened name. Most people use `np`, but you can choose what you like.\n",
        "\n",
        "You can also pull everything straight out of `numpy` with"
      ]
    },
    {
      "cell_type": "code",
      "metadata": {
        "id": "SvkrvHV_N91Q",
        "colab_type": "code",
        "colab": {}
      },
      "source": [
        "from numpy import *"
      ],
      "execution_count": 0,
      "outputs": []
    },
    {
      "cell_type": "markdown",
      "metadata": {
        "id": "8kbbwhHkN91X",
        "colab_type": "text"
      },
      "source": [
        "Then you can use the commands directly. But this can cause packages to mess with each other, so use with caution."
      ]
    },
    {
      "cell_type": "code",
      "metadata": {
        "id": "9tCOV0fLN91Y",
        "colab_type": "code",
        "colab": {},
        "outputId": "909f9aa2-f9cc-4812-c605-d471cb3f021a"
      },
      "source": [
        "sin( pi/2 )"
      ],
      "execution_count": 0,
      "outputs": [
        {
          "output_type": "execute_result",
          "data": {
            "text/plain": [
              "1.0"
            ]
          },
          "metadata": {
            "tags": []
          },
          "execution_count": 22
        }
      ]
    },
    {
      "cell_type": "markdown",
      "metadata": {
        "id": "JX8IjdVrN91d",
        "colab_type": "text"
      },
      "source": [
        "If you want to do trigonometry, linear algebra, etc, you can use `numpy`. For plotting, use `matplotlib`. For graph theory, use `networkx`. For quantum computing, use `qiskit`. For whatever you want, there will probably be a package to help you do it."
      ]
    },
    {
      "cell_type": "markdown",
      "metadata": {
        "id": "l7SghXuWN91e",
        "colab_type": "text"
      },
      "source": [
        "A good thing to know about in any language is how to make a function.\n",
        "\n",
        "Here's a function, whose name was chosen to be `do_some_maths`, whose inputs are named `Input1` and `Input2` and whose output is named `the_answer`."
      ]
    },
    {
      "cell_type": "code",
      "metadata": {
        "id": "hGIVjjqjN91e",
        "colab_type": "code",
        "colab": {}
      },
      "source": [
        "def do_some_maths ( Input1, Input2 ):\n",
        "    the_answer = Input1 + Input2\n",
        "    return the_answer"
      ],
      "execution_count": 0,
      "outputs": []
    },
    {
      "cell_type": "markdown",
      "metadata": {
        "id": "-ye_dmRbN91j",
        "colab_type": "text"
      },
      "source": [
        "It's used as follows"
      ]
    },
    {
      "cell_type": "code",
      "metadata": {
        "id": "PB689c_XN91j",
        "colab_type": "code",
        "colab": {},
        "outputId": "9de3d5a4-74ae-4f1a-877c-28efaa0cff6d"
      },
      "source": [
        "x = do_some_maths(1,72)\n",
        "print(x)"
      ],
      "execution_count": 0,
      "outputs": [
        {
          "output_type": "stream",
          "text": [
            "73\n"
          ],
          "name": "stdout"
        }
      ]
    },
    {
      "cell_type": "markdown",
      "metadata": {
        "id": "8wEpYKSWN91o",
        "colab_type": "text"
      },
      "source": [
        "If you give a function an object, and the function calls a method of that object to alter its state, the effect will persist. So if that's all you want to do, you don't need to `return` anything. For example, let's do it with the `append` method of a list."
      ]
    },
    {
      "cell_type": "code",
      "metadata": {
        "id": "w19dmxkhN91p",
        "colab_type": "code",
        "colab": {}
      },
      "source": [
        "def add_sausages ( input_list ):\n",
        "    if 'sausages' not in input_list:\n",
        "        input_list.append('sausages')"
      ],
      "execution_count": 0,
      "outputs": []
    },
    {
      "cell_type": "code",
      "metadata": {
        "id": "a-dVgKzdN91u",
        "colab_type": "code",
        "colab": {},
        "outputId": "6864354b-7c38-4d69-94ce-414a1d364fbf"
      },
      "source": [
        "print('List before the function')\n",
        "print(a_list)\n",
        "\n",
        "add_sausages(a_list) # function called without an output\n",
        "\n",
        "print('\\nList after the function')\n",
        "print(a_list)"
      ],
      "execution_count": 0,
      "outputs": [
        {
          "output_type": "stream",
          "text": [
            "List before the function\n",
            "[42, 0.5, True, [0, 1], None, 'apple', 3.14]\n",
            "\n",
            "List after the function\n",
            "[42, 0.5, True, [0, 1], None, 'apple', 3.14, 'sausages']\n"
          ],
          "name": "stdout"
        }
      ]
    },
    {
      "cell_type": "markdown",
      "metadata": {
        "id": "2l_KKT0ZN91z",
        "colab_type": "text"
      },
      "source": [
        "Randomness can be generated using the `random` package."
      ]
    },
    {
      "cell_type": "code",
      "metadata": {
        "id": "WmXVAyf4N910",
        "colab_type": "code",
        "colab": {}
      },
      "source": [
        "import random"
      ],
      "execution_count": 0,
      "outputs": []
    },
    {
      "cell_type": "code",
      "metadata": {
        "id": "6-WCncrMN914",
        "colab_type": "code",
        "colab": {},
        "outputId": "f1b9b5a5-07d9-4666-e667-6dec4c14c078"
      },
      "source": [
        "for j in range(5):\n",
        "    print('* Results from sample',j+1)\n",
        "    print('\\n    Random number from 0 to 1:', random.random() )\n",
        "    print(\"\\n    Random choice from our list:\", random.choice( a_list ) )\n",
        "    print('\\n')"
      ],
      "execution_count": 0,
      "outputs": [
        {
          "output_type": "stream",
          "text": [
            "* Results from sample 1\n",
            "\n",
            "    Random number from 0 to 1: 0.24483110888696868\n",
            "\n",
            "    Random choice from our list: [0, 1]\n",
            "\n",
            "\n",
            "* Results from sample 2\n",
            "\n",
            "    Random number from 0 to 1: 0.7426371646254912\n",
            "\n",
            "    Random choice from our list: [0, 1]\n",
            "\n",
            "\n",
            "* Results from sample 3\n",
            "\n",
            "    Random number from 0 to 1: 0.7269519228900921\n",
            "\n",
            "    Random choice from our list: 42\n",
            "\n",
            "\n",
            "* Results from sample 4\n",
            "\n",
            "    Random number from 0 to 1: 0.8707823815722878\n",
            "\n",
            "    Random choice from our list: apple\n",
            "\n",
            "\n",
            "* Results from sample 5\n",
            "\n",
            "    Random number from 0 to 1: 0.2731676546693854\n",
            "\n",
            "    Random choice from our list: True\n",
            "\n",
            "\n"
          ],
          "name": "stdout"
        }
      ]
    },
    {
      "cell_type": "markdown",
      "metadata": {
        "id": "a41c3ZjxN918",
        "colab_type": "text"
      },
      "source": [
        "These are the basics. Now all you need is a search engine, and the intuition to know who is worth listening to on Stack Exchange. Then you can do anything with Python. Your code might not be the most 'Pythonic', but only Pythonistas really care about that."
      ]
    },
    {
      "cell_type": "code",
      "metadata": {
        "id": "5RlM0CTfN919",
        "colab_type": "code",
        "colab": {}
      },
      "source": [
        ""
      ],
      "execution_count": 0,
      "outputs": []
    }
  ]
}