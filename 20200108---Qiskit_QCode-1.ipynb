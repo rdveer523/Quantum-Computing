{
 "cells": [
  {
   "cell_type": "markdown",
   "metadata": {},
   "source": [
    "# 20200108---Qiskit_QCode-1"
   ]
  },
  {
   "cell_type": "markdown",
   "metadata": {},
   "source": [
    "### Checking Which Version is Installed\n",
    "- Since the Qiskit package includes a constellation of different elements, simply printing the version by running qiskit.__version__ can be misleading as it returns only the version for the qiskit-terra package. This is because the qiskit namespace in Python doesn’t come from the Qiskit package, but instead is part of the qiskit-terra package."
   ]
  },
  {
   "cell_type": "code",
   "execution_count": 1,
   "metadata": {},
   "outputs": [],
   "source": [
    "import qiskit"
   ]
  },
  {
   "cell_type": "code",
   "execution_count": 2,
   "metadata": {},
   "outputs": [
    {
     "data": {
      "text/plain": [
       "'0.10.0'"
      ]
     },
     "execution_count": 2,
     "metadata": {},
     "output_type": "execute_result"
    }
   ],
   "source": [
    "qiskit.__version__"
   ]
  },
  {
   "cell_type": "code",
   "execution_count": 3,
   "metadata": {},
   "outputs": [
    {
     "data": {
      "text/plain": [
       "{'qiskit-terra': '0.10.0',\n",
       " 'qiskit-aer': '0.3.2',\n",
       " 'qiskit-ignis': '0.2.0',\n",
       " 'qiskit-ibmq-provider': '0.3.3',\n",
       " 'qiskit-aqua': '0.6.1',\n",
       " 'qiskit': '0.13.0'}"
      ]
     },
     "execution_count": 3,
     "metadata": {},
     "output_type": "execute_result"
    }
   ],
   "source": [
    "qiskit.__qiskit_version__"
   ]
  },
  {
   "cell_type": "markdown",
   "metadata": {},
   "source": [
    "### Tip :\n",
    "- If you’re filing an issue or need to share your installed Qiskit versions for something, use the \n",
    "- __qiskit_version__ attribute"
   ]
  },
  {
   "cell_type": "code",
   "execution_count": 4,
   "metadata": {},
   "outputs": [],
   "source": [
    "import numpy as np\n",
    "from qiskit import(\n",
    "  QuantumCircuit,\n",
    "  execute,\n",
    "  Aer)\n",
    "from qiskit.visualization import plot_histogram\n"
   ]
  },
  {
   "cell_type": "code",
   "execution_count": 5,
   "metadata": {},
   "outputs": [
    {
     "name": "stdout",
     "output_type": "stream",
     "text": [
      "\n",
      "Total count for 00 and 11 are: {'00': 505, '11': 495}\n"
     ]
    },
    {
     "data": {
      "text/html": [
       "<pre style=\"word-wrap: normal;white-space: pre;background: #fff0;line-height: 1.1;font-family: &quot;Courier New&quot;,Courier,monospace\">        ┌───┐     ┌─┐   \n",
       "q_0: |0>┤ H ├──■──┤M├───\n",
       "        └───┘┌─┴─┐└╥┘┌─┐\n",
       "q_1: |0>─────┤ X ├─╫─┤M├\n",
       "             └───┘ ║ └╥┘\n",
       " c_0: 0 ═══════════╩══╬═\n",
       "                      ║ \n",
       " c_1: 0 ══════════════╩═\n",
       "                        </pre>"
      ],
      "text/plain": [
       "<qiskit.visualization.text.TextDrawing at 0xd9ef1c8>"
      ]
     },
     "execution_count": 5,
     "metadata": {},
     "output_type": "execute_result"
    }
   ],
   "source": [
    "# Use Aer's qasm_simulator\n",
    "simulator = Aer.get_backend('qasm_simulator')\n",
    "# what is Aer ?\n",
    "# what is use with Aer.get_backend and to which module this syntax belongs ?\n",
    "# Why you used 'qasm_simulator' ?\n",
    "# finally what you are getting and what you understood from this one line syntax ?\n",
    "# first of all what do you know with the imported modules and what their specifications ?\n",
    "\n",
    "# Create a Quantum Circuit acting on the q register\n",
    "circuit = QuantumCircuit(2, 2)\n",
    "# What is Quantum Circuit and what the difference with classical circuit ?\n",
    "# why it has (2,2) and what is first 2 and last 2 and what will happen if changed the number to 1 or higher than 2 ?\n",
    "# to which module this QuantumCircuit(x,y) belngs ?\n",
    "\n",
    "# Add a H gate on qubit 0\n",
    "circuit.h(0)\n",
    "# This circuit means QuantumCircuit() so now you took the H gate and what is h() gate and its importance ?\n",
    "# how many such gates are there in basic QuantumCircuit() ?\n",
    "# and did you learnt all the gates which are related to any one algoithm (schors, grovers etc..) ?\n",
    "\n",
    "\n",
    "# Add a CX (CNOT) gate on control qubit 0 and target qubit 1\n",
    "circuit.cx(0, 1)\n",
    "# what is CNOT gate ?\n",
    "# in the output you will get X image and are these both same or not. if not then what is the difference ?\n",
    "# cx(0,1) here 0 is control qubit and why its named as control and what it can do the control ?\n",
    "# cx(0,1) here 1 is target qubit and in this syntax only we should put the target qubit or any other syntax do we have ?\n",
    "# finally what we are getting from this syntax ?\n",
    "\n",
    "# Map the quantum measurement to the classical bits\n",
    "circuit.measure([0,1], [0,1])\n",
    "# so this syntax is going to measurement and now what does it mean i mean what is quantum measurement ?\n",
    "# what do you calculating here ?\n",
    "# why [0,1] for 2 times in this syntax ?\n",
    "# finally what we are getting from this syntax ?\n",
    "\n",
    "# Execute the circuit on the qasm simulator\n",
    "job = execute(circuit, simulator, shots=1000)\n",
    "# here look at the first qasm_simulator and this belongs to Aers, here you going to executing in this simulator \n",
    "# How many other simulators are there in Aers and what their uses and whats use did you find with this simulator ?\n",
    "# what does it mean shots and why 1000 and can you use more than 1000 or lower or whats use with this and losses if not ?\n",
    "# finally what we are getting from this syntax ?\n",
    "\n",
    "# Grab results from the job\n",
    "result = job.result()\n",
    "\n",
    "# Returns counts\n",
    "counts = result.get_counts(circuit)\n",
    "print(\"\\nTotal count for 00 and 11 are:\",counts)\n",
    "# did you see that the output of counts is in DICTIONARY format and why and 00, 11 and why not 01 and 10 ?\n",
    "# finally what we are getting from this syntax ?\n",
    "\n",
    "# Draw the circuit\n",
    "circuit.draw()"
   ]
  },
  {
   "cell_type": "code",
   "execution_count": 6,
   "metadata": {},
   "outputs": [
    {
     "data": {
      "image/png": "[encoded data removed]",
      "text/plain": [
       "<Figure size 504x360 with 1 Axes>"
      ]
     },
     "execution_count": 6,
     "metadata": {},
     "output_type": "execute_result"
    }
   ],
   "source": [
    "# Plot a histogram\n",
    "import matplotlib.pyplot as plt\n",
    "plot_histogram(counts)"
   ]
  },
  {
   "cell_type": "markdown",
   "metadata": {},
   "source": [
    "# Work Flow Step-by-Step\n",
    "- to understand the above program then do the steps as \n",
    "    - Import packages (no need if already imported)\n",
    "    - Initialize the variables\n",
    "    - Add gates\n",
    "    - Visualize the circuit\n",
    "    - Simulate the experiment\n",
    "    - Visualize the result"
   ]
  },
  {
   "cell_type": "code",
   "execution_count": 7,
   "metadata": {},
   "outputs": [],
   "source": [
    "# Step:2 - Initialize the variabels\n",
    "circt = QuantumCircuit(2, 2)\n",
    "# syntax = QuantumCircuit(int,int)\n",
    "# Here, you are initializing with 2 qubits in the zero state; with 2 classical bits set to zero; and\n",
    "# circuit is the quantum circuit.\n"
   ]
  },
  {
   "cell_type": "code",
   "execution_count": 8,
   "metadata": {},
   "outputs": [
    {
     "data": {
      "text/plain": [
       "<qiskit.circuit.instructionset.InstructionSet at 0x13cf22c8>"
      ]
     },
     "execution_count": 8,
     "metadata": {},
     "output_type": "execute_result"
    }
   ],
   "source": [
    "# Step:3 - Add gates\n",
    "# gates (operations) are to manipulates the registers of your circuit\n",
    "# consider the three lines code\n",
    "circt.h(0)\n",
    "circt.cx(0,1)\n",
    "circt.measure([0,1],[0,1])"
   ]
  },
  {
   "cell_type": "markdown",
   "metadata": {},
   "source": [
    "- In the above three line code - The gates are added to the circuit one-by-one to form the Bell state\n",
    "- |psi> = (|00>+|11>)/sqrt(2)\n",
    "- The code above applies the following gates:\n",
    "- QuantumCircuit.h(0) : A Hadamard gate (H) on qubit 0, which puts it into a \"superposition state.\"\n",
    "- QuantumCircuit.cx(0, 1) : A controlled-Not operation (Cx) on control qubit 0 and target qubit 1, putting the qubits in an \"entangled state.\"\n",
    "- QuantumCircuit.measure([0,1], [0,1]) : if you pass the entire quantum and classical registers to measure , the ith  qubit’s measurement result will be stored in the ith classical bit."
   ]
  },
  {
   "cell_type": "code",
   "execution_count": 9,
   "metadata": {},
   "outputs": [
    {
     "data": {
      "text/html": [
       "<pre style=\"word-wrap: normal;white-space: pre;background: #fff0;line-height: 1.1;font-family: &quot;Courier New&quot;,Courier,monospace\">        ┌───┐     ┌─┐   \n",
       "q_0: |0>┤ H ├──■──┤M├───\n",
       "        └───┘┌─┴─┐└╥┘┌─┐\n",
       "q_1: |0>─────┤ X ├─╫─┤M├\n",
       "             └───┘ ║ └╥┘\n",
       " c_0: 0 ═══════════╩══╬═\n",
       "                      ║ \n",
       " c_1: 0 ══════════════╩═\n",
       "                        </pre>"
      ],
      "text/plain": [
       "<qiskit.visualization.text.TextDrawing at 0x13cf2888>"
      ]
     },
     "execution_count": 9,
     "metadata": {},
     "output_type": "execute_result"
    }
   ],
   "source": [
    "# Step4: Visualize the circuit\n",
    "# You can use QuantumCircuit.draw() to view the circuit that you have designed in the \n",
    "# various forms used in many textbooks and research articles.\n",
    "circt.draw()"
   ]
  },
  {
   "cell_type": "markdown",
   "metadata": {},
   "source": [
    "- In this circuit, the qubits are ordered with qubit zero at the top and qubit one at the bottom. The circuit is read left-to-right, meaning that gates which are applied earlier in the circuit show up farther to the left.\n",
    "\n",
    "- The default backend for QuantumCircuit.draw() or \"qiskit.visualization.circuit_drawer()\" is the text backend. However, depending on your local environment you may want to change these defaults to something better suited for your use case. This is done with the user config file.\n",
    "- By default the config file should be located in ~/.qiskit/settings.conf and is a .ini file\n",
    "\n",
    "    - for example a settings.conf file for setting a Matplotlib drawer is \n",
    "    - [default]\n",
    "    - circuit_drawer = mpl\n",
    "    \n",
    "- You can use any of the valid circuit drawer backends as the value for this config, this includes text, mpl, latex, and latex_source.    "
   ]
  },
  {
   "cell_type": "code",
   "execution_count": 10,
   "metadata": {},
   "outputs": [
    {
     "name": "stdout",
     "output_type": "stream",
     "text": [
      "\n",
      "Total count for 00 and 11 are: {'00': 498, '11': 502}\n"
     ]
    }
   ],
   "source": [
    "# STep:5 - Simulate the experiment \n",
    "# Qiskit Aer is a high performance simulator framework for quantum circuits. \n",
    "# It provides several backends to achieve different simulation goals.\n",
    "# If you have issues installing Aer, you can alternatively use the Basic Aer provider\n",
    "# by replacing Aer with BasicAer. Basic Aer is included in Qiskit Terra.\n",
    "# import numpy as np\n",
    "# from qiskit import(QuantumCircuit,execute,BasicAer)\n",
    "# To simulate this circuit, you will use the qasm_simulator . Each run of this circuit\n",
    "# will yield either the bit string 00 or 11.\n",
    "simulator = Aer.get_backend('qasm_simulator')\n",
    "job = execute(circuit, simulator, shots=1000)\n",
    "result = job.result()\n",
    "counts = result.get_counts(circuit)\n",
    "print(\"\\nTotal count for 00 and 11 are:\",counts)"
   ]
  },
  {
   "cell_type": "markdown",
   "metadata": {},
   "source": [
    "- As expected, the output bit string is 00 approximately 50 percent of the time. The number of times the circuit is run can be specified  via the 'shots' argument o the execute method. The number of shots of the simulation was set to be 1000 (the default is 1024).\n",
    "\n",
    "- Once you have a 'result' object, you can access the counts via the method 'get_counts(circuit)' . This gives you the aggregate outcomes of the experiment you ran."
   ]
  },
  {
   "cell_type": "code",
   "execution_count": 11,
   "metadata": {},
   "outputs": [
    {
     "data": {
      "image/png": "[encoded data removed]",
      "text/plain": [
       "<Figure size 504x360 with 1 Axes>"
      ]
     },
     "execution_count": 11,
     "metadata": {},
     "output_type": "execute_result"
    }
   ],
   "source": [
    "# Step:6 - visualize the results\n",
    "# Qiskit provides many visualizations, including the function \"plot_histogram\" , to view your results.\n",
    "plot_histogram(counts)"
   ]
  },
  {
   "cell_type": "markdown",
   "metadata": {},
   "source": [
    "- The observed probabilities Pr(00) and Pr(11) are computed by taking the respective counts and dividing by the total number of shots.\n",
    "\n",
    "- Note\n",
    "    - Try changing the \"shots\" keyword in the \"execute\" method to see how the estimated probabilities change."
   ]
  },
  {
   "cell_type": "code",
   "execution_count": 12,
   "metadata": {},
   "outputs": [],
   "source": [
    "# -------------------------------- END ------------------------------"
   ]
  },
  {
   "cell_type": "markdown",
   "metadata": {},
   "source": [
    "# Next Steps\n",
    "\n",
    "Now that you have learnt the basics, consider these learning resources:\n",
    "\n",
    "Notebook tutorials\n",
    "Video tutorials\n",
    "API References"
   ]
  },
  {
   "cell_type": "code",
   "execution_count": null,
   "metadata": {},
   "outputs": [],
   "source": []
  }
 ],
 "metadata": {
  "kernelspec": {
   "display_name": "Python 3",
   "language": "python",
   "name": "python3"
  },
  "language_info": {
   "codemirror_mode": {
    "name": "ipython",
    "version": 3
   },
   "file_extension": ".py",
   "mimetype": "text/x-python",
   "name": "python",
   "nbconvert_exporter": "python",
   "pygments_lexer": "ipython3",
   "version": "3.7.4"
  }
 },
 "nbformat": 4,
 "nbformat_minor": 2
}
