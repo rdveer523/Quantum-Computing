{
 "cells": [
  {
   "cell_type": "markdown",
   "metadata": {},
   "source": [
    "# Om\n",
    "# 20191108---3.2_Basic_Operations_on_Quantum_Objects\n",
    "\n",
    "## QuTiP\n",
    "\n",
    "### User Guide\n",
    "- (http://qutip.org/docs/4.1/guide/guide.html)\n",
    "\n",
    "    -3.2 Basic Operations on Quantum Objects (Upto 20 pages in qutip doc book)\n",
    "        -3.2.1 First things first\n",
    "        -3.2.2 The quantum object class\n",
    "        -3.2.3 Functions operating on Qobj class\n"
   ]
  },
  {
   "cell_type": "markdown",
   "metadata": {},
   "source": [
    "### 3.2 Basic Operations on Quantum Objects\n",
    "\n",
    "#### 3.2.1 First things first\n",
    "- Warning: Do not run QuTiP from the installation directory.\n",
    "- To load the qutip modules, we must first call the import statement:"
   ]
  },
  {
   "cell_type": "code",
   "execution_count": 1,
   "metadata": {},
   "outputs": [],
   "source": [
    "from qutip import *"
   ]
  },
  {
   "cell_type": "markdown",
   "metadata": {},
   "source": [
    "that will load all of the user available functions. Often, we also need to import the NumPy and Matplotlib libraries\n",
    "with:"
   ]
  },
  {
   "cell_type": "code",
   "execution_count": 2,
   "metadata": {},
   "outputs": [],
   "source": [
    "import numpy as np\n",
    "import matplotlib.pyplot as plt"
   ]
  },
  {
   "cell_type": "markdown",
   "metadata": {},
   "source": [
    "Note that, in the rest of the documentation, functions are written using -- qutip.module.function() -- notation which\n",
    "links to the corresponding function in the -- QuTiP API: Functions. -- However, in calling import *, we have already\n",
    "loaded all of the QuTiP modules. Therefore, we will only need the function name and not the complete path when\n",
    "calling the function from the interpreter prompt, Python script, or Jupyter notebook."
   ]
  },
  {
   "cell_type": "markdown",
   "metadata": {},
   "source": [
    "### 3.2.2 The quantum object class\n",
    "##### Introduction\n",
    "\n",
    "- The key difference between classical and quantum mechanics lies in the use of operators instead of numbers as variables.\n",
    "- Moreover, we need to specify state vectors and their properties. \n",
    "- Therefore, in computing the dynamics of quantum systems we need a data structure that is capable of encapsulating the properties of a quantum operator and ket/bra vectors. \n",
    "- The quantum object class, qutip.Qobj, accomplishes this using matrix representation.\n",
    "\n",
    "To begin, let us create a blank Qobj:"
   ]
  },
  {
   "cell_type": "code",
   "execution_count": 3,
   "metadata": {},
   "outputs": [
    {
     "data": {
      "text/latex": [
       "Quantum object: dims = [[1], [1]], shape = (1, 1), type = bra\\begin{equation*}\\left(\\begin{array}{*{11}c}0.0\\\\\\end{array}\\right)\\end{equation*}"
      ],
      "text/plain": [
       "Quantum object: dims = [[1], [1]], shape = (1, 1), type = bra\n",
       "Qobj data =\n",
       "[[0.]]"
      ]
     },
     "execution_count": 3,
     "metadata": {},
     "output_type": "execute_result"
    }
   ],
   "source": [
    "Qobj()"
   ]
  },
  {
   "cell_type": "markdown",
   "metadata": {},
   "source": [
    "where we see the blank Qobj object with dimensions, shape, and data. Here the data corresponds to a 1x1- dimensional matrix consisting of a single zero entry.\n",
    "\n",
    "Hint: By convention, Class objects in Python such as Qobj() differ from functions in the use of a beginning capital letter.\n",
    "\n",
    "We can create a Qobj with a user defined data set by passing a list or array of data into the Qobj:"
   ]
  },
  {
   "cell_type": "code",
   "execution_count": 4,
   "metadata": {},
   "outputs": [
    {
     "data": {
      "text/latex": [
       "Quantum object: dims = [[6], [1]], shape = (6, 1), type = ket\\begin{equation*}\\left(\\begin{array}{*{11}c}1.0\\\\2.0\\\\3.0\\\\4.0\\\\5.0\\\\6.0\\\\\\end{array}\\right)\\end{equation*}"
      ],
      "text/plain": [
       "Quantum object: dims = [[6], [1]], shape = (6, 1), type = ket\n",
       "Qobj data =\n",
       "[[1.]\n",
       " [2.]\n",
       " [3.]\n",
       " [4.]\n",
       " [5.]\n",
       " [6.]]"
      ]
     },
     "execution_count": 4,
     "metadata": {},
     "output_type": "execute_result"
    }
   ],
   "source": [
    "# Just Observe the difference between with print() and without\n",
    "Qobj([[1],[2],[3],[4],[5],[6]])"
   ]
  },
  {
   "cell_type": "code",
   "execution_count": 5,
   "metadata": {},
   "outputs": [
    {
     "name": "stdout",
     "output_type": "stream",
     "text": [
      "Quantum object: dims = [[6], [1]], shape = (6, 1), type = ket\n",
      "Qobj data =\n",
      "[[1.]\n",
      " [2.]\n",
      " [3.]\n",
      " [4.]\n",
      " [5.]\n",
      " [6.]]\n"
     ]
    }
   ],
   "source": [
    "print(Qobj([[1],[2],[3],[4],[5],[6]]))"
   ]
  },
  {
   "cell_type": "code",
   "execution_count": 6,
   "metadata": {},
   "outputs": [
    {
     "data": {
      "text/latex": [
       "Quantum object: dims = [[1], [5]], shape = (1, 5), type = bra\\begin{equation*}\\left(\\begin{array}{*{11}c}1.0 & 2.0 & 3.0 & 4.0 & 5.0\\\\\\end{array}\\right)\\end{equation*}"
      ],
      "text/plain": [
       "Quantum object: dims = [[1], [5]], shape = (1, 5), type = bra\n",
       "Qobj data =\n",
       "[[1. 2. 3. 4. 5.]]"
      ]
     },
     "execution_count": 6,
     "metadata": {},
     "output_type": "execute_result"
    }
   ],
   "source": [
    "Qobj(np.array([[1,2,3,4,5]]))"
   ]
  },
  {
   "cell_type": "code",
   "execution_count": 7,
   "metadata": {},
   "outputs": [
    {
     "name": "stdout",
     "output_type": "stream",
     "text": [
      "Quantum object: dims = [[1], [5]], shape = (1, 5), type = bra\n",
      "Qobj data =\n",
      "[[1. 2. 3. 4. 5.]]\n"
     ]
    }
   ],
   "source": [
    "print(Qobj(np.array([[1,2,3,4,5]])))"
   ]
  },
  {
   "cell_type": "markdown",
   "metadata": {},
   "source": [
    "Here in the above we can see the dims, shape, type and \n",
    "- what all these called.? and why these are different from actual python.?"
   ]
  },
  {
   "cell_type": "code",
   "execution_count": 8,
   "metadata": {},
   "outputs": [
    {
     "data": {
      "text/latex": [
       "Quantum object: dims = [[5], [5]], shape = (5, 5), type = oper, isherm = False\\begin{equation*}\\left(\\begin{array}{*{11}c}0.713 & 0.649 & 0.492 & 0.530 & 0.544\\\\0.886 & 0.716 & 0.572 & 0.925 & 0.847\\\\0.736 & 0.252 & 0.683 & 0.720 & 0.608\\\\0.660 & 0.257 & 0.176 & 0.743 & 0.353\\\\0.084 & 0.374 & 0.656 & 0.332 & 0.836\\\\\\end{array}\\right)\\end{equation*}"
      ],
      "text/plain": [
       "Quantum object: dims = [[5], [5]], shape = (5, 5), type = oper, isherm = False\n",
       "Qobj data =\n",
       "[[0.71262057 0.64909788 0.49211159 0.53010348 0.54372417]\n",
       " [0.88581286 0.71637059 0.57209697 0.92517005 0.846643  ]\n",
       " [0.73628169 0.2519392  0.68319367 0.72000658 0.60775852]\n",
       " [0.66024527 0.25705422 0.176366   0.74336251 0.35314653]\n",
       " [0.08411413 0.37424147 0.65574553 0.33166815 0.83620843]]"
      ]
     },
     "execution_count": 8,
     "metadata": {},
     "output_type": "execute_result"
    }
   ],
   "source": [
    "# random\n",
    "Qobj(np.random.rand(5,5))"
   ]
  },
  {
   "cell_type": "markdown",
   "metadata": {},
   "source": [
    "Here \n",
    "- What is type called OPERATOR ?\n",
    "- What is isherm and is False ?"
   ]
  },
  {
   "cell_type": "markdown",
   "metadata": {},
   "source": [
    "Notice how both the dims and shape change according to the input data. Although dims and shape appear to have the same function, the difference will become quite clear in the section on tensor products and partial traces.\n",
    "\n",
    "Note: If you are running QuTiP from a python script you must use the print function to view the Qobj attributes."
   ]
  },
  {
   "cell_type": "markdown",
   "metadata": {},
   "source": [
    "Next topic is about \n",
    "- Quantum States and Quantum Operators (States and Operators)"
   ]
  },
  {
   "cell_type": "code",
   "execution_count": null,
   "metadata": {},
   "outputs": [],
   "source": []
  },
  {
   "cell_type": "code",
   "execution_count": null,
   "metadata": {},
   "outputs": [],
   "source": []
  },
  {
   "cell_type": "code",
   "execution_count": null,
   "metadata": {},
   "outputs": [],
   "source": []
  },
  {
   "cell_type": "code",
   "execution_count": null,
   "metadata": {},
   "outputs": [],
   "source": []
  }
 ],
 "metadata": {
  "kernelspec": {
   "display_name": "Python 3",
   "language": "python",
   "name": "python3"
  },
  "language_info": {
   "codemirror_mode": {
    "name": "ipython",
    "version": 3
   },
   "file_extension": ".py",
   "mimetype": "text/x-python",
   "name": "python",
   "nbconvert_exporter": "python",
   "pygments_lexer": "ipython3",
   "version": "3.7.4"
  }
 },
 "nbformat": 4,
 "nbformat_minor": 2
}
