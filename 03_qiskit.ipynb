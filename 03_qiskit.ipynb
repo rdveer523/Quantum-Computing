{
  "nbformat": 4,
  "nbformat_minor": 0,
  "metadata": {
    "kernelspec": {
      "display_name": "Python 3",
      "language": "python",
      "name": "python3"
    },
    "language_info": {
      "codemirror_mode": {
        "name": "ipython",
        "version": 3
      },
      "file_extension": ".py",
      "mimetype": "text/x-python",
      "name": "python",
      "nbconvert_exporter": "python",
      "pygments_lexer": "ipython3",
      "version": "3.7.6"
    },
    "colab": {
      "name": "03-qiskit.ipynb",
      "provenance": [],
      "include_colab_link": true
    }
  },
  "cells": [
    {
      "cell_type": "markdown",
      "metadata": {
        "id": "view-in-github",
        "colab_type": "text"
      },
      "source": [
        "<a href=\"https://colab.research.google.com/github/rveerag567/Quantum-Computing/blob/master/03_qiskit.ipynb\" target=\"_parent\"><img src=\"https://colab.research.google.com/assets/colab-badge.svg\" alt=\"Open In Colab\"/></a>"
      ]
    },
    {
      "cell_type": "markdown",
      "metadata": {
        "id": "QtZywW8rRil6",
        "colab_type": "text"
      },
      "source": [
        "# Basic Qiskit Syntax"
      ]
    },
    {
      "cell_type": "markdown",
      "metadata": {
        "id": "0FQARnvfRil9",
        "colab_type": "text"
      },
      "source": [
        "### Installation\n",
        "\n",
        "Qiskit is a package in Python for doing everything you'll ever need with quantum computing.\n",
        "\n",
        "If you don't have it already, you need to install it. Once it is installed, you need to import it.\n",
        "\n",
        "There are generally two steps to installing Qiskit. The first one is to install Anaconda, a python package that comes with almost all dependencies that you will ever need. Once you've done this, Qiskit can then be installed by running the command \n",
        "```\n",
        "pip install qiskit\n",
        "```\n",
        "in your terminal. For detailed installation instructions, refer to [the documentation page here](https://qiskit.org/documentation/install.html).\n",
        "\n",
        "**Note: The rest of this section is intended for people who already know the fundamental concepts of quantum computing.** It can be used by readers who wish to skip straight to the later chapters in which those concepts are put to use. All other readers should read the [Introduction to Python and Jupyter notebooks](../ch-prerequisites/python-and-jupyter-notebooks.html), and then move on directly to the start of [Chapter 1](../ch-states/introduction.html)."
      ]
    },
    {
      "cell_type": "markdown",
      "metadata": {
        "id": "vuZnhMS5Ril_",
        "colab_type": "text"
      },
      "source": [
        "### Quantum circuits"
      ]
    },
    {
      "cell_type": "code",
      "metadata": {
        "id": "yhDpmsWERimB",
        "colab_type": "code",
        "colab": {}
      },
      "source": [
        "from qiskit import *\n",
        "%config InlineBackend.figure_format = 'svg' # Makes the images look nice"
      ],
      "execution_count": 0,
      "outputs": []
    },
    {
      "cell_type": "markdown",
      "metadata": {
        "id": "YKWrG7UMRimL",
        "colab_type": "text"
      },
      "source": [
        "The object at the heart of Qiskit is the quantum circuit. Here's how we create one, which we will call `qc`"
      ]
    },
    {
      "cell_type": "code",
      "metadata": {
        "id": "5Tc2TB5oRimN",
        "colab_type": "code",
        "colab": {}
      },
      "source": [
        "qc = QuantumCircuit()"
      ],
      "execution_count": 0,
      "outputs": []
    },
    {
      "cell_type": "markdown",
      "metadata": {
        "id": "DF_jh1NKRimU",
        "colab_type": "text"
      },
      "source": [
        "This circuit is currently completely empty, with no qubits and no outputs."
      ]
    },
    {
      "cell_type": "markdown",
      "metadata": {
        "id": "DyNIAf2uRimW",
        "colab_type": "text"
      },
      "source": [
        "### Quantum registers"
      ]
    },
    {
      "cell_type": "markdown",
      "metadata": {
        "id": "PCbLmW87RimX",
        "colab_type": "text"
      },
      "source": [
        "To make the circuit less trivial, we need to define a register of qubits. This is done using a `QuantumRegister` object. For example, let's define a register consisting of two qubits and call it `qr`."
      ]
    },
    {
      "cell_type": "code",
      "metadata": {
        "id": "eXAw50lYRimZ",
        "colab_type": "code",
        "colab": {}
      },
      "source": [
        "qr = QuantumRegister(2,'qreg')"
      ],
      "execution_count": 0,
      "outputs": []
    },
    {
      "cell_type": "markdown",
      "metadata": {
        "id": "XXgY0OS1Rimf",
        "colab_type": "text"
      },
      "source": [
        "Giving it a name like `'qreg'` is optional.\n",
        "\n",
        "Now we can add it to the circuit using the `add_register` method, and see that it has been added by checking the `qregs` variable of the circuit object."
      ]
    },
    {
      "cell_type": "code",
      "metadata": {
        "id": "8qIqZ3QuRimh",
        "colab_type": "code",
        "colab": {},
        "outputId": "8a06b1fc-9613-4437-ecc4-d2e7f749a5b1"
      },
      "source": [
        "qc.add_register( qr )\n",
        "\n",
        "qc.qregs"
      ],
      "execution_count": 0,
      "outputs": [
        {
          "output_type": "execute_result",
          "data": {
            "text/plain": [
              "[QuantumRegister(2, 'qreg')]"
            ]
          },
          "metadata": {
            "tags": []
          },
          "execution_count": 4
        }
      ]
    },
    {
      "cell_type": "markdown",
      "metadata": {
        "id": "XRLia0qTRimq",
        "colab_type": "text"
      },
      "source": [
        "Now our circuit has some qubits, we can use another attribute of the circuit to see what it looks like: `draw()` ."
      ]
    },
    {
      "cell_type": "code",
      "metadata": {
        "id": "1-fKteNRRimv",
        "colab_type": "code",
        "colab": {},
        "outputId": "25e84daf-72a4-4a1c-e855-fda77bbb6aaa"
      },
      "source": [
        "qc.draw(output='mpl')"
      ],
      "execution_count": 0,
      "outputs": [
        {
          "output_type": "execute_result",
          "data": {
            "image/svg+xml": "<?xml version=\"1.0\" encoding=\"utf-8\" standalone=\"no\"?>\n<!DOCTYPE svg PUBLIC \"-//W3C//DTD SVG 1.1//EN\"\n  \"http://www.w3.org/Graphics/SVG/1.1/DTD/svg11.dtd\">\n<!-- Created with matplotlib (https://matplotlib.org/) -->\n<svg height=\"123.4824pt\" version=\"1.1\" viewBox=\"0 0 173.4785 123.4824\" width=\"173.4785pt\" xmlns=\"http://www.w3.org/2000/svg\" xmlns:xlink=\"http://www.w3.org/1999/xlink\">\n <defs>\n  <style type=\"text/css\">\n*{stroke-linecap:butt;stroke-linejoin:round;}\n  </style>\n </defs>\n <g id=\"figure_1\">\n  <g id=\"patch_1\">\n   <path d=\"M 0 123.4824 \nL 173.4785 123.4824 \nL 173.4785 0 \nL 0 0 \nz\n\" style=\"fill:#ffffff;\"/>\n  </g>\n  <g id=\"axes_1\">\n   <g id=\"line2d_1\">\n    <path clip-path=\"url(#p3c0d0d4511)\" d=\"M 139.0079 43.5608 \nL 161.7334 43.5608 \n\" style=\"fill:none;stroke:#000000;stroke-linecap:square;stroke-width:2;\"/>\n   </g>\n   <g id=\"line2d_2\">\n    <path clip-path=\"url(#p3c0d0d4511)\" d=\"M 139.0079 89.0118 \nL 161.7334 89.0118 \n\" style=\"fill:none;stroke:#000000;stroke-linecap:square;stroke-width:2;\"/>\n   </g>\n   <g id=\"text_1\">\n    <g clip-path=\"url(#p3c0d0d4511)\">\n     <!-- ${qreg}_{0}$ -->\n     <defs>\n      <path d=\"M 41.703125 8.203125 \nQ 38.09375 3.46875 33.171875 1.015625 \nQ 28.265625 -1.421875 22.3125 -1.421875 \nQ 14.015625 -1.421875 9.296875 4.171875 \nQ 4.59375 9.765625 4.59375 19.578125 \nQ 4.59375 27.484375 7.5 34.859375 \nQ 10.40625 42.234375 15.828125 48.09375 \nQ 19.34375 51.90625 23.90625 53.953125 \nQ 28.46875 56 33.5 56 \nQ 39.546875 56 43.453125 53.609375 \nQ 47.359375 51.21875 49.125 46.390625 \nL 50.6875 54.59375 \nL 59.71875 54.59375 \nL 45.125 -20.609375 \nL 36.078125 -20.609375 \nz\nM 13.921875 20.90625 \nQ 13.921875 13.671875 16.9375 9.890625 \nQ 19.96875 6.109375 25.6875 6.109375 \nQ 34.1875 6.109375 40.1875 14.234375 \nQ 46.1875 22.359375 46.1875 33.984375 \nQ 46.1875 41.015625 43.078125 44.75 \nQ 39.984375 48.484375 34.1875 48.484375 \nQ 29.9375 48.484375 26.3125 46.5 \nQ 22.703125 44.53125 20.015625 40.71875 \nQ 17.1875 36.71875 15.546875 31.34375 \nQ 13.921875 25.984375 13.921875 20.90625 \nz\n\" id=\"DejaVuSans-Oblique-113\"/>\n      <path d=\"M 44.578125 46.390625 \nQ 43.21875 47.125 41.453125 47.515625 \nQ 39.703125 47.90625 37.703125 47.90625 \nQ 30.515625 47.90625 25.140625 42.453125 \nQ 19.78125 37.015625 18.015625 27.875 \nL 12.5 0 \nL 3.515625 0 \nL 14.203125 54.6875 \nL 23.1875 54.6875 \nL 21.484375 46.1875 \nQ 25.046875 50.921875 30 53.453125 \nQ 34.96875 56 40.578125 56 \nQ 42.046875 56 43.453125 55.828125 \nQ 44.875 55.671875 46.296875 55.28125 \nz\n\" id=\"DejaVuSans-Oblique-114\"/>\n      <path d=\"M 48.09375 32.234375 \nQ 48.25 33.015625 48.3125 33.84375 \nQ 48.390625 34.671875 48.390625 35.5 \nQ 48.390625 41.453125 44.890625 44.921875 \nQ 41.40625 48.390625 35.40625 48.390625 \nQ 28.71875 48.390625 23.578125 44.15625 \nQ 18.453125 39.9375 15.828125 32.171875 \nz\nM 55.90625 25.203125 \nL 14.109375 25.203125 \nQ 13.8125 23.34375 13.71875 22.265625 \nQ 13.625 21.1875 13.625 20.40625 \nQ 13.625 13.625 17.796875 9.90625 \nQ 21.96875 6.203125 29.59375 6.203125 \nQ 35.453125 6.203125 40.671875 7.515625 \nQ 45.90625 8.84375 50.390625 11.375 \nL 48.6875 2.484375 \nQ 43.84375 0.53125 38.6875 -0.4375 \nQ 33.546875 -1.421875 28.21875 -1.421875 \nQ 16.84375 -1.421875 10.71875 4.015625 \nQ 4.59375 9.46875 4.59375 19.484375 \nQ 4.59375 28.03125 7.640625 35.375 \nQ 10.6875 42.71875 16.609375 48.484375 \nQ 20.40625 52.09375 25.65625 54.046875 \nQ 30.90625 56 36.8125 56 \nQ 46.09375 56 51.578125 50.4375 \nQ 57.078125 44.875 57.078125 35.5 \nQ 57.078125 33.25 56.78125 30.6875 \nQ 56.5 28.125 55.90625 25.203125 \nz\n\" id=\"DejaVuSans-Oblique-101\"/>\n      <path d=\"M 59.625 54.6875 \nL 50.296875 6.78125 \nQ 47.609375 -7.125 40.015625 -13.953125 \nQ 32.421875 -20.796875 19.578125 -20.796875 \nQ 14.84375 -20.796875 10.78125 -20.09375 \nQ 6.734375 -19.390625 3.21875 -17.921875 \nL 4.890625 -9.1875 \nQ 8.203125 -11.328125 11.90625 -12.34375 \nQ 15.625 -13.375 19.828125 -13.375 \nQ 28.375 -13.375 33.859375 -8.703125 \nQ 39.359375 -4.046875 41.109375 4.6875 \nL 41.890625 8.796875 \nQ 38.140625 4.5 33.15625 2.25 \nQ 28.171875 0 22.40625 0 \nQ 14.109375 0 9.34375 5.484375 \nQ 4.59375 10.984375 4.59375 20.609375 \nQ 4.59375 28.171875 7.46875 35.421875 \nQ 10.359375 42.671875 15.578125 48.296875 \nQ 19.046875 52 23.65625 54 \nQ 28.265625 56 33.296875 56 \nQ 38.8125 56 42.90625 53.4375 \nQ 47.015625 50.875 49.03125 46.1875 \nL 50.59375 54.6875 \nz\nM 46.09375 34.625 \nQ 46.09375 41.265625 42.96875 44.875 \nQ 39.84375 48.484375 34.078125 48.484375 \nQ 30.515625 48.484375 27.296875 47.0625 \nQ 24.078125 45.65625 21.78125 43.109375 \nQ 18.0625 38.921875 15.984375 33.234375 \nQ 13.921875 27.546875 13.921875 21.484375 \nQ 13.921875 14.75 17.0625 11.125 \nQ 20.21875 7.515625 26.125 7.515625 \nQ 34.671875 7.515625 40.375 15.25 \nQ 46.09375 23 46.09375 34.625 \nz\n\" id=\"DejaVuSans-Oblique-103\"/>\n      <path d=\"M 31.78125 66.40625 \nQ 24.171875 66.40625 20.328125 58.90625 \nQ 16.5 51.421875 16.5 36.375 \nQ 16.5 21.390625 20.328125 13.890625 \nQ 24.171875 6.390625 31.78125 6.390625 \nQ 39.453125 6.390625 43.28125 13.890625 \nQ 47.125 21.390625 47.125 36.375 \nQ 47.125 51.421875 43.28125 58.90625 \nQ 39.453125 66.40625 31.78125 66.40625 \nz\nM 31.78125 74.21875 \nQ 44.046875 74.21875 50.515625 64.515625 \nQ 56.984375 54.828125 56.984375 36.375 \nQ 56.984375 17.96875 50.515625 8.265625 \nQ 44.046875 -1.421875 31.78125 -1.421875 \nQ 19.53125 -1.421875 13.0625 8.265625 \nQ 6.59375 17.96875 6.59375 36.375 \nQ 6.59375 54.828125 13.0625 64.515625 \nQ 19.53125 74.21875 31.78125 74.21875 \nz\n\" id=\"DejaVuSans-48\"/>\n     </defs>\n     <g transform=\"translate(71.2699 48.011777)scale(0.1625 -0.1625)\">\n      <use xlink:href=\"#DejaVuSans-Oblique-113\"/>\n      <use transform=\"translate(63.476562 0)\" xlink:href=\"#DejaVuSans-Oblique-114\"/>\n      <use transform=\"translate(104.589844 0)\" xlink:href=\"#DejaVuSans-Oblique-101\"/>\n      <use transform=\"translate(166.113281 0)\" xlink:href=\"#DejaVuSans-Oblique-103\"/>\n      <use transform=\"translate(229.589844 -16.40625)scale(0.7)\" xlink:href=\"#DejaVuSans-48\"/>\n     </g>\n    </g>\n   </g>\n   <g id=\"text_2\">\n    <g clip-path=\"url(#p3c0d0d4511)\">\n     <!-- ${qreg}_{1}$ -->\n     <defs>\n      <path d=\"M 12.40625 8.296875 \nL 28.515625 8.296875 \nL 28.515625 63.921875 \nL 10.984375 60.40625 \nL 10.984375 69.390625 \nL 28.421875 72.90625 \nL 38.28125 72.90625 \nL 38.28125 8.296875 \nL 54.390625 8.296875 \nL 54.390625 0 \nL 12.40625 0 \nz\n\" id=\"DejaVuSans-49\"/>\n     </defs>\n     <g transform=\"translate(71.2699 93.462777)scale(0.1625 -0.1625)\">\n      <use xlink:href=\"#DejaVuSans-Oblique-113\"/>\n      <use transform=\"translate(63.476562 0)\" xlink:href=\"#DejaVuSans-Oblique-114\"/>\n      <use transform=\"translate(104.589844 0)\" xlink:href=\"#DejaVuSans-Oblique-101\"/>\n      <use transform=\"translate(166.113281 0)\" xlink:href=\"#DejaVuSans-Oblique-103\"/>\n      <use transform=\"translate(229.589844 -16.40625)scale(0.7)\" xlink:href=\"#DejaVuSans-49\"/>\n     </g>\n    </g>\n   </g>\n  </g>\n </g>\n <defs>\n  <clipPath id=\"p3c0d0d4511\">\n   <rect height=\"109.0824\" width=\"159.0785\" x=\"7.2\" y=\"7.2\"/>\n  </clipPath>\n </defs>\n</svg>\n",
            "text/plain": [
              "<Figure size 210.7x144.48 with 1 Axes>"
            ]
          },
          "metadata": {
            "tags": []
          },
          "execution_count": 5
        }
      ]
    },
    {
      "cell_type": "markdown",
      "metadata": {
        "id": "msosYPB2Rim5",
        "colab_type": "text"
      },
      "source": [
        "Our qubits are ready to begin their journey, but are currently just sitting there in state $\\left|0\\right\\rangle$."
      ]
    },
    {
      "cell_type": "markdown",
      "metadata": {
        "id": "DZ4Iw1QMRim6",
        "colab_type": "text"
      },
      "source": [
        "#### Applying Gates"
      ]
    },
    {
      "cell_type": "markdown",
      "metadata": {
        "id": "Nsc0lyfiRim7",
        "colab_type": "text"
      },
      "source": [
        "To make something happen, we need to add gates. For example, let's try out `h()`."
      ]
    },
    {
      "cell_type": "code",
      "metadata": {
        "id": "DjLAU8gSRim8",
        "colab_type": "code",
        "colab": {},
        "outputId": "22a3839a-f5fb-4c46-a472-aa6d46d95dd8"
      },
      "source": [
        "qc.h()"
      ],
      "execution_count": 0,
      "outputs": [
        {
          "output_type": "error",
          "ename": "TypeError",
          "evalue": "h() missing 1 required positional argument: 'qubit'",
          "traceback": [
            "\u001b[0;31m---------------------------------------------------------------------------\u001b[0m",
            "\u001b[0;31mTypeError\u001b[0m                                 Traceback (most recent call last)",
            "\u001b[0;32m<ipython-input-6-68b196ebf214>\u001b[0m in \u001b[0;36m<module>\u001b[0;34m\u001b[0m\n\u001b[0;32m----> 1\u001b[0;31m \u001b[0mqc\u001b[0m\u001b[0;34m.\u001b[0m\u001b[0mh\u001b[0m\u001b[0;34m(\u001b[0m\u001b[0;34m)\u001b[0m\u001b[0;34m\u001b[0m\u001b[0;34m\u001b[0m\u001b[0m\n\u001b[0m",
            "\u001b[0;32m/usr/local/anaconda3/lib/python3.7/site-packages/qiskit/util.py\u001b[0m in \u001b[0;36mwrapper\u001b[0;34m(*args, **kwargs)\u001b[0m\n\u001b[1;32m    106\u001b[0m             \u001b[0;32mif\u001b[0m \u001b[0mkwargs\u001b[0m\u001b[0;34m:\u001b[0m\u001b[0;34m\u001b[0m\u001b[0;34m\u001b[0m\u001b[0m\n\u001b[1;32m    107\u001b[0m                 \u001b[0m_rename_kwargs\u001b[0m\u001b[0;34m(\u001b[0m\u001b[0mfunc\u001b[0m\u001b[0;34m.\u001b[0m\u001b[0m__name__\u001b[0m\u001b[0;34m,\u001b[0m \u001b[0mkwargs\u001b[0m\u001b[0;34m,\u001b[0m \u001b[0mkwarg_map\u001b[0m\u001b[0;34m)\u001b[0m\u001b[0;34m\u001b[0m\u001b[0;34m\u001b[0m\u001b[0m\n\u001b[0;32m--> 108\u001b[0;31m             \u001b[0;32mreturn\u001b[0m \u001b[0mfunc\u001b[0m\u001b[0;34m(\u001b[0m\u001b[0;34m*\u001b[0m\u001b[0margs\u001b[0m\u001b[0;34m,\u001b[0m \u001b[0;34m**\u001b[0m\u001b[0mkwargs\u001b[0m\u001b[0;34m)\u001b[0m\u001b[0;34m\u001b[0m\u001b[0;34m\u001b[0m\u001b[0m\n\u001b[0m\u001b[1;32m    109\u001b[0m         \u001b[0;32mreturn\u001b[0m \u001b[0mwrapper\u001b[0m\u001b[0;34m\u001b[0m\u001b[0;34m\u001b[0m\u001b[0m\n\u001b[1;32m    110\u001b[0m     \u001b[0;32mreturn\u001b[0m \u001b[0mdecorator\u001b[0m\u001b[0;34m\u001b[0m\u001b[0;34m\u001b[0m\u001b[0m\n",
            "\u001b[0;31mTypeError\u001b[0m: h() missing 1 required positional argument: 'qubit'"
          ]
        }
      ]
    },
    {
      "cell_type": "markdown",
      "metadata": {
        "id": "oUj_qdMNRinC",
        "colab_type": "text"
      },
      "source": [
        "Here we got an error, because we didn't tell the operation which qubit it should act on. The two qubits in our register `qr` can be individually addressed as `qr[0]` and `qr[1]`."
      ]
    },
    {
      "cell_type": "code",
      "metadata": {
        "id": "2zJKn9LrRinD",
        "colab_type": "code",
        "colab": {},
        "outputId": "f3718fc2-73e0-4d6d-9d64-07f3208d54a5"
      },
      "source": [
        "qc.h( qr[0] )"
      ],
      "execution_count": 0,
      "outputs": [
        {
          "output_type": "execute_result",
          "data": {
            "text/plain": [
              "<qiskit.circuit.instructionset.InstructionSet at 0x7fc768e6ed50>"
            ]
          },
          "metadata": {
            "tags": []
          },
          "execution_count": 7
        }
      ]
    },
    {
      "cell_type": "markdown",
      "metadata": {
        "id": "rNBi2bjZRinJ",
        "colab_type": "text"
      },
      "source": [
        "Ignore the output in the above. When the last line of a cell has no `=`, Jupyter notebooks like to print out what is there. In this case, it's telling us that there is a Hadamard as defined by Qiskit. To suppress this output, we could use a `;`.\n",
        "\n",
        "We can also add a controlled-NOT using `cx`. This requires two arguments: control qubit, and then target qubit."
      ]
    },
    {
      "cell_type": "code",
      "metadata": {
        "id": "7WYG3RXaRinK",
        "colab_type": "code",
        "colab": {}
      },
      "source": [
        "qc.cx( qr[0], qr[1] );"
      ],
      "execution_count": 0,
      "outputs": []
    },
    {
      "cell_type": "markdown",
      "metadata": {
        "id": "ljEOoEzcRinR",
        "colab_type": "text"
      },
      "source": [
        "Now our circuit has more to show"
      ]
    },
    {
      "cell_type": "code",
      "metadata": {
        "id": "q-KPuUa9RinV",
        "colab_type": "code",
        "colab": {},
        "outputId": "600808fb-c4f5-48b7-ffbd-d48c55427d39"
      },
      "source": [
        "qc.draw(output='mpl')"
      ],
      "execution_count": 0,
      "outputs": [
        {
          "output_type": "execute_result",
          "data": {
            "image/svg+xml": "<?xml version=\"1.0\" encoding=\"utf-8\" standalone=\"no\"?>\n<!DOCTYPE svg PUBLIC \"-//W3C//DTD SVG 1.1//EN\"\n  \"http://www.w3.org/Graphics/SVG/1.1/DTD/svg11.dtd\">\n<!-- Created with matplotlib (https://matplotlib.org/) -->\n<svg height=\"123.4824pt\" version=\"1.1\" viewBox=\"0 0 264.3805 123.4824\" width=\"264.3805pt\" xmlns=\"http://www.w3.org/2000/svg\" xmlns:xlink=\"http://www.w3.org/1999/xlink\">\n <defs>\n  <style type=\"text/css\">\n*{stroke-linecap:butt;stroke-linejoin:round;}\n  </style>\n </defs>\n <g id=\"figure_1\">\n  <g id=\"patch_1\">\n   <path d=\"M 0 123.4824 \nL 264.3805 123.4824 \nL 264.3805 0 \nL 0 0 \nz\n\" style=\"fill:#ffffff;\"/>\n  </g>\n  <g id=\"axes_1\">\n   <g id=\"line2d_1\">\n    <path clip-path=\"url(#pb9f4709c0e)\" d=\"M 139.0079 43.5608 \nL 252.6354 43.5608 \n\" style=\"fill:none;stroke:#000000;stroke-linecap:square;stroke-width:2;\"/>\n   </g>\n   <g id=\"line2d_2\">\n    <path clip-path=\"url(#pb9f4709c0e)\" d=\"M 139.0079 89.0118 \nL 252.6354 89.0118 \n\" style=\"fill:none;stroke:#000000;stroke-linecap:square;stroke-width:2;\"/>\n   </g>\n   <g id=\"line2d_3\">\n    <path clip-path=\"url(#pb9f4709c0e)\" d=\"M 207.1844 89.0118 \nL 207.1844 43.5608 \n\" style=\"fill:none;stroke:#6fa4ff;stroke-linecap:square;stroke-width:2;\"/>\n   </g>\n   <g id=\"patch_2\">\n    <path clip-path=\"url(#pb9f4709c0e)\" d=\"M 146.961825 58.332375 \nL 176.504975 58.332375 \nL 176.504975 28.789225 \nL 146.961825 28.789225 \nz\n\" style=\"fill:#6fa4ff;\"/>\n   </g>\n   <g id=\"patch_3\">\n    <path clip-path=\"url(#pb9f4709c0e)\" d=\"M 207.1844 47.992273 \nC 208.35964 47.992273 209.486904 47.525345 210.317924 46.694324 \nC 211.148945 45.863304 211.615872 44.73604 211.615872 43.5608 \nC 211.615872 42.38556 211.148945 41.258296 210.317924 40.427276 \nC 209.486904 39.596255 208.35964 39.129328 207.1844 39.129328 \nC 206.00916 39.129328 204.881896 39.596255 204.050876 40.427276 \nC 203.219855 41.258296 202.752927 42.38556 202.752927 43.5608 \nC 202.752927 44.73604 203.219855 45.863304 204.050876 46.694324 \nC 204.881896 47.525345 206.00916 47.992273 207.1844 47.992273 \nz\n\" style=\"fill:#6fa4ff;stroke:#6fa4ff;stroke-linejoin:miter;stroke-width:1.5;\"/>\n   </g>\n   <g id=\"patch_4\">\n    <path clip-path=\"url(#pb9f4709c0e)\" d=\"M 207.1844 99.351903 \nC 209.926627 99.351903 212.556909 98.262404 214.495957 96.323357 \nC 216.435004 94.384309 217.524502 91.754027 217.524502 89.0118 \nC 217.524502 86.269573 216.435004 83.639291 214.495957 81.700243 \nC 212.556909 79.761196 209.926627 78.671698 207.1844 78.671698 \nC 204.442173 78.671698 201.811891 79.761196 199.872843 81.700243 \nC 197.933796 83.639291 196.844297 86.269573 196.844297 89.0118 \nC 196.844297 91.754027 197.933796 94.384309 199.872843 96.323357 \nC 201.811891 98.262404 204.442173 99.351903 207.1844 99.351903 \nz\n\" style=\"fill:#6fa4ff;stroke:#6fa4ff;stroke-linejoin:miter;stroke-width:2;\"/>\n   </g>\n   <g id=\"line2d_4\">\n    <path clip-path=\"url(#pb9f4709c0e)\" d=\"M 207.1844 94.92043 \nL 207.1844 83.10317 \n\" style=\"fill:none;stroke:#ffffff;stroke-linecap:square;stroke-width:2;\"/>\n   </g>\n   <g id=\"line2d_5\">\n    <path clip-path=\"url(#pb9f4709c0e)\" d=\"M 201.27577 89.0118 \nL 213.09303 89.0118 \n\" style=\"fill:none;stroke:#ffffff;stroke-linecap:square;stroke-width:2;\"/>\n   </g>\n   <g id=\"text_1\">\n    <g clip-path=\"url(#pb9f4709c0e)\">\n     <!-- $H$ -->\n     <defs>\n      <path d=\"M 16.890625 72.90625 \nL 26.8125 72.90625 \nL 21 43.015625 \nL 56.78125 43.015625 \nL 62.59375 72.90625 \nL 72.515625 72.90625 \nL 58.296875 0 \nL 48.390625 0 \nL 55.171875 34.71875 \nL 19.390625 34.71875 \nL 12.59375 0 \nL 2.6875 0 \nz\n\" id=\"DejaVuSans-Oblique-72\"/>\n     </defs>\n     <g transform=\"translate(156.7934 47.147988)scale(0.13 -0.13)\">\n      <use transform=\"translate(0 0.09375)\" xlink:href=\"#DejaVuSans-Oblique-72\"/>\n     </g>\n    </g>\n   </g>\n   <g id=\"text_2\">\n    <g clip-path=\"url(#pb9f4709c0e)\">\n     <!-- ${qreg}_{0}$ -->\n     <defs>\n      <path d=\"M 41.703125 8.203125 \nQ 38.09375 3.46875 33.171875 1.015625 \nQ 28.265625 -1.421875 22.3125 -1.421875 \nQ 14.015625 -1.421875 9.296875 4.171875 \nQ 4.59375 9.765625 4.59375 19.578125 \nQ 4.59375 27.484375 7.5 34.859375 \nQ 10.40625 42.234375 15.828125 48.09375 \nQ 19.34375 51.90625 23.90625 53.953125 \nQ 28.46875 56 33.5 56 \nQ 39.546875 56 43.453125 53.609375 \nQ 47.359375 51.21875 49.125 46.390625 \nL 50.6875 54.59375 \nL 59.71875 54.59375 \nL 45.125 -20.609375 \nL 36.078125 -20.609375 \nz\nM 13.921875 20.90625 \nQ 13.921875 13.671875 16.9375 9.890625 \nQ 19.96875 6.109375 25.6875 6.109375 \nQ 34.1875 6.109375 40.1875 14.234375 \nQ 46.1875 22.359375 46.1875 33.984375 \nQ 46.1875 41.015625 43.078125 44.75 \nQ 39.984375 48.484375 34.1875 48.484375 \nQ 29.9375 48.484375 26.3125 46.5 \nQ 22.703125 44.53125 20.015625 40.71875 \nQ 17.1875 36.71875 15.546875 31.34375 \nQ 13.921875 25.984375 13.921875 20.90625 \nz\n\" id=\"DejaVuSans-Oblique-113\"/>\n      <path d=\"M 44.578125 46.390625 \nQ 43.21875 47.125 41.453125 47.515625 \nQ 39.703125 47.90625 37.703125 47.90625 \nQ 30.515625 47.90625 25.140625 42.453125 \nQ 19.78125 37.015625 18.015625 27.875 \nL 12.5 0 \nL 3.515625 0 \nL 14.203125 54.6875 \nL 23.1875 54.6875 \nL 21.484375 46.1875 \nQ 25.046875 50.921875 30 53.453125 \nQ 34.96875 56 40.578125 56 \nQ 42.046875 56 43.453125 55.828125 \nQ 44.875 55.671875 46.296875 55.28125 \nz\n\" id=\"DejaVuSans-Oblique-114\"/>\n      <path d=\"M 48.09375 32.234375 \nQ 48.25 33.015625 48.3125 33.84375 \nQ 48.390625 34.671875 48.390625 35.5 \nQ 48.390625 41.453125 44.890625 44.921875 \nQ 41.40625 48.390625 35.40625 48.390625 \nQ 28.71875 48.390625 23.578125 44.15625 \nQ 18.453125 39.9375 15.828125 32.171875 \nz\nM 55.90625 25.203125 \nL 14.109375 25.203125 \nQ 13.8125 23.34375 13.71875 22.265625 \nQ 13.625 21.1875 13.625 20.40625 \nQ 13.625 13.625 17.796875 9.90625 \nQ 21.96875 6.203125 29.59375 6.203125 \nQ 35.453125 6.203125 40.671875 7.515625 \nQ 45.90625 8.84375 50.390625 11.375 \nL 48.6875 2.484375 \nQ 43.84375 0.53125 38.6875 -0.4375 \nQ 33.546875 -1.421875 28.21875 -1.421875 \nQ 16.84375 -1.421875 10.71875 4.015625 \nQ 4.59375 9.46875 4.59375 19.484375 \nQ 4.59375 28.03125 7.640625 35.375 \nQ 10.6875 42.71875 16.609375 48.484375 \nQ 20.40625 52.09375 25.65625 54.046875 \nQ 30.90625 56 36.8125 56 \nQ 46.09375 56 51.578125 50.4375 \nQ 57.078125 44.875 57.078125 35.5 \nQ 57.078125 33.25 56.78125 30.6875 \nQ 56.5 28.125 55.90625 25.203125 \nz\n\" id=\"DejaVuSans-Oblique-101\"/>\n      <path d=\"M 59.625 54.6875 \nL 50.296875 6.78125 \nQ 47.609375 -7.125 40.015625 -13.953125 \nQ 32.421875 -20.796875 19.578125 -20.796875 \nQ 14.84375 -20.796875 10.78125 -20.09375 \nQ 6.734375 -19.390625 3.21875 -17.921875 \nL 4.890625 -9.1875 \nQ 8.203125 -11.328125 11.90625 -12.34375 \nQ 15.625 -13.375 19.828125 -13.375 \nQ 28.375 -13.375 33.859375 -8.703125 \nQ 39.359375 -4.046875 41.109375 4.6875 \nL 41.890625 8.796875 \nQ 38.140625 4.5 33.15625 2.25 \nQ 28.171875 0 22.40625 0 \nQ 14.109375 0 9.34375 5.484375 \nQ 4.59375 10.984375 4.59375 20.609375 \nQ 4.59375 28.171875 7.46875 35.421875 \nQ 10.359375 42.671875 15.578125 48.296875 \nQ 19.046875 52 23.65625 54 \nQ 28.265625 56 33.296875 56 \nQ 38.8125 56 42.90625 53.4375 \nQ 47.015625 50.875 49.03125 46.1875 \nL 50.59375 54.6875 \nz\nM 46.09375 34.625 \nQ 46.09375 41.265625 42.96875 44.875 \nQ 39.84375 48.484375 34.078125 48.484375 \nQ 30.515625 48.484375 27.296875 47.0625 \nQ 24.078125 45.65625 21.78125 43.109375 \nQ 18.0625 38.921875 15.984375 33.234375 \nQ 13.921875 27.546875 13.921875 21.484375 \nQ 13.921875 14.75 17.0625 11.125 \nQ 20.21875 7.515625 26.125 7.515625 \nQ 34.671875 7.515625 40.375 15.25 \nQ 46.09375 23 46.09375 34.625 \nz\n\" id=\"DejaVuSans-Oblique-103\"/>\n      <path d=\"M 31.78125 66.40625 \nQ 24.171875 66.40625 20.328125 58.90625 \nQ 16.5 51.421875 16.5 36.375 \nQ 16.5 21.390625 20.328125 13.890625 \nQ 24.171875 6.390625 31.78125 6.390625 \nQ 39.453125 6.390625 43.28125 13.890625 \nQ 47.125 21.390625 47.125 36.375 \nQ 47.125 51.421875 43.28125 58.90625 \nQ 39.453125 66.40625 31.78125 66.40625 \nz\nM 31.78125 74.21875 \nQ 44.046875 74.21875 50.515625 64.515625 \nQ 56.984375 54.828125 56.984375 36.375 \nQ 56.984375 17.96875 50.515625 8.265625 \nQ 44.046875 -1.421875 31.78125 -1.421875 \nQ 19.53125 -1.421875 13.0625 8.265625 \nQ 6.59375 17.96875 6.59375 36.375 \nQ 6.59375 54.828125 13.0625 64.515625 \nQ 19.53125 74.21875 31.78125 74.21875 \nz\n\" id=\"DejaVuSans-48\"/>\n     </defs>\n     <g transform=\"translate(71.2699 48.011777)scale(0.1625 -0.1625)\">\n      <use xlink:href=\"#DejaVuSans-Oblique-113\"/>\n      <use transform=\"translate(63.476562 0)\" xlink:href=\"#DejaVuSans-Oblique-114\"/>\n      <use transform=\"translate(104.589844 0)\" xlink:href=\"#DejaVuSans-Oblique-101\"/>\n      <use transform=\"translate(166.113281 0)\" xlink:href=\"#DejaVuSans-Oblique-103\"/>\n      <use transform=\"translate(229.589844 -16.40625)scale(0.7)\" xlink:href=\"#DejaVuSans-48\"/>\n     </g>\n    </g>\n   </g>\n   <g id=\"text_3\">\n    <g clip-path=\"url(#pb9f4709c0e)\">\n     <!-- ${qreg}_{1}$ -->\n     <defs>\n      <path d=\"M 12.40625 8.296875 \nL 28.515625 8.296875 \nL 28.515625 63.921875 \nL 10.984375 60.40625 \nL 10.984375 69.390625 \nL 28.421875 72.90625 \nL 38.28125 72.90625 \nL 38.28125 8.296875 \nL 54.390625 8.296875 \nL 54.390625 0 \nL 12.40625 0 \nz\n\" id=\"DejaVuSans-49\"/>\n     </defs>\n     <g transform=\"translate(71.2699 93.462777)scale(0.1625 -0.1625)\">\n      <use xlink:href=\"#DejaVuSans-Oblique-113\"/>\n      <use transform=\"translate(63.476562 0)\" xlink:href=\"#DejaVuSans-Oblique-114\"/>\n      <use transform=\"translate(104.589844 0)\" xlink:href=\"#DejaVuSans-Oblique-101\"/>\n      <use transform=\"translate(166.113281 0)\" xlink:href=\"#DejaVuSans-Oblique-103\"/>\n      <use transform=\"translate(229.589844 -16.40625)scale(0.7)\" xlink:href=\"#DejaVuSans-49\"/>\n     </g>\n    </g>\n   </g>\n  </g>\n </g>\n <defs>\n  <clipPath id=\"pb9f4709c0e\">\n   <rect height=\"109.0824\" width=\"249.9805\" x=\"7.2\" y=\"7.2\"/>\n  </clipPath>\n </defs>\n</svg>\n",
            "text/plain": [
              "<Figure size 331.1x144.48 with 1 Axes>"
            ]
          },
          "metadata": {
            "tags": []
          },
          "execution_count": 9
        }
      ]
    },
    {
      "cell_type": "markdown",
      "metadata": {
        "id": "YTV3oCCXRine",
        "colab_type": "text"
      },
      "source": [
        "### Statevector simulator"
      ]
    },
    {
      "cell_type": "markdown",
      "metadata": {
        "id": "_Rwe0gheRinf",
        "colab_type": "text"
      },
      "source": [
        "We are now at the stage that we can actually look at an output from the circuit. Specifically, we will use the 'statevector simulator' to see what is happening to the state vector of the two qubits.\n",
        "\n",
        "To get this simulator ready to go, we use the following line."
      ]
    },
    {
      "cell_type": "code",
      "metadata": {
        "id": "8V0zuoCRRing",
        "colab_type": "code",
        "colab": {}
      },
      "source": [
        "vector_sim = Aer.get_backend('statevector_simulator')"
      ],
      "execution_count": 0,
      "outputs": []
    },
    {
      "cell_type": "markdown",
      "metadata": {
        "id": "tHEI03BSRinl",
        "colab_type": "text"
      },
      "source": [
        "In Qiskit, we use *backend* to refer to the things on which quantum programs actually run (simulators or real quantum devices). To set up a job for a backend, we need to set up the corresponding backend object.\n",
        "\n",
        "The simulator we want is defined in the part of qiskit known as `Aer`. By giving the name of the simulator we want to the `get_backend()` method of Aer, we get the backend object we need. In this case, the name is `'statevector_simulator'`.\n",
        "\n",
        "A list of all possible simulators in Aer can be found using"
      ]
    },
    {
      "cell_type": "code",
      "metadata": {
        "id": "CPVrftHbRinm",
        "colab_type": "code",
        "colab": {},
        "outputId": "73b463bf-2cba-4c5a-8560-76f1e6023bdf"
      },
      "source": [
        "Aer.backends()"
      ],
      "execution_count": 0,
      "outputs": [
        {
          "output_type": "execute_result",
          "data": {
            "text/plain": [
              "[<QasmSimulator('qasm_simulator') from AerProvider()>,\n",
              " <StatevectorSimulator('statevector_simulator') from AerProvider()>,\n",
              " <UnitarySimulator('unitary_simulator') from AerProvider()>,\n",
              " <PulseSimulator('pulse_simulator') from AerProvider()>]"
            ]
          },
          "metadata": {
            "tags": []
          },
          "execution_count": 11
        }
      ]
    },
    {
      "cell_type": "markdown",
      "metadata": {
        "id": "txKDVKCfRinu",
        "colab_type": "text"
      },
      "source": [
        "All of these simulators are 'local', meaning that they run on the machine on which Qiskit is installed. Using them on your own machine can be done without signing up to the IBMQ user agreement.\n",
        "\n",
        "Running the simulation is done by Qiskit's `execute` command, which needs to be provided with the circuit to be run and the 'backend' to run it on (in this case, a simulator)."
      ]
    },
    {
      "cell_type": "code",
      "metadata": {
        "id": "wrGJZjSVRinw",
        "colab_type": "code",
        "colab": {}
      },
      "source": [
        "job = execute( qc, vector_sim )"
      ],
      "execution_count": 0,
      "outputs": []
    },
    {
      "cell_type": "markdown",
      "metadata": {
        "id": "A7vzAh1uRin1",
        "colab_type": "text"
      },
      "source": [
        "This creates an object that handles the job, which here has been called `job`. All we need from this is to extract the result. Specifically, we want the state vector."
      ]
    },
    {
      "cell_type": "code",
      "metadata": {
        "id": "d4cJkyj-Rin4",
        "colab_type": "code",
        "colab": {},
        "outputId": "d7c94234-81f9-4f5f-938c-447eb969b960"
      },
      "source": [
        "ket = job.result().get_statevector()\n",
        "for amplitude in ket:\n",
        "    print(amplitude)"
      ],
      "execution_count": 0,
      "outputs": [
        {
          "output_type": "stream",
          "text": [
            "(0.7071067811865476+0j)\n",
            "0j\n",
            "0j\n",
            "(0.7071067811865475+0j)\n"
          ],
          "name": "stdout"
        }
      ]
    },
    {
      "cell_type": "markdown",
      "metadata": {
        "id": "CxOc4795Rin-",
        "colab_type": "text"
      },
      "source": [
        "This is the vector for a Bell state $\\left( \\left|00\\right\\rangle + \\left|11\\right\\rangle \\right)/\\sqrt{2}$, which is what we'd expect given the circuit."
      ]
    },
    {
      "cell_type": "markdown",
      "metadata": {
        "id": "MZKk4nJGRin_",
        "colab_type": "text"
      },
      "source": [
        "While we have a nicely defined state vector, we can show another feature of Qiskit: it is possible to initialize a circuit with an arbitrary pure state."
      ]
    },
    {
      "cell_type": "code",
      "metadata": {
        "id": "2P9wct0rRioA",
        "colab_type": "code",
        "colab": {},
        "outputId": "0f4a5673-d5ed-4b9d-b9f7-24367a4a0b11"
      },
      "source": [
        "new_qc = QuantumCircuit( qr )\n",
        "\n",
        "new_qc.initialize( ket, qr )\n"
      ],
      "execution_count": 0,
      "outputs": [
        {
          "output_type": "execute_result",
          "data": {
            "text/plain": [
              "<qiskit.circuit.instructionset.InstructionSet at 0x7fc778a41910>"
            ]
          },
          "metadata": {
            "tags": []
          },
          "execution_count": 14
        }
      ]
    },
    {
      "cell_type": "markdown",
      "metadata": {
        "id": "CwkoMGtTRioF",
        "colab_type": "text"
      },
      "source": [
        "### Classical registers and the qasm simulator"
      ]
    },
    {
      "cell_type": "markdown",
      "metadata": {
        "id": "A86_AcdERioG",
        "colab_type": "text"
      },
      "source": [
        "In the above simulation, we got out a statevector. That's not what we'd get from a real quantum computer. For that we need measurement. And to handle measurement we need to define where the results will go. This is done with a `ClassicalRegister`. Let's define a two bit classical register, in order to measure both of our two qubits."
      ]
    },
    {
      "cell_type": "code",
      "metadata": {
        "id": "pShUnjb9RioI",
        "colab_type": "code",
        "colab": {}
      },
      "source": [
        "cr = ClassicalRegister(2,'creg')\n",
        "\n",
        "qc.add_register(cr)"
      ],
      "execution_count": 0,
      "outputs": []
    },
    {
      "cell_type": "markdown",
      "metadata": {
        "id": "vylYxg4LRioQ",
        "colab_type": "text"
      },
      "source": [
        "Now we can use the `measure` method of the quantum circuit. This requires two arguments: the qubit being measured, and the bit where the result is written.\n",
        "\n",
        "Let's measure both qubits, and write their results in different bits."
      ]
    },
    {
      "cell_type": "code",
      "metadata": {
        "id": "zczYKFv_RioR",
        "colab_type": "code",
        "colab": {},
        "outputId": "642abbb3-4dc8-4356-80f0-70113a0e633c"
      },
      "source": [
        "qc.measure(qr[0],cr[0])\n",
        "qc.measure(qr[1],cr[1])\n",
        "\n",
        "qc.draw(output='mpl')"
      ],
      "execution_count": 0,
      "outputs": [
        {
          "output_type": "execute_result",
          "data": {
            "image/svg+xml": "<?xml version=\"1.0\" encoding=\"utf-8\" standalone=\"no\"?>\n<!DOCTYPE svg PUBLIC \"-//W3C//DTD SVG 1.1//EN\"\n  \"http://www.w3.org/Graphics/SVG/1.1/DTD/svg11.dtd\">\n<!-- Created with matplotlib (https://matplotlib.org/) -->\n<svg height=\"168.9334pt\" version=\"1.1\" viewBox=\"0 0 355.2825 168.9334\" width=\"355.2825pt\" xmlns=\"http://www.w3.org/2000/svg\" xmlns:xlink=\"http://www.w3.org/1999/xlink\">\n <defs>\n  <style type=\"text/css\">\n*{stroke-linecap:butt;stroke-linejoin:round;}\n  </style>\n </defs>\n <g id=\"figure_1\">\n  <g id=\"patch_1\">\n   <path d=\"M 0 168.9334 \nL 355.2825 168.9334 \nL 355.2825 0 \nL 0 0 \nz\n\" style=\"fill:#ffffff;\"/>\n  </g>\n  <g id=\"axes_1\">\n   <g id=\"patch_2\">\n    <path clip-path=\"url(#p4a1fbca2de)\" d=\"M 246.72677 124.122697 \nL 258.54403 124.122697 \nL 252.6354 134.4628 \nz\n\" style=\"fill:#778899;\"/>\n   </g>\n   <g id=\"patch_3\">\n    <path clip-path=\"url(#p4a1fbca2de)\" d=\"M 292.17777 124.122697 \nL 303.99503 124.122697 \nL 298.0864 134.4628 \nz\n\" style=\"fill:#778899;\"/>\n   </g>\n   <g id=\"line2d_1\">\n    <path clip-path=\"url(#p4a1fbca2de)\" d=\"M 139.0079 43.5608 \nL 343.5374 43.5608 \n\" style=\"fill:none;stroke:#000000;stroke-linecap:square;stroke-width:2;\"/>\n   </g>\n   <g id=\"line2d_2\">\n    <path clip-path=\"url(#p4a1fbca2de)\" d=\"M 139.0079 89.0118 \nL 343.5374 89.0118 \n\" style=\"fill:none;stroke:#000000;stroke-linecap:square;stroke-width:2;\"/>\n   </g>\n   <g id=\"line2d_3\">\n    <path clip-path=\"url(#p4a1fbca2de)\" d=\"M 139.0079 132.985642 \nL 343.5374 132.985642 \n\" style=\"fill:none;stroke:#778899;stroke-linecap:square;stroke-width:2;\"/>\n   </g>\n   <g id=\"line2d_4\">\n    <path clip-path=\"url(#p4a1fbca2de)\" d=\"M 139.0079 135.939957 \nL 343.5374 135.939957 \n\" style=\"fill:none;stroke:#778899;stroke-linecap:square;stroke-width:2;\"/>\n   </g>\n   <g id=\"line2d_5\">\n    <path clip-path=\"url(#p4a1fbca2de)\" d=\"M 207.1844 89.0118 \nL 207.1844 43.5608 \n\" style=\"fill:none;stroke:#6fa4ff;stroke-linecap:square;stroke-width:2;\"/>\n   </g>\n   <g id=\"line2d_6\">\n    <path clip-path=\"url(#p4a1fbca2de)\" d=\"M 254.112558 43.5608 \nL 254.112558 124.122697 \n\" style=\"fill:none;stroke:#778899;stroke-linecap:square;stroke-width:2;\"/>\n   </g>\n   <g id=\"line2d_7\">\n    <path clip-path=\"url(#p4a1fbca2de)\" d=\"M 251.158243 43.5608 \nL 251.158243 124.122697 \n\" style=\"fill:none;stroke:#778899;stroke-linecap:square;stroke-width:2;\"/>\n   </g>\n   <g id=\"line2d_8\">\n    <path clip-path=\"url(#p4a1fbca2de)\" d=\"M 299.563558 89.0118 \nL 299.563558 124.122697 \n\" style=\"fill:none;stroke:#778899;stroke-linecap:square;stroke-width:2;\"/>\n   </g>\n   <g id=\"line2d_9\">\n    <path clip-path=\"url(#p4a1fbca2de)\" d=\"M 296.609243 89.0118 \nL 296.609243 124.122697 \n\" style=\"fill:none;stroke:#778899;stroke-linecap:square;stroke-width:2;\"/>\n   </g>\n   <g id=\"line2d_10\">\n    <path clip-path=\"url(#p4a1fbca2de)\" d=\"M 166.2785 139.0079 \nL 170.8236 129.9177 \n\" style=\"fill:none;stroke:#778899;stroke-linecap:square;stroke-width:1.5;\"/>\n   </g>\n   <g id=\"patch_4\">\n    <path clip-path=\"url(#p4a1fbca2de)\" d=\"M 146.961825 58.332375 \nL 176.504975 58.332375 \nL 176.504975 28.789225 \nL 146.961825 28.789225 \nz\n\" style=\"fill:#6fa4ff;\"/>\n   </g>\n   <g id=\"patch_5\">\n    <path clip-path=\"url(#p4a1fbca2de)\" d=\"M 207.1844 47.992272 \nC 208.35964 47.992272 209.486904 47.525345 210.317924 46.694324 \nC 211.148945 45.863304 211.615873 44.73604 211.615873 43.5608 \nC 211.615873 42.38556 211.148945 41.258296 210.317924 40.427276 \nC 209.486904 39.596255 208.35964 39.129327 207.1844 39.129327 \nC 206.00916 39.129327 204.881896 39.596255 204.050876 40.427276 \nC 203.219855 41.258296 202.752928 42.38556 202.752928 43.5608 \nC 202.752928 44.73604 203.219855 45.863304 204.050876 46.694324 \nC 204.881896 47.525345 206.00916 47.992272 207.1844 47.992272 \nz\n\" style=\"fill:#6fa4ff;stroke:#6fa4ff;stroke-linejoin:miter;stroke-width:1.5;\"/>\n   </g>\n   <g id=\"patch_6\">\n    <path clip-path=\"url(#p4a1fbca2de)\" d=\"M 207.1844 99.351902 \nC 209.926627 99.351902 212.556909 98.262404 214.495957 96.323357 \nC 216.435004 94.384309 217.524503 91.754027 217.524503 89.0118 \nC 217.524503 86.269573 216.435004 83.639291 214.495957 81.700243 \nC 212.556909 79.761196 209.926627 78.671697 207.1844 78.671697 \nC 204.442173 78.671697 201.811891 79.761196 199.872843 81.700243 \nC 197.933796 83.639291 196.844298 86.269573 196.844298 89.0118 \nC 196.844298 91.754027 197.933796 94.384309 199.872843 96.323357 \nC 201.811891 98.262404 204.442173 99.351902 207.1844 99.351902 \nz\n\" style=\"fill:#6fa4ff;stroke:#6fa4ff;stroke-linejoin:miter;stroke-width:2;\"/>\n   </g>\n   <g id=\"patch_7\">\n    <path clip-path=\"url(#p4a1fbca2de)\" d=\"M 237.863825 58.332375 \nL 267.406975 58.332375 \nL 267.406975 28.789225 \nL 237.863825 28.789225 \nz\n\"/>\n   </g>\n   <g id=\"patch_8\">\n    <path clip-path=\"url(#p4a1fbca2de)\" d=\"M 262.975503 47.992272 \nC 262.975503 45.250959 261.885358 42.619118 259.946957 40.680716 \nC 258.008555 38.742314 255.376714 37.65217 252.6354 37.65217 \nC 249.894086 37.65217 247.262245 38.742314 245.323843 40.680716 \nC 243.385442 42.619118 242.295298 45.250959 242.295298 47.992272 \n\" style=\"fill:none;stroke:#ffffff;stroke-linejoin:miter;stroke-width:2;\"/>\n   </g>\n   <g id=\"patch_9\">\n    <path clip-path=\"url(#p4a1fbca2de)\" d=\"M 283.314825 103.783375 \nL 312.857975 103.783375 \nL 312.857975 74.240225 \nL 283.314825 74.240225 \nz\n\"/>\n   </g>\n   <g id=\"patch_10\">\n    <path clip-path=\"url(#p4a1fbca2de)\" d=\"M 308.426503 93.443272 \nC 308.426503 90.701959 307.336358 88.070118 305.397957 86.131716 \nC 303.459555 84.193314 300.827714 83.10317 298.0864 83.10317 \nC 295.345086 83.10317 292.713245 84.193314 290.774843 86.131716 \nC 288.836442 88.070118 287.746298 90.701959 287.746298 93.443272 \n\" style=\"fill:none;stroke:#ffffff;stroke-linejoin:miter;stroke-width:2;\"/>\n   </g>\n   <g id=\"line2d_11\">\n    <path clip-path=\"url(#p4a1fbca2de)\" d=\"M 252.6354 47.992272 \nL 262.975503 37.65217 \n\" style=\"fill:none;stroke:#ffffff;stroke-linecap:square;stroke-width:2;\"/>\n   </g>\n   <g id=\"line2d_12\">\n    <path clip-path=\"url(#p4a1fbca2de)\" d=\"M 298.0864 93.443272 \nL 308.426503 83.10317 \n\" style=\"fill:none;stroke:#ffffff;stroke-linecap:square;stroke-width:2;\"/>\n   </g>\n   <g id=\"line2d_13\">\n    <path clip-path=\"url(#p4a1fbca2de)\" d=\"M 207.1844 94.92043 \nL 207.1844 83.10317 \n\" style=\"fill:none;stroke:#ffffff;stroke-linecap:square;stroke-width:2;\"/>\n   </g>\n   <g id=\"line2d_14\">\n    <path clip-path=\"url(#p4a1fbca2de)\" d=\"M 201.27577 89.0118 \nL 213.09303 89.0118 \n\" style=\"fill:none;stroke:#ffffff;stroke-linecap:square;stroke-width:2;\"/>\n   </g>\n   <g id=\"text_1\">\n    <g clip-path=\"url(#p4a1fbca2de)\">\n     <!-- $H$ -->\n     <defs>\n      <path d=\"M 16.890625 72.90625 \nL 26.8125 72.90625 \nL 21 43.015625 \nL 56.78125 43.015625 \nL 62.59375 72.90625 \nL 72.515625 72.90625 \nL 58.296875 0 \nL 48.390625 0 \nL 55.171875 34.71875 \nL 19.390625 34.71875 \nL 12.59375 0 \nL 2.6875 0 \nz\n\" id=\"DejaVuSans-Oblique-72\"/>\n     </defs>\n     <g transform=\"translate(156.7934 47.147987)scale(0.13 -0.13)\">\n      <use transform=\"translate(0 0.09375)\" xlink:href=\"#DejaVuSans-Oblique-72\"/>\n     </g>\n    </g>\n   </g>\n   <g id=\"text_2\">\n    <g clip-path=\"url(#p4a1fbca2de)\">\n     <!-- 0 -->\n     <defs>\n      <path d=\"M 31.78125 66.40625 \nQ 24.171875 66.40625 20.328125 58.90625 \nQ 16.5 51.421875 16.5 36.375 \nQ 16.5 21.390625 20.328125 13.890625 \nQ 24.171875 6.390625 31.78125 6.390625 \nQ 39.453125 6.390625 43.28125 13.890625 \nQ 47.125 21.390625 47.125 36.375 \nQ 47.125 51.421875 43.28125 58.90625 \nQ 39.453125 66.40625 31.78125 66.40625 \nz\nM 31.78125 74.21875 \nQ 44.046875 74.21875 50.515625 64.515625 \nQ 56.984375 54.828125 56.984375 36.375 \nQ 56.984375 17.96875 50.515625 8.265625 \nQ 44.046875 -1.421875 31.78125 -1.421875 \nQ 19.53125 -1.421875 13.0625 8.265625 \nQ 6.59375 17.96875 6.59375 36.375 \nQ 6.59375 54.828125 13.0625 64.515625 \nQ 19.53125 74.21875 31.78125 74.21875 \nz\n\" id=\"DejaVuSans-48\"/>\n     </defs>\n     <g transform=\"translate(263.99815 127.754825)scale(0.104 -0.104)\">\n      <use xlink:href=\"#DejaVuSans-48\"/>\n     </g>\n    </g>\n   </g>\n   <g id=\"text_3\">\n    <g clip-path=\"url(#p4a1fbca2de)\">\n     <!-- 1 -->\n     <defs>\n      <path d=\"M 12.40625 8.296875 \nL 28.515625 8.296875 \nL 28.515625 63.921875 \nL 10.984375 60.40625 \nL 10.984375 69.390625 \nL 28.421875 72.90625 \nL 38.28125 72.90625 \nL 38.28125 8.296875 \nL 54.390625 8.296875 \nL 54.390625 0 \nL 12.40625 0 \nz\n\" id=\"DejaVuSans-49\"/>\n     </defs>\n     <g transform=\"translate(309.44915 127.754825)scale(0.104 -0.104)\">\n      <use xlink:href=\"#DejaVuSans-49\"/>\n     </g>\n    </g>\n   </g>\n   <g id=\"text_4\">\n    <g clip-path=\"url(#p4a1fbca2de)\">\n     <!-- ${qreg}_{0}$ -->\n     <defs>\n      <path d=\"M 41.703125 8.203125 \nQ 38.09375 3.46875 33.171875 1.015625 \nQ 28.265625 -1.421875 22.3125 -1.421875 \nQ 14.015625 -1.421875 9.296875 4.171875 \nQ 4.59375 9.765625 4.59375 19.578125 \nQ 4.59375 27.484375 7.5 34.859375 \nQ 10.40625 42.234375 15.828125 48.09375 \nQ 19.34375 51.90625 23.90625 53.953125 \nQ 28.46875 56 33.5 56 \nQ 39.546875 56 43.453125 53.609375 \nQ 47.359375 51.21875 49.125 46.390625 \nL 50.6875 54.59375 \nL 59.71875 54.59375 \nL 45.125 -20.609375 \nL 36.078125 -20.609375 \nz\nM 13.921875 20.90625 \nQ 13.921875 13.671875 16.9375 9.890625 \nQ 19.96875 6.109375 25.6875 6.109375 \nQ 34.1875 6.109375 40.1875 14.234375 \nQ 46.1875 22.359375 46.1875 33.984375 \nQ 46.1875 41.015625 43.078125 44.75 \nQ 39.984375 48.484375 34.1875 48.484375 \nQ 29.9375 48.484375 26.3125 46.5 \nQ 22.703125 44.53125 20.015625 40.71875 \nQ 17.1875 36.71875 15.546875 31.34375 \nQ 13.921875 25.984375 13.921875 20.90625 \nz\n\" id=\"DejaVuSans-Oblique-113\"/>\n      <path d=\"M 44.578125 46.390625 \nQ 43.21875 47.125 41.453125 47.515625 \nQ 39.703125 47.90625 37.703125 47.90625 \nQ 30.515625 47.90625 25.140625 42.453125 \nQ 19.78125 37.015625 18.015625 27.875 \nL 12.5 0 \nL 3.515625 0 \nL 14.203125 54.6875 \nL 23.1875 54.6875 \nL 21.484375 46.1875 \nQ 25.046875 50.921875 30 53.453125 \nQ 34.96875 56 40.578125 56 \nQ 42.046875 56 43.453125 55.828125 \nQ 44.875 55.671875 46.296875 55.28125 \nz\n\" id=\"DejaVuSans-Oblique-114\"/>\n      <path d=\"M 48.09375 32.234375 \nQ 48.25 33.015625 48.3125 33.84375 \nQ 48.390625 34.671875 48.390625 35.5 \nQ 48.390625 41.453125 44.890625 44.921875 \nQ 41.40625 48.390625 35.40625 48.390625 \nQ 28.71875 48.390625 23.578125 44.15625 \nQ 18.453125 39.9375 15.828125 32.171875 \nz\nM 55.90625 25.203125 \nL 14.109375 25.203125 \nQ 13.8125 23.34375 13.71875 22.265625 \nQ 13.625 21.1875 13.625 20.40625 \nQ 13.625 13.625 17.796875 9.90625 \nQ 21.96875 6.203125 29.59375 6.203125 \nQ 35.453125 6.203125 40.671875 7.515625 \nQ 45.90625 8.84375 50.390625 11.375 \nL 48.6875 2.484375 \nQ 43.84375 0.53125 38.6875 -0.4375 \nQ 33.546875 -1.421875 28.21875 -1.421875 \nQ 16.84375 -1.421875 10.71875 4.015625 \nQ 4.59375 9.46875 4.59375 19.484375 \nQ 4.59375 28.03125 7.640625 35.375 \nQ 10.6875 42.71875 16.609375 48.484375 \nQ 20.40625 52.09375 25.65625 54.046875 \nQ 30.90625 56 36.8125 56 \nQ 46.09375 56 51.578125 50.4375 \nQ 57.078125 44.875 57.078125 35.5 \nQ 57.078125 33.25 56.78125 30.6875 \nQ 56.5 28.125 55.90625 25.203125 \nz\n\" id=\"DejaVuSans-Oblique-101\"/>\n      <path d=\"M 59.625 54.6875 \nL 50.296875 6.78125 \nQ 47.609375 -7.125 40.015625 -13.953125 \nQ 32.421875 -20.796875 19.578125 -20.796875 \nQ 14.84375 -20.796875 10.78125 -20.09375 \nQ 6.734375 -19.390625 3.21875 -17.921875 \nL 4.890625 -9.1875 \nQ 8.203125 -11.328125 11.90625 -12.34375 \nQ 15.625 -13.375 19.828125 -13.375 \nQ 28.375 -13.375 33.859375 -8.703125 \nQ 39.359375 -4.046875 41.109375 4.6875 \nL 41.890625 8.796875 \nQ 38.140625 4.5 33.15625 2.25 \nQ 28.171875 0 22.40625 0 \nQ 14.109375 0 9.34375 5.484375 \nQ 4.59375 10.984375 4.59375 20.609375 \nQ 4.59375 28.171875 7.46875 35.421875 \nQ 10.359375 42.671875 15.578125 48.296875 \nQ 19.046875 52 23.65625 54 \nQ 28.265625 56 33.296875 56 \nQ 38.8125 56 42.90625 53.4375 \nQ 47.015625 50.875 49.03125 46.1875 \nL 50.59375 54.6875 \nz\nM 46.09375 34.625 \nQ 46.09375 41.265625 42.96875 44.875 \nQ 39.84375 48.484375 34.078125 48.484375 \nQ 30.515625 48.484375 27.296875 47.0625 \nQ 24.078125 45.65625 21.78125 43.109375 \nQ 18.0625 38.921875 15.984375 33.234375 \nQ 13.921875 27.546875 13.921875 21.484375 \nQ 13.921875 14.75 17.0625 11.125 \nQ 20.21875 7.515625 26.125 7.515625 \nQ 34.671875 7.515625 40.375 15.25 \nQ 46.09375 23 46.09375 34.625 \nz\n\" id=\"DejaVuSans-Oblique-103\"/>\n     </defs>\n     <g transform=\"translate(71.2699 48.011777)scale(0.1625 -0.1625)\">\n      <use xlink:href=\"#DejaVuSans-Oblique-113\"/>\n      <use transform=\"translate(63.476562 0)\" xlink:href=\"#DejaVuSans-Oblique-114\"/>\n      <use transform=\"translate(104.589844 0)\" xlink:href=\"#DejaVuSans-Oblique-101\"/>\n      <use transform=\"translate(166.113281 0)\" xlink:href=\"#DejaVuSans-Oblique-103\"/>\n      <use transform=\"translate(229.589844 -16.40625)scale(0.7)\" xlink:href=\"#DejaVuSans-48\"/>\n     </g>\n    </g>\n   </g>\n   <g id=\"text_5\">\n    <g clip-path=\"url(#p4a1fbca2de)\">\n     <!-- ${qreg}_{1}$ -->\n     <g transform=\"translate(71.2699 93.462777)scale(0.1625 -0.1625)\">\n      <use xlink:href=\"#DejaVuSans-Oblique-113\"/>\n      <use transform=\"translate(63.476562 0)\" xlink:href=\"#DejaVuSans-Oblique-114\"/>\n      <use transform=\"translate(104.589844 0)\" xlink:href=\"#DejaVuSans-Oblique-101\"/>\n      <use transform=\"translate(166.113281 0)\" xlink:href=\"#DejaVuSans-Oblique-103\"/>\n      <use transform=\"translate(229.589844 -16.40625)scale(0.7)\" xlink:href=\"#DejaVuSans-49\"/>\n     </g>\n    </g>\n   </g>\n   <g id=\"text_6\">\n    <g clip-path=\"url(#p4a1fbca2de)\">\n     <!-- 2 -->\n     <defs>\n      <path d=\"M 19.1875 8.296875 \nL 53.609375 8.296875 \nL 53.609375 0 \nL 7.328125 0 \nL 7.328125 8.296875 \nQ 12.9375 14.109375 22.625 23.890625 \nQ 32.328125 33.6875 34.8125 36.53125 \nQ 39.546875 41.84375 41.421875 45.53125 \nQ 43.3125 49.21875 43.3125 52.78125 \nQ 43.3125 58.59375 39.234375 62.25 \nQ 35.15625 65.921875 28.609375 65.921875 \nQ 23.96875 65.921875 18.8125 64.3125 \nQ 13.671875 62.703125 7.8125 59.421875 \nL 7.8125 69.390625 \nQ 13.765625 71.78125 18.9375 73 \nQ 24.125 74.21875 28.421875 74.21875 \nQ 39.75 74.21875 46.484375 68.546875 \nQ 53.21875 62.890625 53.21875 53.421875 \nQ 53.21875 48.921875 51.53125 44.890625 \nQ 49.859375 40.875 45.40625 35.40625 \nQ 44.1875 33.984375 37.640625 27.21875 \nQ 31.109375 20.453125 19.1875 8.296875 \nz\n\" id=\"DejaVuSans-50\"/>\n     </defs>\n     <g transform=\"translate(161.7334 127.754825)scale(0.104 -0.104)\">\n      <use xlink:href=\"#DejaVuSans-50\"/>\n     </g>\n    </g>\n   </g>\n   <g id=\"text_7\">\n    <g clip-path=\"url(#p4a1fbca2de)\">\n     <!-- $creg$ -->\n     <defs>\n      <path d=\"M 53.609375 52.59375 \nL 51.8125 43.703125 \nQ 48.578125 46.046875 44.9375 47.21875 \nQ 41.3125 48.390625 37.40625 48.390625 \nQ 33.109375 48.390625 29.21875 46.875 \nQ 25.34375 45.359375 22.703125 42.578125 \nQ 18.5 38.328125 16.203125 32.609375 \nQ 13.921875 26.90625 13.921875 20.796875 \nQ 13.921875 13.421875 17.609375 9.8125 \nQ 21.296875 6.203125 28.8125 6.203125 \nQ 32.515625 6.203125 36.6875 7.328125 \nQ 40.875 8.453125 45.40625 10.6875 \nL 43.703125 1.8125 \nQ 39.796875 0.203125 35.671875 -0.609375 \nQ 31.546875 -1.421875 27.203125 -1.421875 \nQ 16.3125 -1.421875 10.453125 4.015625 \nQ 4.59375 9.46875 4.59375 19.578125 \nQ 4.59375 28.078125 7.640625 35.234375 \nQ 10.6875 42.390625 16.703125 48.09375 \nQ 20.796875 52 26.3125 54 \nQ 31.84375 56 38.375 56 \nQ 42.1875 56 45.9375 55.140625 \nQ 49.703125 54.296875 53.609375 52.59375 \nz\n\" id=\"DejaVuSans-Oblique-99\"/>\n     </defs>\n     <g transform=\"translate(72.9924 139.803972)scale(0.195 -0.195)\">\n      <use xlink:href=\"#DejaVuSans-Oblique-99\"/>\n      <use transform=\"translate(54.980469 0)\" xlink:href=\"#DejaVuSans-Oblique-114\"/>\n      <use transform=\"translate(96.09375 0)\" xlink:href=\"#DejaVuSans-Oblique-101\"/>\n      <use transform=\"translate(157.617188 0)\" xlink:href=\"#DejaVuSans-Oblique-103\"/>\n     </g>\n    </g>\n   </g>\n  </g>\n </g>\n <defs>\n  <clipPath id=\"p4a1fbca2de\">\n   <rect height=\"154.5334\" width=\"340.8825\" x=\"7.2\" y=\"7.2\"/>\n  </clipPath>\n </defs>\n</svg>\n",
            "text/plain": [
              "<Figure size 451.5x204.68 with 1 Axes>"
            ]
          },
          "metadata": {
            "tags": []
          },
          "execution_count": 16
        }
      ]
    },
    {
      "cell_type": "markdown",
      "metadata": {
        "id": "76pQTWc9RioW",
        "colab_type": "text"
      },
      "source": [
        "Now we can run this on a local simulator whose effect is to emulate a real quantum device. For this we need to add another input to the `execute` function, `shots`, which determines how many times we run the circuit to take statistics. If you don't provide any `shots` value, you get the default of 1024."
      ]
    },
    {
      "cell_type": "code",
      "metadata": {
        "id": "DHFPvM7mRioX",
        "colab_type": "code",
        "colab": {}
      },
      "source": [
        "emulator = Aer.get_backend('qasm_simulator')\n",
        "\n",
        "job = execute( qc, emulator, shots=8192 )"
      ],
      "execution_count": 0,
      "outputs": []
    },
    {
      "cell_type": "markdown",
      "metadata": {
        "id": "lo8doS09Rioc",
        "colab_type": "text"
      },
      "source": [
        "The result is essentially a histogram in the form of a Python dictionary."
      ]
    },
    {
      "cell_type": "code",
      "metadata": {
        "id": "Gl-_npJQRioe",
        "colab_type": "code",
        "colab": {},
        "outputId": "e0493aa5-caf0-4966-86ee-fa01231dfdf7"
      },
      "source": [
        "hist = job.result().get_counts()\n",
        "print(hist)"
      ],
      "execution_count": 0,
      "outputs": [
        {
          "output_type": "stream",
          "text": [
            "{'11': 4168, '00': 4024}\n"
          ],
          "name": "stdout"
        }
      ]
    },
    {
      "cell_type": "markdown",
      "metadata": {
        "id": "H5AbxzpARiol",
        "colab_type": "text"
      },
      "source": [
        "We can even get Qiskit to plot it as a histogram."
      ]
    },
    {
      "cell_type": "code",
      "metadata": {
        "id": "i083l-AtRiom",
        "colab_type": "code",
        "colab": {},
        "outputId": "e0705491-4b30-444e-d92d-8822a56bd347"
      },
      "source": [
        "from qiskit.visualization import plot_histogram\n",
        "\n",
        "plot_histogram( hist )"
      ],
      "execution_count": 0,
      "outputs": [
        {
          "output_type": "execute_result",
          "data": {
            "image/svg+xml": "<?xml version=\"1.0\" encoding=\"utf-8\" standalone=\"no\"?>\n<!DOCTYPE svg PUBLIC \"-//W3C//DTD SVG 1.1//EN\"\n  \"http://www.w3.org/Graphics/SVG/1.1/DTD/svg11.dtd\">\n<!-- Created with matplotlib (https://matplotlib.org/) -->\n<svg height=\"315.198488pt\" version=\"1.1\" viewBox=\"0 0 460.72125 315.198488\" width=\"460.72125pt\" xmlns=\"http://www.w3.org/2000/svg\" xmlns:xlink=\"http://www.w3.org/1999/xlink\">\n <defs>\n  <style type=\"text/css\">\n*{stroke-linecap:butt;stroke-linejoin:round;}\n  </style>\n </defs>\n <g id=\"figure_1\">\n  <g id=\"patch_1\">\n   <path d=\"M 0 315.198488 \nL 460.72125 315.198488 \nL 460.72125 0 \nL 0 0 \nz\n\" style=\"fill:none;\"/>\n  </g>\n  <g id=\"axes_1\">\n   <g id=\"patch_2\">\n    <path d=\"M 62.92125 279.623705 \nL 453.52125 279.623705 \nL 453.52125 7.823705 \nL 62.92125 7.823705 \nz\n\" style=\"fill:#ffffff;\"/>\n   </g>\n   <g id=\"matplotlib.axis_1\">\n    <g id=\"xtick_1\">\n     <g id=\"line2d_1\">\n      <defs>\n       <path d=\"M 0 0 \nL 0 3.5 \n\" id=\"m354eb188ec\" style=\"stroke:#000000;stroke-width:0.8;\"/>\n      </defs>\n      <g>\n       <use style=\"stroke:#000000;stroke-width:0.8;\" x=\"139.857614\" xlink:href=\"#m354eb188ec\" y=\"279.623705\"/>\n      </g>\n     </g>\n     <g id=\"text_1\">\n      <!-- 00 -->\n      <defs>\n       <path d=\"M 31.78125 66.40625 \nQ 24.171875 66.40625 20.328125 58.90625 \nQ 16.5 51.421875 16.5 36.375 \nQ 16.5 21.390625 20.328125 13.890625 \nQ 24.171875 6.390625 31.78125 6.390625 \nQ 39.453125 6.390625 43.28125 13.890625 \nQ 47.125 21.390625 47.125 36.375 \nQ 47.125 51.421875 43.28125 58.90625 \nQ 39.453125 66.40625 31.78125 66.40625 \nz\nM 31.78125 74.21875 \nQ 44.046875 74.21875 50.515625 64.515625 \nQ 56.984375 54.828125 56.984375 36.375 \nQ 56.984375 17.96875 50.515625 8.265625 \nQ 44.046875 -1.421875 31.78125 -1.421875 \nQ 19.53125 -1.421875 13.0625 8.265625 \nQ 6.59375 17.96875 6.59375 36.375 \nQ 6.59375 54.828125 13.0625 64.515625 \nQ 19.53125 74.21875 31.78125 74.21875 \nz\n\" id=\"DejaVuSans-48\"/>\n      </defs>\n      <g transform=\"translate(140.441219 307.002675)rotate(-70)scale(0.14 -0.14)\">\n       <use xlink:href=\"#DejaVuSans-48\"/>\n       <use x=\"63.623047\" xlink:href=\"#DejaVuSans-48\"/>\n      </g>\n     </g>\n    </g>\n    <g id=\"xtick_2\">\n     <g id=\"line2d_2\">\n      <g>\n       <use style=\"stroke:#000000;stroke-width:0.8;\" x=\"376.584886\" xlink:href=\"#m354eb188ec\" y=\"279.623705\"/>\n      </g>\n     </g>\n     <g id=\"text_2\">\n      <!-- 11 -->\n      <defs>\n       <path d=\"M 12.40625 8.296875 \nL 28.515625 8.296875 \nL 28.515625 63.921875 \nL 10.984375 60.40625 \nL 10.984375 69.390625 \nL 28.421875 72.90625 \nL 38.28125 72.90625 \nL 38.28125 8.296875 \nL 54.390625 8.296875 \nL 54.390625 0 \nL 12.40625 0 \nz\n\" id=\"DejaVuSans-49\"/>\n      </defs>\n      <g transform=\"translate(377.168492 307.002675)rotate(-70)scale(0.14 -0.14)\">\n       <use xlink:href=\"#DejaVuSans-49\"/>\n       <use x=\"63.623047\" xlink:href=\"#DejaVuSans-49\"/>\n      </g>\n     </g>\n    </g>\n   </g>\n   <g id=\"matplotlib.axis_2\">\n    <g id=\"ytick_1\">\n     <g id=\"line2d_3\">\n      <path clip-path=\"url(#p7aa95ad662)\" d=\"M 62.92125 279.623705 \nL 453.52125 279.623705 \n\" style=\"fill:none;stroke:#b0b0b0;stroke-dasharray:2.96,1.28;stroke-dashoffset:0;stroke-width:0.8;\"/>\n     </g>\n     <g id=\"line2d_4\">\n      <defs>\n       <path d=\"M 0 0 \nL -3.5 0 \n\" id=\"m03d0747d74\" style=\"stroke:#000000;stroke-width:0.8;\"/>\n      </defs>\n      <g>\n       <use style=\"stroke:#000000;stroke-width:0.8;\" x=\"62.92125\" xlink:href=\"#m03d0747d74\" y=\"279.623705\"/>\n      </g>\n     </g>\n     <g id=\"text_3\">\n      <!-- 0.00 -->\n      <defs>\n       <path d=\"M 10.6875 12.40625 \nL 21 12.40625 \nL 21 0 \nL 10.6875 0 \nz\n\" id=\"DejaVuSans-46\"/>\n      </defs>\n      <g transform=\"translate(24.749375 284.942611)scale(0.14 -0.14)\">\n       <use xlink:href=\"#DejaVuSans-48\"/>\n       <use x=\"63.623047\" xlink:href=\"#DejaVuSans-46\"/>\n       <use x=\"95.410156\" xlink:href=\"#DejaVuSans-48\"/>\n       <use x=\"159.033203\" xlink:href=\"#DejaVuSans-48\"/>\n      </g>\n     </g>\n    </g>\n    <g id=\"ytick_2\">\n     <g id=\"line2d_5\">\n      <path clip-path=\"url(#p7aa95ad662)\" d=\"M 62.92125 212.847505 \nL 453.52125 212.847505 \n\" style=\"fill:none;stroke:#b0b0b0;stroke-dasharray:2.96,1.28;stroke-dashoffset:0;stroke-width:0.8;\"/>\n     </g>\n     <g id=\"line2d_6\">\n      <g>\n       <use style=\"stroke:#000000;stroke-width:0.8;\" x=\"62.92125\" xlink:href=\"#m03d0747d74\" y=\"212.847505\"/>\n      </g>\n     </g>\n     <g id=\"text_4\">\n      <!-- 0.15 -->\n      <defs>\n       <path d=\"M 10.796875 72.90625 \nL 49.515625 72.90625 \nL 49.515625 64.59375 \nL 19.828125 64.59375 \nL 19.828125 46.734375 \nQ 21.96875 47.46875 24.109375 47.828125 \nQ 26.265625 48.1875 28.421875 48.1875 \nQ 40.625 48.1875 47.75 41.5 \nQ 54.890625 34.8125 54.890625 23.390625 \nQ 54.890625 11.625 47.5625 5.09375 \nQ 40.234375 -1.421875 26.90625 -1.421875 \nQ 22.3125 -1.421875 17.546875 -0.640625 \nQ 12.796875 0.140625 7.71875 1.703125 \nL 7.71875 11.625 \nQ 12.109375 9.234375 16.796875 8.0625 \nQ 21.484375 6.890625 26.703125 6.890625 \nQ 35.15625 6.890625 40.078125 11.328125 \nQ 45.015625 15.765625 45.015625 23.390625 \nQ 45.015625 31 40.078125 35.4375 \nQ 35.15625 39.890625 26.703125 39.890625 \nQ 22.75 39.890625 18.8125 39.015625 \nQ 14.890625 38.140625 10.796875 36.28125 \nz\n\" id=\"DejaVuSans-53\"/>\n      </defs>\n      <g transform=\"translate(24.749375 218.166411)scale(0.14 -0.14)\">\n       <use xlink:href=\"#DejaVuSans-48\"/>\n       <use x=\"63.623047\" xlink:href=\"#DejaVuSans-46\"/>\n       <use x=\"95.410156\" xlink:href=\"#DejaVuSans-49\"/>\n       <use x=\"159.033203\" xlink:href=\"#DejaVuSans-53\"/>\n      </g>\n     </g>\n    </g>\n    <g id=\"ytick_3\">\n     <g id=\"line2d_7\">\n      <path clip-path=\"url(#p7aa95ad662)\" d=\"M 62.92125 146.071305 \nL 453.52125 146.071305 \n\" style=\"fill:none;stroke:#b0b0b0;stroke-dasharray:2.96,1.28;stroke-dashoffset:0;stroke-width:0.8;\"/>\n     </g>\n     <g id=\"line2d_8\">\n      <g>\n       <use style=\"stroke:#000000;stroke-width:0.8;\" x=\"62.92125\" xlink:href=\"#m03d0747d74\" y=\"146.071305\"/>\n      </g>\n     </g>\n     <g id=\"text_5\">\n      <!-- 0.30 -->\n      <defs>\n       <path d=\"M 40.578125 39.3125 \nQ 47.65625 37.796875 51.625 33 \nQ 55.609375 28.21875 55.609375 21.1875 \nQ 55.609375 10.40625 48.1875 4.484375 \nQ 40.765625 -1.421875 27.09375 -1.421875 \nQ 22.515625 -1.421875 17.65625 -0.515625 \nQ 12.796875 0.390625 7.625 2.203125 \nL 7.625 11.71875 \nQ 11.71875 9.328125 16.59375 8.109375 \nQ 21.484375 6.890625 26.8125 6.890625 \nQ 36.078125 6.890625 40.9375 10.546875 \nQ 45.796875 14.203125 45.796875 21.1875 \nQ 45.796875 27.640625 41.28125 31.265625 \nQ 36.765625 34.90625 28.71875 34.90625 \nL 20.21875 34.90625 \nL 20.21875 43.015625 \nL 29.109375 43.015625 \nQ 36.375 43.015625 40.234375 45.921875 \nQ 44.09375 48.828125 44.09375 54.296875 \nQ 44.09375 59.90625 40.109375 62.90625 \nQ 36.140625 65.921875 28.71875 65.921875 \nQ 24.65625 65.921875 20.015625 65.03125 \nQ 15.375 64.15625 9.8125 62.3125 \nL 9.8125 71.09375 \nQ 15.4375 72.65625 20.34375 73.4375 \nQ 25.25 74.21875 29.59375 74.21875 \nQ 40.828125 74.21875 47.359375 69.109375 \nQ 53.90625 64.015625 53.90625 55.328125 \nQ 53.90625 49.265625 50.4375 45.09375 \nQ 46.96875 40.921875 40.578125 39.3125 \nz\n\" id=\"DejaVuSans-51\"/>\n      </defs>\n      <g transform=\"translate(24.749375 151.390212)scale(0.14 -0.14)\">\n       <use xlink:href=\"#DejaVuSans-48\"/>\n       <use x=\"63.623047\" xlink:href=\"#DejaVuSans-46\"/>\n       <use x=\"95.410156\" xlink:href=\"#DejaVuSans-51\"/>\n       <use x=\"159.033203\" xlink:href=\"#DejaVuSans-48\"/>\n      </g>\n     </g>\n    </g>\n    <g id=\"ytick_4\">\n     <g id=\"line2d_9\">\n      <path clip-path=\"url(#p7aa95ad662)\" d=\"M 62.92125 79.295106 \nL 453.52125 79.295106 \n\" style=\"fill:none;stroke:#b0b0b0;stroke-dasharray:2.96,1.28;stroke-dashoffset:0;stroke-width:0.8;\"/>\n     </g>\n     <g id=\"line2d_10\">\n      <g>\n       <use style=\"stroke:#000000;stroke-width:0.8;\" x=\"62.92125\" xlink:href=\"#m03d0747d74\" y=\"79.295106\"/>\n      </g>\n     </g>\n     <g id=\"text_6\">\n      <!-- 0.45 -->\n      <defs>\n       <path d=\"M 37.796875 64.3125 \nL 12.890625 25.390625 \nL 37.796875 25.390625 \nz\nM 35.203125 72.90625 \nL 47.609375 72.90625 \nL 47.609375 25.390625 \nL 58.015625 25.390625 \nL 58.015625 17.1875 \nL 47.609375 17.1875 \nL 47.609375 0 \nL 37.796875 0 \nL 37.796875 17.1875 \nL 4.890625 17.1875 \nL 4.890625 26.703125 \nz\n\" id=\"DejaVuSans-52\"/>\n      </defs>\n      <g transform=\"translate(24.749375 84.614012)scale(0.14 -0.14)\">\n       <use xlink:href=\"#DejaVuSans-48\"/>\n       <use x=\"63.623047\" xlink:href=\"#DejaVuSans-46\"/>\n       <use x=\"95.410156\" xlink:href=\"#DejaVuSans-52\"/>\n       <use x=\"159.033203\" xlink:href=\"#DejaVuSans-53\"/>\n      </g>\n     </g>\n    </g>\n    <g id=\"ytick_5\">\n     <g id=\"line2d_11\">\n      <path clip-path=\"url(#p7aa95ad662)\" d=\"M 62.92125 12.518906 \nL 453.52125 12.518906 \n\" style=\"fill:none;stroke:#b0b0b0;stroke-dasharray:2.96,1.28;stroke-dashoffset:0;stroke-width:0.8;\"/>\n     </g>\n     <g id=\"line2d_12\">\n      <g>\n       <use style=\"stroke:#000000;stroke-width:0.8;\" x=\"62.92125\" xlink:href=\"#m03d0747d74\" y=\"12.518906\"/>\n      </g>\n     </g>\n     <g id=\"text_7\">\n      <!-- 0.60 -->\n      <defs>\n       <path d=\"M 33.015625 40.375 \nQ 26.375 40.375 22.484375 35.828125 \nQ 18.609375 31.296875 18.609375 23.390625 \nQ 18.609375 15.53125 22.484375 10.953125 \nQ 26.375 6.390625 33.015625 6.390625 \nQ 39.65625 6.390625 43.53125 10.953125 \nQ 47.40625 15.53125 47.40625 23.390625 \nQ 47.40625 31.296875 43.53125 35.828125 \nQ 39.65625 40.375 33.015625 40.375 \nz\nM 52.59375 71.296875 \nL 52.59375 62.3125 \nQ 48.875 64.0625 45.09375 64.984375 \nQ 41.3125 65.921875 37.59375 65.921875 \nQ 27.828125 65.921875 22.671875 59.328125 \nQ 17.53125 52.734375 16.796875 39.40625 \nQ 19.671875 43.65625 24.015625 45.921875 \nQ 28.375 48.1875 33.59375 48.1875 \nQ 44.578125 48.1875 50.953125 41.515625 \nQ 57.328125 34.859375 57.328125 23.390625 \nQ 57.328125 12.15625 50.6875 5.359375 \nQ 44.046875 -1.421875 33.015625 -1.421875 \nQ 20.359375 -1.421875 13.671875 8.265625 \nQ 6.984375 17.96875 6.984375 36.375 \nQ 6.984375 53.65625 15.1875 63.9375 \nQ 23.390625 74.21875 37.203125 74.21875 \nQ 40.921875 74.21875 44.703125 73.484375 \nQ 48.484375 72.75 52.59375 71.296875 \nz\n\" id=\"DejaVuSans-54\"/>\n      </defs>\n      <g transform=\"translate(24.749375 17.837812)scale(0.14 -0.14)\">\n       <use xlink:href=\"#DejaVuSans-48\"/>\n       <use x=\"63.623047\" xlink:href=\"#DejaVuSans-46\"/>\n       <use x=\"95.410156\" xlink:href=\"#DejaVuSans-54\"/>\n       <use x=\"159.033203\" xlink:href=\"#DejaVuSans-48\"/>\n      </g>\n     </g>\n    </g>\n    <g id=\"text_8\">\n     <!-- Probabilities -->\n     <defs>\n      <path d=\"M 19.671875 64.796875 \nL 19.671875 37.40625 \nL 32.078125 37.40625 \nQ 38.96875 37.40625 42.71875 40.96875 \nQ 46.484375 44.53125 46.484375 51.125 \nQ 46.484375 57.671875 42.71875 61.234375 \nQ 38.96875 64.796875 32.078125 64.796875 \nz\nM 9.8125 72.90625 \nL 32.078125 72.90625 \nQ 44.34375 72.90625 50.609375 67.359375 \nQ 56.890625 61.8125 56.890625 51.125 \nQ 56.890625 40.328125 50.609375 34.8125 \nQ 44.34375 29.296875 32.078125 29.296875 \nL 19.671875 29.296875 \nL 19.671875 0 \nL 9.8125 0 \nz\n\" id=\"DejaVuSans-80\"/>\n      <path d=\"M 41.109375 46.296875 \nQ 39.59375 47.171875 37.8125 47.578125 \nQ 36.03125 48 33.890625 48 \nQ 26.265625 48 22.1875 43.046875 \nQ 18.109375 38.09375 18.109375 28.8125 \nL 18.109375 0 \nL 9.078125 0 \nL 9.078125 54.6875 \nL 18.109375 54.6875 \nL 18.109375 46.1875 \nQ 20.953125 51.171875 25.484375 53.578125 \nQ 30.03125 56 36.53125 56 \nQ 37.453125 56 38.578125 55.875 \nQ 39.703125 55.765625 41.0625 55.515625 \nz\n\" id=\"DejaVuSans-114\"/>\n      <path d=\"M 30.609375 48.390625 \nQ 23.390625 48.390625 19.1875 42.75 \nQ 14.984375 37.109375 14.984375 27.296875 \nQ 14.984375 17.484375 19.15625 11.84375 \nQ 23.34375 6.203125 30.609375 6.203125 \nQ 37.796875 6.203125 41.984375 11.859375 \nQ 46.1875 17.53125 46.1875 27.296875 \nQ 46.1875 37.015625 41.984375 42.703125 \nQ 37.796875 48.390625 30.609375 48.390625 \nz\nM 30.609375 56 \nQ 42.328125 56 49.015625 48.375 \nQ 55.71875 40.765625 55.71875 27.296875 \nQ 55.71875 13.875 49.015625 6.21875 \nQ 42.328125 -1.421875 30.609375 -1.421875 \nQ 18.84375 -1.421875 12.171875 6.21875 \nQ 5.515625 13.875 5.515625 27.296875 \nQ 5.515625 40.765625 12.171875 48.375 \nQ 18.84375 56 30.609375 56 \nz\n\" id=\"DejaVuSans-111\"/>\n      <path d=\"M 48.6875 27.296875 \nQ 48.6875 37.203125 44.609375 42.84375 \nQ 40.53125 48.484375 33.40625 48.484375 \nQ 26.265625 48.484375 22.1875 42.84375 \nQ 18.109375 37.203125 18.109375 27.296875 \nQ 18.109375 17.390625 22.1875 11.75 \nQ 26.265625 6.109375 33.40625 6.109375 \nQ 40.53125 6.109375 44.609375 11.75 \nQ 48.6875 17.390625 48.6875 27.296875 \nz\nM 18.109375 46.390625 \nQ 20.953125 51.265625 25.265625 53.625 \nQ 29.59375 56 35.59375 56 \nQ 45.5625 56 51.78125 48.09375 \nQ 58.015625 40.1875 58.015625 27.296875 \nQ 58.015625 14.40625 51.78125 6.484375 \nQ 45.5625 -1.421875 35.59375 -1.421875 \nQ 29.59375 -1.421875 25.265625 0.953125 \nQ 20.953125 3.328125 18.109375 8.203125 \nL 18.109375 0 \nL 9.078125 0 \nL 9.078125 75.984375 \nL 18.109375 75.984375 \nz\n\" id=\"DejaVuSans-98\"/>\n      <path d=\"M 34.28125 27.484375 \nQ 23.390625 27.484375 19.1875 25 \nQ 14.984375 22.515625 14.984375 16.5 \nQ 14.984375 11.71875 18.140625 8.90625 \nQ 21.296875 6.109375 26.703125 6.109375 \nQ 34.1875 6.109375 38.703125 11.40625 \nQ 43.21875 16.703125 43.21875 25.484375 \nL 43.21875 27.484375 \nz\nM 52.203125 31.203125 \nL 52.203125 0 \nL 43.21875 0 \nL 43.21875 8.296875 \nQ 40.140625 3.328125 35.546875 0.953125 \nQ 30.953125 -1.421875 24.3125 -1.421875 \nQ 15.921875 -1.421875 10.953125 3.296875 \nQ 6 8.015625 6 15.921875 \nQ 6 25.140625 12.171875 29.828125 \nQ 18.359375 34.515625 30.609375 34.515625 \nL 43.21875 34.515625 \nL 43.21875 35.40625 \nQ 43.21875 41.609375 39.140625 45 \nQ 35.0625 48.390625 27.6875 48.390625 \nQ 23 48.390625 18.546875 47.265625 \nQ 14.109375 46.140625 10.015625 43.890625 \nL 10.015625 52.203125 \nQ 14.9375 54.109375 19.578125 55.046875 \nQ 24.21875 56 28.609375 56 \nQ 40.484375 56 46.34375 49.84375 \nQ 52.203125 43.703125 52.203125 31.203125 \nz\n\" id=\"DejaVuSans-97\"/>\n      <path d=\"M 9.421875 54.6875 \nL 18.40625 54.6875 \nL 18.40625 0 \nL 9.421875 0 \nz\nM 9.421875 75.984375 \nL 18.40625 75.984375 \nL 18.40625 64.59375 \nL 9.421875 64.59375 \nz\n\" id=\"DejaVuSans-105\"/>\n      <path d=\"M 9.421875 75.984375 \nL 18.40625 75.984375 \nL 18.40625 0 \nL 9.421875 0 \nz\n\" id=\"DejaVuSans-108\"/>\n      <path d=\"M 18.3125 70.21875 \nL 18.3125 54.6875 \nL 36.8125 54.6875 \nL 36.8125 47.703125 \nL 18.3125 47.703125 \nL 18.3125 18.015625 \nQ 18.3125 11.328125 20.140625 9.421875 \nQ 21.96875 7.515625 27.59375 7.515625 \nL 36.8125 7.515625 \nL 36.8125 0 \nL 27.59375 0 \nQ 17.1875 0 13.234375 3.875 \nQ 9.28125 7.765625 9.28125 18.015625 \nL 9.28125 47.703125 \nL 2.6875 47.703125 \nL 2.6875 54.6875 \nL 9.28125 54.6875 \nL 9.28125 70.21875 \nz\n\" id=\"DejaVuSans-116\"/>\n      <path d=\"M 56.203125 29.59375 \nL 56.203125 25.203125 \nL 14.890625 25.203125 \nQ 15.484375 15.921875 20.484375 11.0625 \nQ 25.484375 6.203125 34.421875 6.203125 \nQ 39.59375 6.203125 44.453125 7.46875 \nQ 49.3125 8.734375 54.109375 11.28125 \nL 54.109375 2.78125 \nQ 49.265625 0.734375 44.1875 -0.34375 \nQ 39.109375 -1.421875 33.890625 -1.421875 \nQ 20.796875 -1.421875 13.15625 6.1875 \nQ 5.515625 13.8125 5.515625 26.8125 \nQ 5.515625 40.234375 12.765625 48.109375 \nQ 20.015625 56 32.328125 56 \nQ 43.359375 56 49.78125 48.890625 \nQ 56.203125 41.796875 56.203125 29.59375 \nz\nM 47.21875 32.234375 \nQ 47.125 39.59375 43.09375 43.984375 \nQ 39.0625 48.390625 32.421875 48.390625 \nQ 24.90625 48.390625 20.390625 44.140625 \nQ 15.875 39.890625 15.1875 32.171875 \nz\n\" id=\"DejaVuSans-101\"/>\n      <path d=\"M 44.28125 53.078125 \nL 44.28125 44.578125 \nQ 40.484375 46.53125 36.375 47.5 \nQ 32.28125 48.484375 27.875 48.484375 \nQ 21.1875 48.484375 17.84375 46.4375 \nQ 14.5 44.390625 14.5 40.28125 \nQ 14.5 37.15625 16.890625 35.375 \nQ 19.28125 33.59375 26.515625 31.984375 \nL 29.59375 31.296875 \nQ 39.15625 29.25 43.1875 25.515625 \nQ 47.21875 21.78125 47.21875 15.09375 \nQ 47.21875 7.46875 41.1875 3.015625 \nQ 35.15625 -1.421875 24.609375 -1.421875 \nQ 20.21875 -1.421875 15.453125 -0.5625 \nQ 10.6875 0.296875 5.421875 2 \nL 5.421875 11.28125 \nQ 10.40625 8.6875 15.234375 7.390625 \nQ 20.0625 6.109375 24.8125 6.109375 \nQ 31.15625 6.109375 34.5625 8.28125 \nQ 37.984375 10.453125 37.984375 14.40625 \nQ 37.984375 18.0625 35.515625 20.015625 \nQ 33.0625 21.96875 24.703125 23.78125 \nL 21.578125 24.515625 \nQ 13.234375 26.265625 9.515625 29.90625 \nQ 5.8125 33.546875 5.8125 39.890625 \nQ 5.8125 47.609375 11.28125 51.796875 \nQ 16.75 56 26.8125 56 \nQ 31.78125 56 36.171875 55.265625 \nQ 40.578125 54.546875 44.28125 53.078125 \nz\n\" id=\"DejaVuSans-115\"/>\n     </defs>\n     <g transform=\"translate(17.837813 186.756205)rotate(-90)scale(0.14 -0.14)\">\n      <use xlink:href=\"#DejaVuSans-80\"/>\n      <use x=\"60.287109\" xlink:href=\"#DejaVuSans-114\"/>\n      <use x=\"101.369141\" xlink:href=\"#DejaVuSans-111\"/>\n      <use x=\"162.550781\" xlink:href=\"#DejaVuSans-98\"/>\n      <use x=\"226.027344\" xlink:href=\"#DejaVuSans-97\"/>\n      <use x=\"287.306641\" xlink:href=\"#DejaVuSans-98\"/>\n      <use x=\"350.783203\" xlink:href=\"#DejaVuSans-105\"/>\n      <use x=\"378.566406\" xlink:href=\"#DejaVuSans-108\"/>\n      <use x=\"406.349609\" xlink:href=\"#DejaVuSans-105\"/>\n      <use x=\"434.132812\" xlink:href=\"#DejaVuSans-116\"/>\n      <use x=\"473.341797\" xlink:href=\"#DejaVuSans-105\"/>\n      <use x=\"501.125\" xlink:href=\"#DejaVuSans-101\"/>\n      <use x=\"562.648438\" xlink:href=\"#DejaVuSans-115\"/>\n     </g>\n    </g>\n   </g>\n   <g id=\"patch_3\">\n    <path clip-path=\"url(#p7aa95ad662)\" d=\"M 80.675795 279.623705 \nL 199.039432 279.623705 \nL 199.039432 60.949041 \nL 80.675795 60.949041 \nz\n\" style=\"fill:#648fff;\"/>\n   </g>\n   <g id=\"patch_4\">\n    <path clip-path=\"url(#p7aa95ad662)\" d=\"M 317.403068 279.623705 \nL 435.766705 279.623705 \nL 435.766705 53.123705 \nL 317.403068 53.123705 \nz\n\" style=\"fill:#648fff;\"/>\n   </g>\n   <g id=\"patch_5\">\n    <path d=\"M 62.92125 279.623705 \nL 62.92125 7.823705 \n\" style=\"fill:none;stroke:#000000;stroke-linecap:square;stroke-linejoin:miter;stroke-width:0.8;\"/>\n   </g>\n   <g id=\"patch_6\">\n    <path d=\"M 453.52125 279.623705 \nL 453.52125 7.823705 \n\" style=\"fill:none;stroke:#000000;stroke-linecap:square;stroke-linejoin:miter;stroke-width:0.8;\"/>\n   </g>\n   <g id=\"patch_7\">\n    <path d=\"M 62.92125 279.623705 \nL 453.52125 279.623705 \n\" style=\"fill:none;stroke:#000000;stroke-linecap:square;stroke-linejoin:miter;stroke-width:0.8;\"/>\n   </g>\n   <g id=\"patch_8\">\n    <path d=\"M 62.92125 7.823705 \nL 453.52125 7.823705 \n\" style=\"fill:none;stroke:#000000;stroke-linecap:square;stroke-linejoin:miter;stroke-width:0.8;\"/>\n   </g>\n   <g id=\"text_9\">\n    <!-- 0.491 -->\n    <defs>\n     <path d=\"M 10.984375 1.515625 \nL 10.984375 10.5 \nQ 14.703125 8.734375 18.5 7.8125 \nQ 22.3125 6.890625 25.984375 6.890625 \nQ 35.75 6.890625 40.890625 13.453125 \nQ 46.046875 20.015625 46.78125 33.40625 \nQ 43.953125 29.203125 39.59375 26.953125 \nQ 35.25 24.703125 29.984375 24.703125 \nQ 19.046875 24.703125 12.671875 31.3125 \nQ 6.296875 37.9375 6.296875 49.421875 \nQ 6.296875 60.640625 12.9375 67.421875 \nQ 19.578125 74.21875 30.609375 74.21875 \nQ 43.265625 74.21875 49.921875 64.515625 \nQ 56.59375 54.828125 56.59375 36.375 \nQ 56.59375 19.140625 48.40625 8.859375 \nQ 40.234375 -1.421875 26.421875 -1.421875 \nQ 22.703125 -1.421875 18.890625 -0.6875 \nQ 15.09375 0.046875 10.984375 1.515625 \nz\nM 30.609375 32.421875 \nQ 37.25 32.421875 41.125 36.953125 \nQ 45.015625 41.5 45.015625 49.421875 \nQ 45.015625 57.28125 41.125 61.84375 \nQ 37.25 66.40625 30.609375 66.40625 \nQ 23.96875 66.40625 20.09375 61.84375 \nQ 16.21875 57.28125 16.21875 49.421875 \nQ 16.21875 41.5 20.09375 36.953125 \nQ 23.96875 32.421875 30.609375 32.421875 \nz\n\" id=\"DejaVuSans-57\"/>\n    </defs>\n    <g transform=\"translate(125.543551 47.93562)scale(0.1 -0.1)\">\n     <use xlink:href=\"#DejaVuSans-48\"/>\n     <use x=\"63.623047\" xlink:href=\"#DejaVuSans-46\"/>\n     <use x=\"95.410156\" xlink:href=\"#DejaVuSans-52\"/>\n     <use x=\"159.033203\" xlink:href=\"#DejaVuSans-57\"/>\n     <use x=\"222.65625\" xlink:href=\"#DejaVuSans-49\"/>\n    </g>\n   </g>\n   <g id=\"text_10\">\n    <!-- 0.509 -->\n    <g transform=\"translate(362.270824 39.719017)scale(0.1 -0.1)\">\n     <use xlink:href=\"#DejaVuSans-48\"/>\n     <use x=\"63.623047\" xlink:href=\"#DejaVuSans-46\"/>\n     <use x=\"95.410156\" xlink:href=\"#DejaVuSans-53\"/>\n     <use x=\"159.033203\" xlink:href=\"#DejaVuSans-48\"/>\n     <use x=\"222.65625\" xlink:href=\"#DejaVuSans-57\"/>\n    </g>\n   </g>\n  </g>\n </g>\n <defs>\n  <clipPath id=\"p7aa95ad662\">\n   <rect height=\"271.8\" width=\"390.6\" x=\"62.92125\" y=\"7.823705\"/>\n  </clipPath>\n </defs>\n</svg>\n",
            "text/plain": [
              "<Figure size 504x360 with 1 Axes>"
            ]
          },
          "metadata": {
            "tags": []
          },
          "execution_count": 19
        }
      ]
    },
    {
      "cell_type": "markdown",
      "metadata": {
        "id": "g4Km4NLxRiow",
        "colab_type": "text"
      },
      "source": [
        "For compatible backends we can also ask for and get the ordered list of results."
      ]
    },
    {
      "cell_type": "code",
      "metadata": {
        "id": "qR09XhHrRiox",
        "colab_type": "code",
        "colab": {},
        "outputId": "0cf4304a-c062-45ec-ccbd-556fd8f79566"
      },
      "source": [
        "job = execute( qc, emulator, shots=10, memory=True )\n",
        "samples = job.result().get_memory()\n",
        "print(samples)"
      ],
      "execution_count": 0,
      "outputs": [
        {
          "output_type": "stream",
          "text": [
            "['00', '00', '00', '11', '11', '11', '00', '00', '00', '00']\n"
          ],
          "name": "stdout"
        }
      ]
    },
    {
      "cell_type": "markdown",
      "metadata": {
        "id": "fYuKWGK3Rio4",
        "colab_type": "text"
      },
      "source": [
        "Note that the bits are labelled from right to left. So `cr[0]` is the one to the furthest right, and so on. As an example of this, here's an 8 qubit circuit with a Pauli $X$ on only the qubit numbered `7`, which has its output stored to the bit numbered `7`."
      ]
    },
    {
      "cell_type": "code",
      "metadata": {
        "id": "mYpf1k4IRio5",
        "colab_type": "code",
        "colab": {},
        "outputId": "85a8ae03-ad8b-438a-ae72-0e50f2e9f219"
      },
      "source": [
        "qubit = QuantumRegister(8)\n",
        "bit = ClassicalRegister(8)\n",
        "circuit = QuantumCircuit(qubit,bit)\n",
        "\n",
        "circuit.x(qubit[7])\n",
        "circuit.measure(qubit,bit) # this is a way to do all the qc.measure(qr8[j],cr8[j]) at once\n",
        "\n",
        "execute( circuit, emulator, shots=8192 ).result().get_counts()"
      ],
      "execution_count": 0,
      "outputs": [
        {
          "output_type": "execute_result",
          "data": {
            "text/plain": [
              "{'10000000': 8192}"
            ]
          },
          "metadata": {
            "tags": []
          },
          "execution_count": 21
        }
      ]
    },
    {
      "cell_type": "markdown",
      "metadata": {
        "id": "RAG8z_VaRipA",
        "colab_type": "text"
      },
      "source": [
        "The `1` appears at the left.\n",
        "\n",
        "This numbering reflects the role of the bits when they represent an integer.\n",
        "\n",
        "\n",
        "\n",
        "$$ b_{n-1} ~ b_{n-2} ~ \\ldots ~ b_1 ~ b_0 = \\sum_j ~ b_j ~ 2^j $$\n",
        "\n",
        "\n",
        "\n",
        "So the string we get in our result is the binary for $2^7$ because it has a `1` for the bit numbered `7`."
      ]
    },
    {
      "cell_type": "markdown",
      "metadata": {
        "id": "kGI20e4-RipB",
        "colab_type": "text"
      },
      "source": [
        "### Simplified notation"
      ]
    },
    {
      "cell_type": "markdown",
      "metadata": {
        "id": "jaHa_YzmRipC",
        "colab_type": "text"
      },
      "source": [
        "Multiple quantum and classical registers can be added to a circuit. However, if we need no more than one of each, we can use a simplified notation.\n",
        "\n",
        "For example, consider the following."
      ]
    },
    {
      "cell_type": "code",
      "metadata": {
        "id": "ZBbcC3SrRipF",
        "colab_type": "code",
        "colab": {}
      },
      "source": [
        "qc = QuantumCircuit(3)"
      ],
      "execution_count": 0,
      "outputs": []
    },
    {
      "cell_type": "markdown",
      "metadata": {
        "id": "X6bfkiVbRipK",
        "colab_type": "text"
      },
      "source": [
        "The single argument to `QuantumCircuit` is interpreted as the number of qubits we want. So this circuit is one that has a single quantum register consisting of three qubits, and no classical register.\n",
        "\n",
        "When adding gates, we can then refer to the three qubits simply by their index: 0, 1 or 2. For example, here's a Hadamard on qubit 1."
      ]
    },
    {
      "cell_type": "code",
      "metadata": {
        "id": "mnmFXd8_RipL",
        "colab_type": "code",
        "colab": {},
        "outputId": "9c95f4ae-2ac9-4a59-ab73-13d2054bbd3f"
      },
      "source": [
        "qc.h(1)\n",
        "\n",
        "qc.draw(output='mpl')"
      ],
      "execution_count": 0,
      "outputs": [
        {
          "output_type": "execute_result",
          "data": {
            "image/svg+xml": "<?xml version=\"1.0\" encoding=\"utf-8\" standalone=\"no\"?>\n<!DOCTYPE svg PUBLIC \"-//W3C//DTD SVG 1.1//EN\"\n  \"http://www.w3.org/Graphics/SVG/1.1/DTD/svg11.dtd\">\n<!-- Created with matplotlib (https://matplotlib.org/) -->\n<svg height=\"168.9334pt\" version=\"1.1\" viewBox=\"0 0 194.38596 168.9334\" width=\"194.38596pt\" xmlns=\"http://www.w3.org/2000/svg\" xmlns:xlink=\"http://www.w3.org/1999/xlink\">\n <defs>\n  <style type=\"text/css\">\n*{stroke-linecap:butt;stroke-linejoin:round;}\n  </style>\n </defs>\n <g id=\"figure_1\">\n  <g id=\"patch_1\">\n   <path d=\"M -0 168.9334 \nL 194.38596 168.9334 \nL 194.38596 0 \nL -0 0 \nz\n\" style=\"fill:#ffffff;\"/>\n  </g>\n  <g id=\"axes_1\">\n   <g id=\"line2d_1\">\n    <path clip-path=\"url(#p2a84c44000)\" d=\"M 114.46436 43.5608 \nL 182.64086 43.5608 \n\" style=\"fill:none;stroke:#000000;stroke-linecap:square;stroke-width:2;\"/>\n   </g>\n   <g id=\"line2d_2\">\n    <path clip-path=\"url(#p2a84c44000)\" d=\"M 114.46436 89.0118 \nL 182.64086 89.0118 \n\" style=\"fill:none;stroke:#000000;stroke-linecap:square;stroke-width:2;\"/>\n   </g>\n   <g id=\"line2d_3\">\n    <path clip-path=\"url(#p2a84c44000)\" d=\"M 114.46436 134.4628 \nL 182.64086 134.4628 \n\" style=\"fill:none;stroke:#000000;stroke-linecap:square;stroke-width:2;\"/>\n   </g>\n   <g id=\"patch_2\">\n    <path clip-path=\"url(#p2a84c44000)\" d=\"M 122.418285 103.783375 \nL 151.961435 103.783375 \nL 151.961435 74.240225 \nL 122.418285 74.240225 \nz\n\" style=\"fill:#6fa4ff;\"/>\n   </g>\n   <g id=\"text_1\">\n    <g clip-path=\"url(#p2a84c44000)\">\n     <!-- $H$ -->\n     <defs>\n      <path d=\"M 16.890625 72.90625 \nL 26.8125 72.90625 \nL 21 43.015625 \nL 56.78125 43.015625 \nL 62.59375 72.90625 \nL 72.515625 72.90625 \nL 58.296875 0 \nL 48.390625 0 \nL 55.171875 34.71875 \nL 19.390625 34.71875 \nL 12.59375 0 \nL 2.6875 0 \nz\n\" id=\"DejaVuSans-Oblique-72\"/>\n     </defs>\n     <g transform=\"translate(132.24986 92.598987)scale(0.13 -0.13)\">\n      <use transform=\"translate(0 0.09375)\" xlink:href=\"#DejaVuSans-Oblique-72\"/>\n     </g>\n    </g>\n   </g>\n   <g id=\"text_2\">\n    <g clip-path=\"url(#p2a84c44000)\">\n     <!-- ${q}_{0}$ -->\n     <defs>\n      <path d=\"M 41.703125 8.203125 \nQ 38.09375 3.46875 33.171875 1.015625 \nQ 28.265625 -1.421875 22.3125 -1.421875 \nQ 14.015625 -1.421875 9.296875 4.171875 \nQ 4.59375 9.765625 4.59375 19.578125 \nQ 4.59375 27.484375 7.5 34.859375 \nQ 10.40625 42.234375 15.828125 48.09375 \nQ 19.34375 51.90625 23.90625 53.953125 \nQ 28.46875 56 33.5 56 \nQ 39.546875 56 43.453125 53.609375 \nQ 47.359375 51.21875 49.125 46.390625 \nL 50.6875 54.59375 \nL 59.71875 54.59375 \nL 45.125 -20.609375 \nL 36.078125 -20.609375 \nz\nM 13.921875 20.90625 \nQ 13.921875 13.671875 16.9375 9.890625 \nQ 19.96875 6.109375 25.6875 6.109375 \nQ 34.1875 6.109375 40.1875 14.234375 \nQ 46.1875 22.359375 46.1875 33.984375 \nQ 46.1875 41.015625 43.078125 44.75 \nQ 39.984375 48.484375 34.1875 48.484375 \nQ 29.9375 48.484375 26.3125 46.5 \nQ 22.703125 44.53125 20.015625 40.71875 \nQ 17.1875 36.71875 15.546875 31.34375 \nQ 13.921875 25.984375 13.921875 20.90625 \nz\n\" id=\"DejaVuSans-Oblique-113\"/>\n      <path d=\"M 31.78125 66.40625 \nQ 24.171875 66.40625 20.328125 58.90625 \nQ 16.5 51.421875 16.5 36.375 \nQ 16.5 21.390625 20.328125 13.890625 \nQ 24.171875 6.390625 31.78125 6.390625 \nQ 39.453125 6.390625 43.28125 13.890625 \nQ 47.125 21.390625 47.125 36.375 \nQ 47.125 51.421875 43.28125 58.90625 \nQ 39.453125 66.40625 31.78125 66.40625 \nz\nM 31.78125 74.21875 \nQ 44.046875 74.21875 50.515625 64.515625 \nQ 56.984375 54.828125 56.984375 36.375 \nQ 56.984375 17.96875 50.515625 8.265625 \nQ 44.046875 -1.421875 31.78125 -1.421875 \nQ 19.53125 -1.421875 13.0625 8.265625 \nQ 6.59375 17.96875 6.59375 36.375 \nQ 6.59375 54.828125 13.0625 64.515625 \nQ 19.53125 74.21875 31.78125 74.21875 \nz\n\" id=\"DejaVuSans-48\"/>\n     </defs>\n     <g transform=\"translate(73.70136 48.011777)scale(0.1625 -0.1625)\">\n      <use xlink:href=\"#DejaVuSans-Oblique-113\"/>\n      <use transform=\"translate(63.476562 -16.40625)scale(0.7)\" xlink:href=\"#DejaVuSans-48\"/>\n     </g>\n    </g>\n   </g>\n   <g id=\"text_3\">\n    <g clip-path=\"url(#p2a84c44000)\">\n     <!-- ${q}_{1}$ -->\n     <defs>\n      <path d=\"M 12.40625 8.296875 \nL 28.515625 8.296875 \nL 28.515625 63.921875 \nL 10.984375 60.40625 \nL 10.984375 69.390625 \nL 28.421875 72.90625 \nL 38.28125 72.90625 \nL 38.28125 8.296875 \nL 54.390625 8.296875 \nL 54.390625 0 \nL 12.40625 0 \nz\n\" id=\"DejaVuSans-49\"/>\n     </defs>\n     <g transform=\"translate(73.70136 93.462777)scale(0.1625 -0.1625)\">\n      <use xlink:href=\"#DejaVuSans-Oblique-113\"/>\n      <use transform=\"translate(63.476562 -16.40625)scale(0.7)\" xlink:href=\"#DejaVuSans-49\"/>\n     </g>\n    </g>\n   </g>\n   <g id=\"text_4\">\n    <g clip-path=\"url(#p2a84c44000)\">\n     <!-- ${q}_{2}$ -->\n     <defs>\n      <path d=\"M 19.1875 8.296875 \nL 53.609375 8.296875 \nL 53.609375 0 \nL 7.328125 0 \nL 7.328125 8.296875 \nQ 12.9375 14.109375 22.625 23.890625 \nQ 32.328125 33.6875 34.8125 36.53125 \nQ 39.546875 41.84375 41.421875 45.53125 \nQ 43.3125 49.21875 43.3125 52.78125 \nQ 43.3125 58.59375 39.234375 62.25 \nQ 35.15625 65.921875 28.609375 65.921875 \nQ 23.96875 65.921875 18.8125 64.3125 \nQ 13.671875 62.703125 7.8125 59.421875 \nL 7.8125 69.390625 \nQ 13.765625 71.78125 18.9375 73 \nQ 24.125 74.21875 28.421875 74.21875 \nQ 39.75 74.21875 46.484375 68.546875 \nQ 53.21875 62.890625 53.21875 53.421875 \nQ 53.21875 48.921875 51.53125 44.890625 \nQ 49.859375 40.875 45.40625 35.40625 \nQ 44.1875 33.984375 37.640625 27.21875 \nQ 31.109375 20.453125 19.1875 8.296875 \nz\n\" id=\"DejaVuSans-50\"/>\n     </defs>\n     <g transform=\"translate(73.70136 138.913777)scale(0.1625 -0.1625)\">\n      <use xlink:href=\"#DejaVuSans-Oblique-113\"/>\n      <use transform=\"translate(63.476562 -16.40625)scale(0.7)\" xlink:href=\"#DejaVuSans-50\"/>\n     </g>\n    </g>\n   </g>\n  </g>\n </g>\n <defs>\n  <clipPath id=\"p2a84c44000\">\n   <rect height=\"154.5334\" width=\"179.98596\" x=\"7.2\" y=\"7.2\"/>\n  </clipPath>\n </defs>\n</svg>\n",
            "text/plain": [
              "<Figure size 238.392x204.68 with 1 Axes>"
            ]
          },
          "metadata": {
            "tags": []
          },
          "execution_count": 23
        }
      ]
    },
    {
      "cell_type": "markdown",
      "metadata": {
        "id": "OjkHANH-RipR",
        "colab_type": "text"
      },
      "source": [
        "To define a circuit with both quantum and classical registers, we can supply two arguments to `QuantumCircuit`. The first will be interpreted as the number of qubits, and the second will be the number of bits. For example, here's a two qubit circuit for which we'll take a single bit of output."
      ]
    },
    {
      "cell_type": "code",
      "metadata": {
        "id": "tyzEyLuDRipS",
        "colab_type": "code",
        "colab": {}
      },
      "source": [
        "qc = QuantumCircuit(2,1)"
      ],
      "execution_count": 0,
      "outputs": []
    },
    {
      "cell_type": "markdown",
      "metadata": {
        "id": "FsOWNhmkRipX",
        "colab_type": "text"
      },
      "source": [
        "To see this in action, here is a simple circuit. Note that, when making a measurement, we also refer to the bits in the classical register by index."
      ]
    },
    {
      "cell_type": "code",
      "metadata": {
        "id": "js0E_4PERipX",
        "colab_type": "code",
        "colab": {},
        "outputId": "62b5be31-7b12-4daa-fad5-232fc2e57b38"
      },
      "source": [
        "qc.h(0)\n",
        "qc.cx(0,1)\n",
        "qc.measure(1,0)\n",
        "\n",
        "qc.draw(output='mpl')"
      ],
      "execution_count": 0,
      "outputs": [
        {
          "output_type": "execute_result",
          "data": {
            "image/svg+xml": "<?xml version=\"1.0\" encoding=\"utf-8\" standalone=\"no\"?>\n<!DOCTYPE svg PUBLIC \"-//W3C//DTD SVG 1.1//EN\"\n  \"http://www.w3.org/Graphics/SVG/1.1/DTD/svg11.dtd\">\n<!-- Created with matplotlib (https://matplotlib.org/) -->\n<svg height=\"168.9334pt\" version=\"1.1\" viewBox=\"0 0 285.28796 168.9334\" width=\"285.28796pt\" xmlns=\"http://www.w3.org/2000/svg\" xmlns:xlink=\"http://www.w3.org/1999/xlink\">\n <defs>\n  <style type=\"text/css\">\n*{stroke-linecap:butt;stroke-linejoin:round;}\n  </style>\n </defs>\n <g id=\"figure_1\">\n  <g id=\"patch_1\">\n   <path d=\"M 0 168.9334 \nL 285.28796 168.9334 \nL 285.28796 0 \nL 0 0 \nz\n\" style=\"fill:#ffffff;\"/>\n  </g>\n  <g id=\"axes_1\">\n   <g id=\"patch_2\">\n    <path clip-path=\"url(#p8fae9b35e8)\" d=\"M 222.18323 124.122698 \nL 234.00049 124.122698 \nL 228.09186 134.4628 \nz\n\" style=\"fill:#778899;\"/>\n   </g>\n   <g id=\"line2d_1\">\n    <path clip-path=\"url(#p8fae9b35e8)\" d=\"M 114.46436 43.5608 \nL 273.54286 43.5608 \n\" style=\"fill:none;stroke:#000000;stroke-linecap:square;stroke-width:2;\"/>\n   </g>\n   <g id=\"line2d_2\">\n    <path clip-path=\"url(#p8fae9b35e8)\" d=\"M 114.46436 89.0118 \nL 273.54286 89.0118 \n\" style=\"fill:none;stroke:#000000;stroke-linecap:square;stroke-width:2;\"/>\n   </g>\n   <g id=\"line2d_3\">\n    <path clip-path=\"url(#p8fae9b35e8)\" d=\"M 114.46436 132.985643 \nL 273.54286 132.985643 \n\" style=\"fill:none;stroke:#778899;stroke-linecap:square;stroke-width:2;\"/>\n   </g>\n   <g id=\"line2d_4\">\n    <path clip-path=\"url(#p8fae9b35e8)\" d=\"M 114.46436 135.939958 \nL 273.54286 135.939958 \n\" style=\"fill:none;stroke:#778899;stroke-linecap:square;stroke-width:2;\"/>\n   </g>\n   <g id=\"line2d_5\">\n    <path clip-path=\"url(#p8fae9b35e8)\" d=\"M 182.64086 89.0118 \nL 182.64086 43.5608 \n\" style=\"fill:none;stroke:#6fa4ff;stroke-linecap:square;stroke-width:2;\"/>\n   </g>\n   <g id=\"line2d_6\">\n    <path clip-path=\"url(#p8fae9b35e8)\" d=\"M 229.569018 89.0118 \nL 229.569018 124.122698 \n\" style=\"fill:none;stroke:#778899;stroke-linecap:square;stroke-width:2;\"/>\n   </g>\n   <g id=\"line2d_7\">\n    <path clip-path=\"url(#p8fae9b35e8)\" d=\"M 226.614703 89.0118 \nL 226.614703 124.122698 \n\" style=\"fill:none;stroke:#778899;stroke-linecap:square;stroke-width:2;\"/>\n   </g>\n   <g id=\"patch_3\">\n    <path clip-path=\"url(#p8fae9b35e8)\" d=\"M 122.418285 58.332375 \nL 151.961435 58.332375 \nL 151.961435 28.789225 \nL 122.418285 28.789225 \nz\n\" style=\"fill:#6fa4ff;\"/>\n   </g>\n   <g id=\"patch_4\">\n    <path clip-path=\"url(#p8fae9b35e8)\" d=\"M 182.64086 47.992273 \nC 183.8161 47.992273 184.943364 47.525345 185.774384 46.694324 \nC 186.605405 45.863304 187.072333 44.73604 187.072333 43.5608 \nC 187.072333 42.38556 186.605405 41.258296 185.774384 40.427276 \nC 184.943364 39.596255 183.8161 39.129328 182.64086 39.129328 \nC 181.46562 39.129328 180.338356 39.596255 179.507336 40.427276 \nC 178.676315 41.258296 178.209388 42.38556 178.209388 43.5608 \nC 178.209388 44.73604 178.676315 45.863304 179.507336 46.694324 \nC 180.338356 47.525345 181.46562 47.992273 182.64086 47.992273 \nz\n\" style=\"fill:#6fa4ff;stroke:#6fa4ff;stroke-linejoin:miter;stroke-width:1.5;\"/>\n   </g>\n   <g id=\"patch_5\">\n    <path clip-path=\"url(#p8fae9b35e8)\" d=\"M 182.64086 99.351903 \nC 185.383087 99.351903 188.013369 98.262404 189.952417 96.323357 \nC 191.891464 94.384309 192.980963 91.754027 192.980963 89.0118 \nC 192.980963 86.269573 191.891464 83.639291 189.952417 81.700243 \nC 188.013369 79.761196 185.383087 78.671698 182.64086 78.671698 \nC 179.898633 78.671698 177.268351 79.761196 175.329303 81.700243 \nC 173.390256 83.639291 172.300758 86.269573 172.300758 89.0118 \nC 172.300758 91.754027 173.390256 94.384309 175.329303 96.323357 \nC 177.268351 98.262404 179.898633 99.351903 182.64086 99.351903 \nz\n\" style=\"fill:#6fa4ff;stroke:#6fa4ff;stroke-linejoin:miter;stroke-width:2;\"/>\n   </g>\n   <g id=\"patch_6\">\n    <path clip-path=\"url(#p8fae9b35e8)\" d=\"M 213.320285 103.783375 \nL 242.863435 103.783375 \nL 242.863435 74.240225 \nL 213.320285 74.240225 \nz\n\"/>\n   </g>\n   <g id=\"patch_7\">\n    <path clip-path=\"url(#p8fae9b35e8)\" d=\"M 238.431963 93.443273 \nC 238.431963 90.701959 237.341818 88.070118 235.403417 86.131716 \nC 233.465015 84.193314 230.833174 83.10317 228.09186 83.10317 \nC 225.350546 83.10317 222.718705 84.193314 220.780303 86.131716 \nC 218.841902 88.070118 217.751758 90.701959 217.751758 93.443273 \n\" style=\"fill:none;stroke:#ffffff;stroke-linejoin:miter;stroke-width:2;\"/>\n   </g>\n   <g id=\"line2d_8\">\n    <path clip-path=\"url(#p8fae9b35e8)\" d=\"M 228.09186 93.443273 \nL 238.431963 83.10317 \n\" style=\"fill:none;stroke:#ffffff;stroke-linecap:square;stroke-width:2;\"/>\n   </g>\n   <g id=\"line2d_9\">\n    <path clip-path=\"url(#p8fae9b35e8)\" d=\"M 182.64086 94.92043 \nL 182.64086 83.10317 \n\" style=\"fill:none;stroke:#ffffff;stroke-linecap:square;stroke-width:2;\"/>\n   </g>\n   <g id=\"line2d_10\">\n    <path clip-path=\"url(#p8fae9b35e8)\" d=\"M 176.73223 89.0118 \nL 188.54949 89.0118 \n\" style=\"fill:none;stroke:#ffffff;stroke-linecap:square;stroke-width:2;\"/>\n   </g>\n   <g id=\"text_1\">\n    <g clip-path=\"url(#p8fae9b35e8)\">\n     <!-- $H$ -->\n     <defs>\n      <path d=\"M 16.890625 72.90625 \nL 26.8125 72.90625 \nL 21 43.015625 \nL 56.78125 43.015625 \nL 62.59375 72.90625 \nL 72.515625 72.90625 \nL 58.296875 0 \nL 48.390625 0 \nL 55.171875 34.71875 \nL 19.390625 34.71875 \nL 12.59375 0 \nL 2.6875 0 \nz\n\" id=\"DejaVuSans-Oblique-72\"/>\n     </defs>\n     <g transform=\"translate(132.24986 47.147988)scale(0.13 -0.13)\">\n      <use transform=\"translate(0 0.09375)\" xlink:href=\"#DejaVuSans-Oblique-72\"/>\n     </g>\n    </g>\n   </g>\n   <g id=\"text_2\">\n    <g clip-path=\"url(#p8fae9b35e8)\">\n     <!-- 0 -->\n     <defs>\n      <path d=\"M 31.78125 66.40625 \nQ 24.171875 66.40625 20.328125 58.90625 \nQ 16.5 51.421875 16.5 36.375 \nQ 16.5 21.390625 20.328125 13.890625 \nQ 24.171875 6.390625 31.78125 6.390625 \nQ 39.453125 6.390625 43.28125 13.890625 \nQ 47.125 21.390625 47.125 36.375 \nQ 47.125 51.421875 43.28125 58.90625 \nQ 39.453125 66.40625 31.78125 66.40625 \nz\nM 31.78125 74.21875 \nQ 44.046875 74.21875 50.515625 64.515625 \nQ 56.984375 54.828125 56.984375 36.375 \nQ 56.984375 17.96875 50.515625 8.265625 \nQ 44.046875 -1.421875 31.78125 -1.421875 \nQ 19.53125 -1.421875 13.0625 8.265625 \nQ 6.59375 17.96875 6.59375 36.375 \nQ 6.59375 54.828125 13.0625 64.515625 \nQ 19.53125 74.21875 31.78125 74.21875 \nz\n\" id=\"DejaVuSans-48\"/>\n     </defs>\n     <g transform=\"translate(239.45461 127.754825)scale(0.104 -0.104)\">\n      <use xlink:href=\"#DejaVuSans-48\"/>\n     </g>\n    </g>\n   </g>\n   <g id=\"text_3\">\n    <g clip-path=\"url(#p8fae9b35e8)\">\n     <!-- ${q}_{0}$ -->\n     <defs>\n      <path d=\"M 41.703125 8.203125 \nQ 38.09375 3.46875 33.171875 1.015625 \nQ 28.265625 -1.421875 22.3125 -1.421875 \nQ 14.015625 -1.421875 9.296875 4.171875 \nQ 4.59375 9.765625 4.59375 19.578125 \nQ 4.59375 27.484375 7.5 34.859375 \nQ 10.40625 42.234375 15.828125 48.09375 \nQ 19.34375 51.90625 23.90625 53.953125 \nQ 28.46875 56 33.5 56 \nQ 39.546875 56 43.453125 53.609375 \nQ 47.359375 51.21875 49.125 46.390625 \nL 50.6875 54.59375 \nL 59.71875 54.59375 \nL 45.125 -20.609375 \nL 36.078125 -20.609375 \nz\nM 13.921875 20.90625 \nQ 13.921875 13.671875 16.9375 9.890625 \nQ 19.96875 6.109375 25.6875 6.109375 \nQ 34.1875 6.109375 40.1875 14.234375 \nQ 46.1875 22.359375 46.1875 33.984375 \nQ 46.1875 41.015625 43.078125 44.75 \nQ 39.984375 48.484375 34.1875 48.484375 \nQ 29.9375 48.484375 26.3125 46.5 \nQ 22.703125 44.53125 20.015625 40.71875 \nQ 17.1875 36.71875 15.546875 31.34375 \nQ 13.921875 25.984375 13.921875 20.90625 \nz\n\" id=\"DejaVuSans-Oblique-113\"/>\n     </defs>\n     <g transform=\"translate(73.70136 48.011777)scale(0.1625 -0.1625)\">\n      <use xlink:href=\"#DejaVuSans-Oblique-113\"/>\n      <use transform=\"translate(63.476562 -16.40625)scale(0.7)\" xlink:href=\"#DejaVuSans-48\"/>\n     </g>\n    </g>\n   </g>\n   <g id=\"text_4\">\n    <g clip-path=\"url(#p8fae9b35e8)\">\n     <!-- ${q}_{1}$ -->\n     <defs>\n      <path d=\"M 12.40625 8.296875 \nL 28.515625 8.296875 \nL 28.515625 63.921875 \nL 10.984375 60.40625 \nL 10.984375 69.390625 \nL 28.421875 72.90625 \nL 38.28125 72.90625 \nL 38.28125 8.296875 \nL 54.390625 8.296875 \nL 54.390625 0 \nL 12.40625 0 \nz\n\" id=\"DejaVuSans-49\"/>\n     </defs>\n     <g transform=\"translate(73.70136 93.462777)scale(0.1625 -0.1625)\">\n      <use xlink:href=\"#DejaVuSans-Oblique-113\"/>\n      <use transform=\"translate(63.476562 -16.40625)scale(0.7)\" xlink:href=\"#DejaVuSans-49\"/>\n     </g>\n    </g>\n   </g>\n   <g id=\"text_5\">\n    <g clip-path=\"url(#p8fae9b35e8)\">\n     <!-- $c$ -->\n     <defs>\n      <path d=\"M 53.609375 52.59375 \nL 51.8125 43.703125 \nQ 48.578125 46.046875 44.9375 47.21875 \nQ 41.3125 48.390625 37.40625 48.390625 \nQ 33.109375 48.390625 29.21875 46.875 \nQ 25.34375 45.359375 22.703125 42.578125 \nQ 18.5 38.328125 16.203125 32.609375 \nQ 13.921875 26.90625 13.921875 20.796875 \nQ 13.921875 13.421875 17.609375 9.8125 \nQ 21.296875 6.203125 28.8125 6.203125 \nQ 32.515625 6.203125 36.6875 7.328125 \nQ 40.875 8.453125 45.40625 10.6875 \nL 43.703125 1.8125 \nQ 39.796875 0.203125 35.671875 -0.609375 \nQ 31.546875 -1.421875 27.203125 -1.421875 \nQ 16.3125 -1.421875 10.453125 4.015625 \nQ 4.59375 9.46875 4.59375 19.578125 \nQ 4.59375 28.078125 7.640625 35.234375 \nQ 10.6875 42.390625 16.703125 48.09375 \nQ 20.796875 52 26.3125 54 \nQ 31.84375 56 38.375 56 \nQ 42.1875 56 45.9375 55.140625 \nQ 49.703125 54.296875 53.609375 52.59375 \nz\n\" id=\"DejaVuSans-Oblique-99\"/>\n     </defs>\n     <g transform=\"translate(81.01386 139.843581)scale(0.195 -0.195)\">\n      <use xlink:href=\"#DejaVuSans-Oblique-99\"/>\n     </g>\n    </g>\n   </g>\n  </g>\n </g>\n <defs>\n  <clipPath id=\"p8fae9b35e8\">\n   <rect height=\"154.5334\" width=\"270.88796\" x=\"7.2\" y=\"7.2\"/>\n  </clipPath>\n </defs>\n</svg>\n",
            "text/plain": [
              "<Figure size 358.792x204.68 with 1 Axes>"
            ]
          },
          "metadata": {
            "tags": []
          },
          "execution_count": 25
        }
      ]
    },
    {
      "cell_type": "markdown",
      "metadata": {
        "id": "xcr5jge1Ripd",
        "colab_type": "text"
      },
      "source": [
        "### Creating custom gates"
      ]
    },
    {
      "cell_type": "markdown",
      "metadata": {
        "id": "rDpYuiNcRipd",
        "colab_type": "text"
      },
      "source": [
        "As we've seen, it is possible to combine different circuits to make bigger ones. We can also use a more sophisticated version of this to make custom gates. For example, here is a circuit that implements a `cx` between qubits 0 and 2, using qubit 1 to mediate the process."
      ]
    },
    {
      "cell_type": "code",
      "metadata": {
        "id": "vW8mAz4WRipe",
        "colab_type": "code",
        "colab": {},
        "outputId": "ea5eaa1f-f411-4970-be29-88833fed4686"
      },
      "source": [
        "sub_circuit = QuantumCircuit(3, name='toggle_cx')\n",
        "sub_circuit.cx(0,1)\n",
        "sub_circuit.cx(1,2)\n",
        "sub_circuit.cx(0,1)\n",
        "sub_circuit.cx(1,2)\n",
        "\n",
        "sub_circuit.draw(output='mpl')"
      ],
      "execution_count": 0,
      "outputs": [
        {
          "output_type": "execute_result",
          "data": {
            "image/svg+xml": "<?xml version=\"1.0\" encoding=\"utf-8\" standalone=\"no\"?>\n<!DOCTYPE svg PUBLIC \"-//W3C//DTD SVG 1.1//EN\"\n  \"http://www.w3.org/Graphics/SVG/1.1/DTD/svg11.dtd\">\n<!-- Created with matplotlib (https://matplotlib.org/) -->\n<svg height=\"168.9334pt\" version=\"1.1\" viewBox=\"0 0 330.73896 168.9334\" width=\"330.73896pt\" xmlns=\"http://www.w3.org/2000/svg\" xmlns:xlink=\"http://www.w3.org/1999/xlink\">\n <defs>\n  <style type=\"text/css\">\n*{stroke-linecap:butt;stroke-linejoin:round;}\n  </style>\n </defs>\n <g id=\"figure_1\">\n  <g id=\"patch_1\">\n   <path d=\"M 0 168.9334 \nL 330.73896 168.9334 \nL 330.73896 0 \nL 0 0 \nz\n\" style=\"fill:#ffffff;\"/>\n  </g>\n  <g id=\"axes_1\">\n   <g id=\"line2d_1\">\n    <path clip-path=\"url(#pf34c94e683)\" d=\"M 114.46436 43.5608 \nL 318.99386 43.5608 \n\" style=\"fill:none;stroke:#000000;stroke-linecap:square;stroke-width:2;\"/>\n   </g>\n   <g id=\"line2d_2\">\n    <path clip-path=\"url(#pf34c94e683)\" d=\"M 114.46436 89.0118 \nL 318.99386 89.0118 \n\" style=\"fill:none;stroke:#000000;stroke-linecap:square;stroke-width:2;\"/>\n   </g>\n   <g id=\"line2d_3\">\n    <path clip-path=\"url(#pf34c94e683)\" d=\"M 114.46436 134.4628 \nL 318.99386 134.4628 \n\" style=\"fill:none;stroke:#000000;stroke-linecap:square;stroke-width:2;\"/>\n   </g>\n   <g id=\"line2d_4\">\n    <path clip-path=\"url(#pf34c94e683)\" d=\"M 137.18986 89.0118 \nL 137.18986 43.5608 \n\" style=\"fill:none;stroke:#6fa4ff;stroke-linecap:square;stroke-width:2;\"/>\n   </g>\n   <g id=\"line2d_5\">\n    <path clip-path=\"url(#pf34c94e683)\" d=\"M 182.64086 134.4628 \nL 182.64086 89.0118 \n\" style=\"fill:none;stroke:#6fa4ff;stroke-linecap:square;stroke-width:2;\"/>\n   </g>\n   <g id=\"line2d_6\">\n    <path clip-path=\"url(#pf34c94e683)\" d=\"M 228.09186 89.0118 \nL 228.09186 43.5608 \n\" style=\"fill:none;stroke:#6fa4ff;stroke-linecap:square;stroke-width:2;\"/>\n   </g>\n   <g id=\"line2d_7\">\n    <path clip-path=\"url(#pf34c94e683)\" d=\"M 273.54286 134.4628 \nL 273.54286 89.0118 \n\" style=\"fill:none;stroke:#6fa4ff;stroke-linecap:square;stroke-width:2;\"/>\n   </g>\n   <g id=\"patch_2\">\n    <path clip-path=\"url(#pf34c94e683)\" d=\"M 137.18986 47.992273 \nC 138.3651 47.992273 139.492364 47.525345 140.323384 46.694324 \nC 141.154405 45.863304 141.621332 44.73604 141.621332 43.5608 \nC 141.621332 42.38556 141.154405 41.258296 140.323384 40.427276 \nC 139.492364 39.596255 138.3651 39.129328 137.18986 39.129328 \nC 136.01462 39.129328 134.887356 39.596255 134.056336 40.427276 \nC 133.225315 41.258296 132.758387 42.38556 132.758387 43.5608 \nC 132.758387 44.73604 133.225315 45.863304 134.056336 46.694324 \nC 134.887356 47.525345 136.01462 47.992273 137.18986 47.992273 \nz\n\" style=\"fill:#6fa4ff;stroke:#6fa4ff;stroke-linejoin:miter;stroke-width:1.5;\"/>\n   </g>\n   <g id=\"patch_3\">\n    <path clip-path=\"url(#pf34c94e683)\" d=\"M 137.18986 99.351903 \nC 139.932087 99.351903 142.562369 98.262404 144.501417 96.323357 \nC 146.440464 94.384309 147.529962 91.754027 147.529962 89.0118 \nC 147.529962 86.269573 146.440464 83.639291 144.501417 81.700243 \nC 142.562369 79.761196 139.932087 78.671698 137.18986 78.671698 \nC 134.447633 78.671698 131.817351 79.761196 129.878303 81.700243 \nC 127.939256 83.639291 126.849757 86.269573 126.849757 89.0118 \nC 126.849757 91.754027 127.939256 94.384309 129.878303 96.323357 \nC 131.817351 98.262404 134.447633 99.351903 137.18986 99.351903 \nz\n\" style=\"fill:#6fa4ff;stroke:#6fa4ff;stroke-linejoin:miter;stroke-width:2;\"/>\n   </g>\n   <g id=\"patch_4\">\n    <path clip-path=\"url(#pf34c94e683)\" d=\"M 182.64086 93.443273 \nC 183.8161 93.443273 184.943364 92.976345 185.774384 92.145324 \nC 186.605405 91.314304 187.072332 90.18704 187.072332 89.0118 \nC 187.072332 87.83656 186.605405 86.709296 185.774384 85.878276 \nC 184.943364 85.047255 183.8161 84.580328 182.64086 84.580328 \nC 181.46562 84.580328 180.338356 85.047255 179.507336 85.878276 \nC 178.676315 86.709296 178.209387 87.83656 178.209387 89.0118 \nC 178.209387 90.18704 178.676315 91.314304 179.507336 92.145324 \nC 180.338356 92.976345 181.46562 93.443273 182.64086 93.443273 \nz\n\" style=\"fill:#6fa4ff;stroke:#6fa4ff;stroke-linejoin:miter;stroke-width:1.5;\"/>\n   </g>\n   <g id=\"patch_5\">\n    <path clip-path=\"url(#pf34c94e683)\" d=\"M 182.64086 144.802902 \nC 185.383087 144.802902 188.013369 143.713404 189.952417 141.774357 \nC 191.891464 139.835309 192.980962 137.205027 192.980962 134.4628 \nC 192.980962 131.720573 191.891464 129.090291 189.952417 127.151243 \nC 188.013369 125.212196 185.383087 124.122697 182.64086 124.122697 \nC 179.898633 124.122697 177.268351 125.212196 175.329303 127.151243 \nC 173.390256 129.090291 172.300757 131.720573 172.300757 134.4628 \nC 172.300757 137.205027 173.390256 139.835309 175.329303 141.774357 \nC 177.268351 143.713404 179.898633 144.802902 182.64086 144.802902 \nz\n\" style=\"fill:#6fa4ff;stroke:#6fa4ff;stroke-linejoin:miter;stroke-width:2;\"/>\n   </g>\n   <g id=\"patch_6\">\n    <path clip-path=\"url(#pf34c94e683)\" d=\"M 228.09186 47.992273 \nC 229.2671 47.992273 230.394364 47.525345 231.225384 46.694324 \nC 232.056405 45.863304 232.523332 44.73604 232.523332 43.5608 \nC 232.523332 42.38556 232.056405 41.258296 231.225384 40.427276 \nC 230.394364 39.596255 229.2671 39.129328 228.09186 39.129328 \nC 226.91662 39.129328 225.789356 39.596255 224.958336 40.427276 \nC 224.127315 41.258296 223.660387 42.38556 223.660387 43.5608 \nC 223.660387 44.73604 224.127315 45.863304 224.958336 46.694324 \nC 225.789356 47.525345 226.91662 47.992273 228.09186 47.992273 \nz\n\" style=\"fill:#6fa4ff;stroke:#6fa4ff;stroke-linejoin:miter;stroke-width:1.5;\"/>\n   </g>\n   <g id=\"patch_7\">\n    <path clip-path=\"url(#pf34c94e683)\" d=\"M 228.09186 99.351903 \nC 230.834087 99.351903 233.464369 98.262404 235.403417 96.323357 \nC 237.342464 94.384309 238.431962 91.754027 238.431962 89.0118 \nC 238.431962 86.269573 237.342464 83.639291 235.403417 81.700243 \nC 233.464369 79.761196 230.834087 78.671698 228.09186 78.671698 \nC 225.349633 78.671698 222.719351 79.761196 220.780303 81.700243 \nC 218.841256 83.639291 217.751757 86.269573 217.751757 89.0118 \nC 217.751757 91.754027 218.841256 94.384309 220.780303 96.323357 \nC 222.719351 98.262404 225.349633 99.351903 228.09186 99.351903 \nz\n\" style=\"fill:#6fa4ff;stroke:#6fa4ff;stroke-linejoin:miter;stroke-width:2;\"/>\n   </g>\n   <g id=\"patch_8\">\n    <path clip-path=\"url(#pf34c94e683)\" d=\"M 273.54286 93.443273 \nC 274.7181 93.443273 275.845364 92.976345 276.676384 92.145324 \nC 277.507405 91.314304 277.974332 90.18704 277.974332 89.0118 \nC 277.974332 87.83656 277.507405 86.709296 276.676384 85.878276 \nC 275.845364 85.047255 274.7181 84.580328 273.54286 84.580328 \nC 272.36762 84.580328 271.240356 85.047255 270.409336 85.878276 \nC 269.578315 86.709296 269.111387 87.83656 269.111387 89.0118 \nC 269.111387 90.18704 269.578315 91.314304 270.409336 92.145324 \nC 271.240356 92.976345 272.36762 93.443273 273.54286 93.443273 \nz\n\" style=\"fill:#6fa4ff;stroke:#6fa4ff;stroke-linejoin:miter;stroke-width:1.5;\"/>\n   </g>\n   <g id=\"patch_9\">\n    <path clip-path=\"url(#pf34c94e683)\" d=\"M 273.54286 144.802902 \nC 276.285087 144.802902 278.915369 143.713404 280.854417 141.774357 \nC 282.793464 139.835309 283.882962 137.205027 283.882962 134.4628 \nC 283.882962 131.720573 282.793464 129.090291 280.854417 127.151243 \nC 278.915369 125.212196 276.285087 124.122697 273.54286 124.122697 \nC 270.800633 124.122697 268.170351 125.212196 266.231303 127.151243 \nC 264.292256 129.090291 263.202757 131.720573 263.202757 134.4628 \nC 263.202757 137.205027 264.292256 139.835309 266.231303 141.774357 \nC 268.170351 143.713404 270.800633 144.802902 273.54286 144.802902 \nz\n\" style=\"fill:#6fa4ff;stroke:#6fa4ff;stroke-linejoin:miter;stroke-width:2;\"/>\n   </g>\n   <g id=\"line2d_8\">\n    <path clip-path=\"url(#pf34c94e683)\" d=\"M 137.18986 94.92043 \nL 137.18986 83.10317 \n\" style=\"fill:none;stroke:#ffffff;stroke-linecap:square;stroke-width:2;\"/>\n   </g>\n   <g id=\"line2d_9\">\n    <path clip-path=\"url(#pf34c94e683)\" d=\"M 131.28123 89.0118 \nL 143.09849 89.0118 \n\" style=\"fill:none;stroke:#ffffff;stroke-linecap:square;stroke-width:2;\"/>\n   </g>\n   <g id=\"line2d_10\">\n    <path clip-path=\"url(#pf34c94e683)\" d=\"M 182.64086 140.37143 \nL 182.64086 128.55417 \n\" style=\"fill:none;stroke:#ffffff;stroke-linecap:square;stroke-width:2;\"/>\n   </g>\n   <g id=\"line2d_11\">\n    <path clip-path=\"url(#pf34c94e683)\" d=\"M 176.73223 134.4628 \nL 188.54949 134.4628 \n\" style=\"fill:none;stroke:#ffffff;stroke-linecap:square;stroke-width:2;\"/>\n   </g>\n   <g id=\"line2d_12\">\n    <path clip-path=\"url(#pf34c94e683)\" d=\"M 228.09186 94.92043 \nL 228.09186 83.10317 \n\" style=\"fill:none;stroke:#ffffff;stroke-linecap:square;stroke-width:2;\"/>\n   </g>\n   <g id=\"line2d_13\">\n    <path clip-path=\"url(#pf34c94e683)\" d=\"M 222.18323 89.0118 \nL 234.00049 89.0118 \n\" style=\"fill:none;stroke:#ffffff;stroke-linecap:square;stroke-width:2;\"/>\n   </g>\n   <g id=\"line2d_14\">\n    <path clip-path=\"url(#pf34c94e683)\" d=\"M 273.54286 140.37143 \nL 273.54286 128.55417 \n\" style=\"fill:none;stroke:#ffffff;stroke-linecap:square;stroke-width:2;\"/>\n   </g>\n   <g id=\"line2d_15\">\n    <path clip-path=\"url(#pf34c94e683)\" d=\"M 267.63423 134.4628 \nL 279.45149 134.4628 \n\" style=\"fill:none;stroke:#ffffff;stroke-linecap:square;stroke-width:2;\"/>\n   </g>\n   <g id=\"text_1\">\n    <g clip-path=\"url(#pf34c94e683)\">\n     <!-- ${q}_{0}$ -->\n     <defs>\n      <path d=\"M 41.703125 8.203125 \nQ 38.09375 3.46875 33.171875 1.015625 \nQ 28.265625 -1.421875 22.3125 -1.421875 \nQ 14.015625 -1.421875 9.296875 4.171875 \nQ 4.59375 9.765625 4.59375 19.578125 \nQ 4.59375 27.484375 7.5 34.859375 \nQ 10.40625 42.234375 15.828125 48.09375 \nQ 19.34375 51.90625 23.90625 53.953125 \nQ 28.46875 56 33.5 56 \nQ 39.546875 56 43.453125 53.609375 \nQ 47.359375 51.21875 49.125 46.390625 \nL 50.6875 54.59375 \nL 59.71875 54.59375 \nL 45.125 -20.609375 \nL 36.078125 -20.609375 \nz\nM 13.921875 20.90625 \nQ 13.921875 13.671875 16.9375 9.890625 \nQ 19.96875 6.109375 25.6875 6.109375 \nQ 34.1875 6.109375 40.1875 14.234375 \nQ 46.1875 22.359375 46.1875 33.984375 \nQ 46.1875 41.015625 43.078125 44.75 \nQ 39.984375 48.484375 34.1875 48.484375 \nQ 29.9375 48.484375 26.3125 46.5 \nQ 22.703125 44.53125 20.015625 40.71875 \nQ 17.1875 36.71875 15.546875 31.34375 \nQ 13.921875 25.984375 13.921875 20.90625 \nz\n\" id=\"DejaVuSans-Oblique-113\"/>\n      <path d=\"M 31.78125 66.40625 \nQ 24.171875 66.40625 20.328125 58.90625 \nQ 16.5 51.421875 16.5 36.375 \nQ 16.5 21.390625 20.328125 13.890625 \nQ 24.171875 6.390625 31.78125 6.390625 \nQ 39.453125 6.390625 43.28125 13.890625 \nQ 47.125 21.390625 47.125 36.375 \nQ 47.125 51.421875 43.28125 58.90625 \nQ 39.453125 66.40625 31.78125 66.40625 \nz\nM 31.78125 74.21875 \nQ 44.046875 74.21875 50.515625 64.515625 \nQ 56.984375 54.828125 56.984375 36.375 \nQ 56.984375 17.96875 50.515625 8.265625 \nQ 44.046875 -1.421875 31.78125 -1.421875 \nQ 19.53125 -1.421875 13.0625 8.265625 \nQ 6.59375 17.96875 6.59375 36.375 \nQ 6.59375 54.828125 13.0625 64.515625 \nQ 19.53125 74.21875 31.78125 74.21875 \nz\n\" id=\"DejaVuSans-48\"/>\n     </defs>\n     <g transform=\"translate(73.70136 48.011777)scale(0.1625 -0.1625)\">\n      <use xlink:href=\"#DejaVuSans-Oblique-113\"/>\n      <use transform=\"translate(63.476562 -16.40625)scale(0.7)\" xlink:href=\"#DejaVuSans-48\"/>\n     </g>\n    </g>\n   </g>\n   <g id=\"text_2\">\n    <g clip-path=\"url(#pf34c94e683)\">\n     <!-- ${q}_{1}$ -->\n     <defs>\n      <path d=\"M 12.40625 8.296875 \nL 28.515625 8.296875 \nL 28.515625 63.921875 \nL 10.984375 60.40625 \nL 10.984375 69.390625 \nL 28.421875 72.90625 \nL 38.28125 72.90625 \nL 38.28125 8.296875 \nL 54.390625 8.296875 \nL 54.390625 0 \nL 12.40625 0 \nz\n\" id=\"DejaVuSans-49\"/>\n     </defs>\n     <g transform=\"translate(73.70136 93.462777)scale(0.1625 -0.1625)\">\n      <use xlink:href=\"#DejaVuSans-Oblique-113\"/>\n      <use transform=\"translate(63.476562 -16.40625)scale(0.7)\" xlink:href=\"#DejaVuSans-49\"/>\n     </g>\n    </g>\n   </g>\n   <g id=\"text_3\">\n    <g clip-path=\"url(#pf34c94e683)\">\n     <!-- ${q}_{2}$ -->\n     <defs>\n      <path d=\"M 19.1875 8.296875 \nL 53.609375 8.296875 \nL 53.609375 0 \nL 7.328125 0 \nL 7.328125 8.296875 \nQ 12.9375 14.109375 22.625 23.890625 \nQ 32.328125 33.6875 34.8125 36.53125 \nQ 39.546875 41.84375 41.421875 45.53125 \nQ 43.3125 49.21875 43.3125 52.78125 \nQ 43.3125 58.59375 39.234375 62.25 \nQ 35.15625 65.921875 28.609375 65.921875 \nQ 23.96875 65.921875 18.8125 64.3125 \nQ 13.671875 62.703125 7.8125 59.421875 \nL 7.8125 69.390625 \nQ 13.765625 71.78125 18.9375 73 \nQ 24.125 74.21875 28.421875 74.21875 \nQ 39.75 74.21875 46.484375 68.546875 \nQ 53.21875 62.890625 53.21875 53.421875 \nQ 53.21875 48.921875 51.53125 44.890625 \nQ 49.859375 40.875 45.40625 35.40625 \nQ 44.1875 33.984375 37.640625 27.21875 \nQ 31.109375 20.453125 19.1875 8.296875 \nz\n\" id=\"DejaVuSans-50\"/>\n     </defs>\n     <g transform=\"translate(73.70136 138.913777)scale(0.1625 -0.1625)\">\n      <use xlink:href=\"#DejaVuSans-Oblique-113\"/>\n      <use transform=\"translate(63.476562 -16.40625)scale(0.7)\" xlink:href=\"#DejaVuSans-50\"/>\n     </g>\n    </g>\n   </g>\n  </g>\n </g>\n <defs>\n  <clipPath id=\"pf34c94e683\">\n   <rect height=\"154.5334\" width=\"316.33896\" x=\"7.2\" y=\"7.2\"/>\n  </clipPath>\n </defs>\n</svg>\n",
            "text/plain": [
              "<Figure size 418.992x204.68 with 1 Axes>"
            ]
          },
          "metadata": {
            "tags": []
          },
          "execution_count": 26
        }
      ]
    },
    {
      "cell_type": "markdown",
      "metadata": {
        "id": "L3w4UxjqRipj",
        "colab_type": "text"
      },
      "source": [
        "We can now turn this into a gate"
      ]
    },
    {
      "cell_type": "code",
      "metadata": {
        "id": "hR2Q8mjzRipk",
        "colab_type": "code",
        "colab": {}
      },
      "source": [
        "toggle_cx = sub_circuit.to_instruction()"
      ],
      "execution_count": 0,
      "outputs": []
    },
    {
      "cell_type": "markdown",
      "metadata": {
        "id": "OaWUWVYcRipr",
        "colab_type": "text"
      },
      "source": [
        "and then insert it into other circuits using any set of qubits we choose"
      ]
    },
    {
      "cell_type": "code",
      "metadata": {
        "id": "RDyRhnmbRips",
        "colab_type": "code",
        "colab": {},
        "outputId": "8b5dc454-2919-484b-d5b4-71543adf23b4"
      },
      "source": [
        "qr = QuantumRegister(4)\n",
        "new_qc = QuantumCircuit(qr)\n",
        "\n",
        "new_qc.append(toggle_cx, [qr[1],qr[2],qr[3]])\n",
        "\n",
        "new_qc.draw(output='mpl')"
      ],
      "execution_count": 0,
      "outputs": [
        {
          "output_type": "execute_result",
          "data": {
            "image/svg+xml": "<?xml version=\"1.0\" encoding=\"utf-8\" standalone=\"no\"?>\n<!DOCTYPE svg PUBLIC \"-//W3C//DTD SVG 1.1//EN\"\n  \"http://www.w3.org/Graphics/SVG/1.1/DTD/svg11.dtd\">\n<!-- Created with matplotlib (https://matplotlib.org/) -->\n<svg height=\"214.3844pt\" version=\"1.1\" viewBox=\"0 0 338.92014 214.3844\" width=\"338.92014pt\" xmlns=\"http://www.w3.org/2000/svg\" xmlns:xlink=\"http://www.w3.org/1999/xlink\">\n <defs>\n  <style type=\"text/css\">\n*{stroke-linecap:butt;stroke-linejoin:round;}\n  </style>\n </defs>\n <g id=\"figure_1\">\n  <g id=\"patch_1\">\n   <path d=\"M 0 214.3844 \nL 338.92014 214.3844 \nL 338.92014 0 \nL 0 0 \nz\n\" style=\"fill:#ffffff;\"/>\n  </g>\n  <g id=\"axes_1\">\n   <g id=\"line2d_1\">\n    <path clip-path=\"url(#pdf2e443fb5)\" d=\"M 122.64554 43.5608 \nL 327.17504 43.5608 \n\" style=\"fill:none;stroke:#000000;stroke-linecap:square;stroke-width:2;\"/>\n   </g>\n   <g id=\"line2d_2\">\n    <path clip-path=\"url(#pdf2e443fb5)\" d=\"M 122.64554 89.0118 \nL 327.17504 89.0118 \n\" style=\"fill:none;stroke:#000000;stroke-linecap:square;stroke-width:2;\"/>\n   </g>\n   <g id=\"line2d_3\">\n    <path clip-path=\"url(#pdf2e443fb5)\" d=\"M 122.64554 134.4628 \nL 327.17504 134.4628 \n\" style=\"fill:none;stroke:#000000;stroke-linecap:square;stroke-width:2;\"/>\n   </g>\n   <g id=\"line2d_4\">\n    <path clip-path=\"url(#pdf2e443fb5)\" d=\"M 122.64554 179.9138 \nL 327.17504 179.9138 \n\" style=\"fill:none;stroke:#000000;stroke-linecap:square;stroke-width:2;\"/>\n   </g>\n   <g id=\"patch_2\">\n    <path clip-path=\"url(#pdf2e443fb5)\" d=\"M 139.689665 194.685375 \nL 287.405415 194.685375 \nL 287.405415 74.240225 \nL 139.689665 74.240225 \nz\n\" style=\"fill:#bb8bff;stroke:#bb8bff;stroke-linejoin:miter;stroke-width:1.5;\"/>\n   </g>\n   <g id=\"text_1\">\n    <g clip-path=\"url(#pdf2e443fb5)\">\n     <!-- 0 -->\n     <defs>\n      <path d=\"M 31.78125 66.40625 \nQ 24.171875 66.40625 20.328125 58.90625 \nQ 16.5 51.421875 16.5 36.375 \nQ 16.5 21.390625 20.328125 13.890625 \nQ 24.171875 6.390625 31.78125 6.390625 \nQ 39.453125 6.390625 43.28125 13.890625 \nQ 47.125 21.390625 47.125 36.375 \nQ 47.125 51.421875 43.28125 58.90625 \nQ 39.453125 66.40625 31.78125 66.40625 \nz\nM 31.78125 74.21875 \nQ 44.046875 74.21875 50.515625 64.515625 \nQ 56.984375 54.828125 56.984375 36.375 \nQ 56.984375 17.96875 50.515625 8.265625 \nQ 44.046875 -1.421875 31.78125 -1.421875 \nQ 19.53125 -1.421875 13.0625 8.265625 \nQ 6.59375 17.96875 6.59375 36.375 \nQ 6.59375 54.828125 13.0625 64.515625 \nQ 19.53125 74.21875 31.78125 74.21875 \nz\n\" id=\"DejaVuSans-48\"/>\n     </defs>\n     <g transform=\"translate(147.075453 92.598987)scale(0.13 -0.13)\">\n      <use xlink:href=\"#DejaVuSans-48\"/>\n     </g>\n    </g>\n   </g>\n   <g id=\"text_2\">\n    <g clip-path=\"url(#pdf2e443fb5)\">\n     <!-- 1 -->\n     <defs>\n      <path d=\"M 12.40625 8.296875 \nL 28.515625 8.296875 \nL 28.515625 63.921875 \nL 10.984375 60.40625 \nL 10.984375 69.390625 \nL 28.421875 72.90625 \nL 38.28125 72.90625 \nL 38.28125 8.296875 \nL 54.390625 8.296875 \nL 54.390625 0 \nL 12.40625 0 \nz\n\" id=\"DejaVuSans-49\"/>\n     </defs>\n     <g transform=\"translate(147.075453 138.049987)scale(0.13 -0.13)\">\n      <use xlink:href=\"#DejaVuSans-49\"/>\n     </g>\n    </g>\n   </g>\n   <g id=\"text_3\">\n    <g clip-path=\"url(#pdf2e443fb5)\">\n     <!-- 2 -->\n     <defs>\n      <path d=\"M 19.1875 8.296875 \nL 53.609375 8.296875 \nL 53.609375 0 \nL 7.328125 0 \nL 7.328125 8.296875 \nQ 12.9375 14.109375 22.625 23.890625 \nQ 32.328125 33.6875 34.8125 36.53125 \nQ 39.546875 41.84375 41.421875 45.53125 \nQ 43.3125 49.21875 43.3125 52.78125 \nQ 43.3125 58.59375 39.234375 62.25 \nQ 35.15625 65.921875 28.609375 65.921875 \nQ 23.96875 65.921875 18.8125 64.3125 \nQ 13.671875 62.703125 7.8125 59.421875 \nL 7.8125 69.390625 \nQ 13.765625 71.78125 18.9375 73 \nQ 24.125 74.21875 28.421875 74.21875 \nQ 39.75 74.21875 46.484375 68.546875 \nQ 53.21875 62.890625 53.21875 53.421875 \nQ 53.21875 48.921875 51.53125 44.890625 \nQ 49.859375 40.875 45.40625 35.40625 \nQ 44.1875 33.984375 37.640625 27.21875 \nQ 31.109375 20.453125 19.1875 8.296875 \nz\n\" id=\"DejaVuSans-50\"/>\n     </defs>\n     <g transform=\"translate(147.075453 183.500988)scale(0.13 -0.13)\">\n      <use xlink:href=\"#DejaVuSans-50\"/>\n     </g>\n    </g>\n   </g>\n   <g id=\"text_4\">\n    <g clip-path=\"url(#pdf2e443fb5)\">\n     <!-- toggle_cx -->\n     <defs>\n      <path d=\"M 18.3125 70.21875 \nL 18.3125 54.6875 \nL 36.8125 54.6875 \nL 36.8125 47.703125 \nL 18.3125 47.703125 \nL 18.3125 18.015625 \nQ 18.3125 11.328125 20.140625 9.421875 \nQ 21.96875 7.515625 27.59375 7.515625 \nL 36.8125 7.515625 \nL 36.8125 0 \nL 27.59375 0 \nQ 17.1875 0 13.234375 3.875 \nQ 9.28125 7.765625 9.28125 18.015625 \nL 9.28125 47.703125 \nL 2.6875 47.703125 \nL 2.6875 54.6875 \nL 9.28125 54.6875 \nL 9.28125 70.21875 \nz\n\" id=\"DejaVuSans-116\"/>\n      <path d=\"M 30.609375 48.390625 \nQ 23.390625 48.390625 19.1875 42.75 \nQ 14.984375 37.109375 14.984375 27.296875 \nQ 14.984375 17.484375 19.15625 11.84375 \nQ 23.34375 6.203125 30.609375 6.203125 \nQ 37.796875 6.203125 41.984375 11.859375 \nQ 46.1875 17.53125 46.1875 27.296875 \nQ 46.1875 37.015625 41.984375 42.703125 \nQ 37.796875 48.390625 30.609375 48.390625 \nz\nM 30.609375 56 \nQ 42.328125 56 49.015625 48.375 \nQ 55.71875 40.765625 55.71875 27.296875 \nQ 55.71875 13.875 49.015625 6.21875 \nQ 42.328125 -1.421875 30.609375 -1.421875 \nQ 18.84375 -1.421875 12.171875 6.21875 \nQ 5.515625 13.875 5.515625 27.296875 \nQ 5.515625 40.765625 12.171875 48.375 \nQ 18.84375 56 30.609375 56 \nz\n\" id=\"DejaVuSans-111\"/>\n      <path d=\"M 45.40625 27.984375 \nQ 45.40625 37.75 41.375 43.109375 \nQ 37.359375 48.484375 30.078125 48.484375 \nQ 22.859375 48.484375 18.828125 43.109375 \nQ 14.796875 37.75 14.796875 27.984375 \nQ 14.796875 18.265625 18.828125 12.890625 \nQ 22.859375 7.515625 30.078125 7.515625 \nQ 37.359375 7.515625 41.375 12.890625 \nQ 45.40625 18.265625 45.40625 27.984375 \nz\nM 54.390625 6.78125 \nQ 54.390625 -7.171875 48.1875 -13.984375 \nQ 42 -20.796875 29.203125 -20.796875 \nQ 24.46875 -20.796875 20.265625 -20.09375 \nQ 16.0625 -19.390625 12.109375 -17.921875 \nL 12.109375 -9.1875 \nQ 16.0625 -11.328125 19.921875 -12.34375 \nQ 23.78125 -13.375 27.78125 -13.375 \nQ 36.625 -13.375 41.015625 -8.765625 \nQ 45.40625 -4.15625 45.40625 5.171875 \nL 45.40625 9.625 \nQ 42.625 4.78125 38.28125 2.390625 \nQ 33.9375 0 27.875 0 \nQ 17.828125 0 11.671875 7.65625 \nQ 5.515625 15.328125 5.515625 27.984375 \nQ 5.515625 40.671875 11.671875 48.328125 \nQ 17.828125 56 27.875 56 \nQ 33.9375 56 38.28125 53.609375 \nQ 42.625 51.21875 45.40625 46.390625 \nL 45.40625 54.6875 \nL 54.390625 54.6875 \nz\n\" id=\"DejaVuSans-103\"/>\n      <path d=\"M 9.421875 75.984375 \nL 18.40625 75.984375 \nL 18.40625 0 \nL 9.421875 0 \nz\n\" id=\"DejaVuSans-108\"/>\n      <path d=\"M 56.203125 29.59375 \nL 56.203125 25.203125 \nL 14.890625 25.203125 \nQ 15.484375 15.921875 20.484375 11.0625 \nQ 25.484375 6.203125 34.421875 6.203125 \nQ 39.59375 6.203125 44.453125 7.46875 \nQ 49.3125 8.734375 54.109375 11.28125 \nL 54.109375 2.78125 \nQ 49.265625 0.734375 44.1875 -0.34375 \nQ 39.109375 -1.421875 33.890625 -1.421875 \nQ 20.796875 -1.421875 13.15625 6.1875 \nQ 5.515625 13.8125 5.515625 26.8125 \nQ 5.515625 40.234375 12.765625 48.109375 \nQ 20.015625 56 32.328125 56 \nQ 43.359375 56 49.78125 48.890625 \nQ 56.203125 41.796875 56.203125 29.59375 \nz\nM 47.21875 32.234375 \nQ 47.125 39.59375 43.09375 43.984375 \nQ 39.0625 48.390625 32.421875 48.390625 \nQ 24.90625 48.390625 20.390625 44.140625 \nQ 15.875 39.890625 15.1875 32.171875 \nz\n\" id=\"DejaVuSans-101\"/>\n      <path d=\"M 50.984375 -16.609375 \nL 50.984375 -23.578125 \nL -0.984375 -23.578125 \nL -0.984375 -16.609375 \nz\n\" id=\"DejaVuSans-95\"/>\n      <path d=\"M 48.78125 52.59375 \nL 48.78125 44.1875 \nQ 44.96875 46.296875 41.140625 47.34375 \nQ 37.3125 48.390625 33.40625 48.390625 \nQ 24.65625 48.390625 19.8125 42.84375 \nQ 14.984375 37.3125 14.984375 27.296875 \nQ 14.984375 17.28125 19.8125 11.734375 \nQ 24.65625 6.203125 33.40625 6.203125 \nQ 37.3125 6.203125 41.140625 7.25 \nQ 44.96875 8.296875 48.78125 10.40625 \nL 48.78125 2.09375 \nQ 45.015625 0.34375 40.984375 -0.53125 \nQ 36.96875 -1.421875 32.421875 -1.421875 \nQ 20.0625 -1.421875 12.78125 6.34375 \nQ 5.515625 14.109375 5.515625 27.296875 \nQ 5.515625 40.671875 12.859375 48.328125 \nQ 20.21875 56 33.015625 56 \nQ 37.15625 56 41.109375 55.140625 \nQ 45.0625 54.296875 48.78125 52.59375 \nz\n\" id=\"DejaVuSans-99\"/>\n      <path d=\"M 54.890625 54.6875 \nL 35.109375 28.078125 \nL 55.90625 0 \nL 45.3125 0 \nL 29.390625 21.484375 \nL 13.484375 0 \nL 2.875 0 \nL 24.125 28.609375 \nL 4.6875 54.6875 \nL 15.28125 54.6875 \nL 29.78125 35.203125 \nL 44.28125 54.6875 \nz\n\" id=\"DejaVuSans-120\"/>\n     </defs>\n     <g transform=\"translate(182.292696 137.869206)scale(0.13 -0.13)\">\n      <use xlink:href=\"#DejaVuSans-116\"/>\n      <use x=\"39.208984\" xlink:href=\"#DejaVuSans-111\"/>\n      <use x=\"100.390625\" xlink:href=\"#DejaVuSans-103\"/>\n      <use x=\"163.867188\" xlink:href=\"#DejaVuSans-103\"/>\n      <use x=\"227.34375\" xlink:href=\"#DejaVuSans-108\"/>\n      <use x=\"255.126953\" xlink:href=\"#DejaVuSans-101\"/>\n      <use x=\"316.650391\" xlink:href=\"#DejaVuSans-95\"/>\n      <use x=\"366.650391\" xlink:href=\"#DejaVuSans-99\"/>\n      <use x=\"421.630859\" xlink:href=\"#DejaVuSans-120\"/>\n     </g>\n    </g>\n   </g>\n   <g id=\"text_5\">\n    <g clip-path=\"url(#pdf2e443fb5)\">\n     <!-- ${q1}_{0}$ -->\n     <defs>\n      <path d=\"M 41.703125 8.203125 \nQ 38.09375 3.46875 33.171875 1.015625 \nQ 28.265625 -1.421875 22.3125 -1.421875 \nQ 14.015625 -1.421875 9.296875 4.171875 \nQ 4.59375 9.765625 4.59375 19.578125 \nQ 4.59375 27.484375 7.5 34.859375 \nQ 10.40625 42.234375 15.828125 48.09375 \nQ 19.34375 51.90625 23.90625 53.953125 \nQ 28.46875 56 33.5 56 \nQ 39.546875 56 43.453125 53.609375 \nQ 47.359375 51.21875 49.125 46.390625 \nL 50.6875 54.59375 \nL 59.71875 54.59375 \nL 45.125 -20.609375 \nL 36.078125 -20.609375 \nz\nM 13.921875 20.90625 \nQ 13.921875 13.671875 16.9375 9.890625 \nQ 19.96875 6.109375 25.6875 6.109375 \nQ 34.1875 6.109375 40.1875 14.234375 \nQ 46.1875 22.359375 46.1875 33.984375 \nQ 46.1875 41.015625 43.078125 44.75 \nQ 39.984375 48.484375 34.1875 48.484375 \nQ 29.9375 48.484375 26.3125 46.5 \nQ 22.703125 44.53125 20.015625 40.71875 \nQ 17.1875 36.71875 15.546875 31.34375 \nQ 13.921875 25.984375 13.921875 20.90625 \nz\n\" id=\"DejaVuSans-Oblique-113\"/>\n     </defs>\n     <g transform=\"translate(71.32004 48.011777)scale(0.1625 -0.1625)\">\n      <use transform=\"translate(0 0.09375)\" xlink:href=\"#DejaVuSans-Oblique-113\"/>\n      <use transform=\"translate(63.476562 0.09375)\" xlink:href=\"#DejaVuSans-49\"/>\n      <use transform=\"translate(128.056641 -16.3125)scale(0.7)\" xlink:href=\"#DejaVuSans-48\"/>\n     </g>\n    </g>\n   </g>\n   <g id=\"text_6\">\n    <g clip-path=\"url(#pdf2e443fb5)\">\n     <!-- ${q1}_{1}$ -->\n     <g transform=\"translate(71.32004 93.462777)scale(0.1625 -0.1625)\">\n      <use transform=\"translate(0 0.09375)\" xlink:href=\"#DejaVuSans-Oblique-113\"/>\n      <use transform=\"translate(63.476562 0.09375)\" xlink:href=\"#DejaVuSans-49\"/>\n      <use transform=\"translate(128.056641 -16.3125)scale(0.7)\" xlink:href=\"#DejaVuSans-49\"/>\n     </g>\n    </g>\n   </g>\n   <g id=\"text_7\">\n    <g clip-path=\"url(#pdf2e443fb5)\">\n     <!-- ${q1}_{2}$ -->\n     <g transform=\"translate(71.32004 138.913777)scale(0.1625 -0.1625)\">\n      <use transform=\"translate(0 0.09375)\" xlink:href=\"#DejaVuSans-Oblique-113\"/>\n      <use transform=\"translate(63.476562 0.09375)\" xlink:href=\"#DejaVuSans-49\"/>\n      <use transform=\"translate(128.056641 -16.3125)scale(0.7)\" xlink:href=\"#DejaVuSans-50\"/>\n     </g>\n    </g>\n   </g>\n   <g id=\"text_8\">\n    <g clip-path=\"url(#pdf2e443fb5)\">\n     <!-- ${q1}_{3}$ -->\n     <defs>\n      <path d=\"M 40.578125 39.3125 \nQ 47.65625 37.796875 51.625 33 \nQ 55.609375 28.21875 55.609375 21.1875 \nQ 55.609375 10.40625 48.1875 4.484375 \nQ 40.765625 -1.421875 27.09375 -1.421875 \nQ 22.515625 -1.421875 17.65625 -0.515625 \nQ 12.796875 0.390625 7.625 2.203125 \nL 7.625 11.71875 \nQ 11.71875 9.328125 16.59375 8.109375 \nQ 21.484375 6.890625 26.8125 6.890625 \nQ 36.078125 6.890625 40.9375 10.546875 \nQ 45.796875 14.203125 45.796875 21.1875 \nQ 45.796875 27.640625 41.28125 31.265625 \nQ 36.765625 34.90625 28.71875 34.90625 \nL 20.21875 34.90625 \nL 20.21875 43.015625 \nL 29.109375 43.015625 \nQ 36.375 43.015625 40.234375 45.921875 \nQ 44.09375 48.828125 44.09375 54.296875 \nQ 44.09375 59.90625 40.109375 62.90625 \nQ 36.140625 65.921875 28.71875 65.921875 \nQ 24.65625 65.921875 20.015625 65.03125 \nQ 15.375 64.15625 9.8125 62.3125 \nL 9.8125 71.09375 \nQ 15.4375 72.65625 20.34375 73.4375 \nQ 25.25 74.21875 29.59375 74.21875 \nQ 40.828125 74.21875 47.359375 69.109375 \nQ 53.90625 64.015625 53.90625 55.328125 \nQ 53.90625 49.265625 50.4375 45.09375 \nQ 46.96875 40.921875 40.578125 39.3125 \nz\n\" id=\"DejaVuSans-51\"/>\n     </defs>\n     <g transform=\"translate(71.32004 184.364777)scale(0.1625 -0.1625)\">\n      <use transform=\"translate(0 0.09375)\" xlink:href=\"#DejaVuSans-Oblique-113\"/>\n      <use transform=\"translate(63.476562 0.09375)\" xlink:href=\"#DejaVuSans-49\"/>\n      <use transform=\"translate(128.056641 -16.3125)scale(0.7)\" xlink:href=\"#DejaVuSans-51\"/>\n     </g>\n    </g>\n   </g>\n  </g>\n </g>\n <defs>\n  <clipPath id=\"pdf2e443fb5\">\n   <rect height=\"199.9844\" width=\"324.52014\" x=\"7.2\" y=\"7.2\"/>\n  </clipPath>\n </defs>\n</svg>\n",
            "text/plain": [
              "<Figure size 429.828x264.88 with 1 Axes>"
            ]
          },
          "metadata": {
            "tags": []
          },
          "execution_count": 28
        }
      ]
    },
    {
      "cell_type": "markdown",
      "metadata": {
        "id": "QzvqF0MaRipx",
        "colab_type": "text"
      },
      "source": [
        "### Accessing on real quantum hardware"
      ]
    },
    {
      "cell_type": "markdown",
      "metadata": {
        "id": "os9XS5OCRipy",
        "colab_type": "text"
      },
      "source": [
        "Backend objects can also be set up using the `IBMQ` package. The use of these requires us to [sign with an IBMQ account](https://qiskit.org/documentation/install.html#access-ibm-q-systems). Assuming the credentials are already loaded onto your computer, you sign in with"
      ]
    },
    {
      "cell_type": "code",
      "metadata": {
        "id": "pLjBv1LmRipz",
        "colab_type": "code",
        "colab": {},
        "outputId": "431a7115-3867-4120-934a-52e29f671658"
      },
      "source": [
        "IBMQ.load_account()"
      ],
      "execution_count": 0,
      "outputs": [
        {
          "output_type": "execute_result",
          "data": {
            "text/plain": [
              "<AccountProvider for IBMQ(hub='ibm-q', group='open', project='main')>"
            ]
          },
          "metadata": {
            "tags": []
          },
          "execution_count": 29
        }
      ]
    },
    {
      "cell_type": "markdown",
      "metadata": {
        "id": "J95aKjcCRip4",
        "colab_type": "text"
      },
      "source": [
        "Now let's see what additional backends we have available."
      ]
    },
    {
      "cell_type": "code",
      "metadata": {
        "id": "b87WW7D3Rip5",
        "colab_type": "code",
        "colab": {},
        "outputId": "c7f90232-27a5-4b56-bd45-34fff72dc52c"
      },
      "source": [
        "provider = IBMQ.get_provider(hub='ibm-q')\n",
        "provider.backends()"
      ],
      "execution_count": 0,
      "outputs": [
        {
          "output_type": "execute_result",
          "data": {
            "text/plain": [
              "[<IBMQSimulator('ibmq_qasm_simulator') from IBMQ(hub='ibm-q', group='open', project='main')>,\n",
              " <IBMQBackend('ibmqx2') from IBMQ(hub='ibm-q', group='open', project='main')>,\n",
              " <IBMQBackend('ibmq_16_melbourne') from IBMQ(hub='ibm-q', group='open', project='main')>,\n",
              " <IBMQBackend('ibmq_vigo') from IBMQ(hub='ibm-q', group='open', project='main')>,\n",
              " <IBMQBackend('ibmq_ourense') from IBMQ(hub='ibm-q', group='open', project='main')>,\n",
              " <IBMQBackend('ibmq_london') from IBMQ(hub='ibm-q', group='open', project='main')>,\n",
              " <IBMQBackend('ibmq_burlington') from IBMQ(hub='ibm-q', group='open', project='main')>,\n",
              " <IBMQBackend('ibmq_essex') from IBMQ(hub='ibm-q', group='open', project='main')>,\n",
              " <IBMQBackend('ibmq_armonk') from IBMQ(hub='ibm-q', group='open', project='main')>]"
            ]
          },
          "metadata": {
            "tags": []
          },
          "execution_count": 30
        }
      ]
    },
    {
      "cell_type": "markdown",
      "metadata": {
        "id": "jz1j5q3CRip_",
        "colab_type": "text"
      },
      "source": [
        "Here there is one simulator, but the rest are prototype quantum devices.\n",
        "\n",
        "We can see what they are up to with the `status()` method."
      ]
    },
    {
      "cell_type": "code",
      "metadata": {
        "id": "TNxA19gERiqA",
        "colab_type": "code",
        "colab": {},
        "outputId": "651c8e4a-2660-4c76-841e-7dde8cf0021e"
      },
      "source": [
        "for backend in provider.backends():\n",
        "    print( backend.status() )"
      ],
      "execution_count": 0,
      "outputs": [
        {
          "output_type": "stream",
          "text": [
            "BackendStatus(backend_name='ibmq_qasm_simulator', backend_version='0.1.547', operational=True, pending_jobs=1, status_msg='active')\n",
            "BackendStatus(backend_name='ibmqx2', backend_version='2.0.5', operational=True, pending_jobs=1, status_msg='active')\n",
            "BackendStatus(backend_name='ibmq_16_melbourne', backend_version='2.0.4', operational=True, pending_jobs=13, status_msg='active')\n",
            "BackendStatus(backend_name='ibmq_vigo', backend_version='1.0.2', operational=True, pending_jobs=4, status_msg='active')\n",
            "BackendStatus(backend_name='ibmq_ourense', backend_version='1.0.1', operational=True, pending_jobs=3, status_msg='active')\n",
            "BackendStatus(backend_name='ibmq_london', backend_version='1.0.0', operational=True, pending_jobs=25, status_msg='active')\n",
            "BackendStatus(backend_name='ibmq_burlington', backend_version='1.1.4', operational=True, pending_jobs=1, status_msg='active')\n",
            "BackendStatus(backend_name='ibmq_essex', backend_version='1.0.1', operational=True, pending_jobs=3, status_msg='active')\n",
            "BackendStatus(backend_name='ibmq_armonk', backend_version='1.1.0', operational=True, pending_jobs=1, status_msg='active')\n"
          ],
          "name": "stdout"
        }
      ]
    },
    {
      "cell_type": "markdown",
      "metadata": {
        "id": "UPs8Q45yRiqK",
        "colab_type": "text"
      },
      "source": [
        "Let's get the backend object for the largest public device."
      ]
    },
    {
      "cell_type": "code",
      "metadata": {
        "id": "wmzBnf8lRiqL",
        "colab_type": "code",
        "colab": {}
      },
      "source": [
        "real_device = provider.get_backend('ibmq_16_melbourne')"
      ],
      "execution_count": 0,
      "outputs": []
    },
    {
      "cell_type": "markdown",
      "metadata": {
        "id": "y-_e5iUVRiqR",
        "colab_type": "text"
      },
      "source": [
        "We can use this to run a job on the device in exactly the same way as for the emulator.\n",
        "\n",
        "We can also extract some of its properties."
      ]
    },
    {
      "cell_type": "code",
      "metadata": {
        "id": "pS19MJ_3RiqS",
        "colab_type": "code",
        "colab": {}
      },
      "source": [
        "properties = real_device.properties()\n",
        "coupling_map = real_device.configuration().coupling_map"
      ],
      "execution_count": 0,
      "outputs": []
    },
    {
      "cell_type": "markdown",
      "metadata": {
        "id": "faphH8rYRiqY",
        "colab_type": "text"
      },
      "source": [
        "From this we can construct a noise model to mimic the noise on the device (we will discuss noise models further later in the textbook)."
      ]
    },
    {
      "cell_type": "code",
      "metadata": {
        "id": "e2KL7KnaRiqb",
        "colab_type": "code",
        "colab": {},
        "outputId": "65e25dc3-76b2-4a2a-d02a-5f6cc0568606"
      },
      "source": [
        "from qiskit.providers.aer import noise\n",
        "\n",
        "noise_model = noise.device.basic_device_noise_model(properties)"
      ],
      "execution_count": 0,
      "outputs": [
        {
          "output_type": "stream",
          "text": [
            "/usr/local/anaconda3/lib/python3.7/site-packages/qiskit/providers/aer/noise/device/basic_device_model.py:112: DeprecationWarning: This function is been deprecated and moved to a method of the`NoiseModel` class. For equivalent functionality use `NoiseModel.from_backend(properties, **kwargs).\n",
            "  DeprecationWarning)\n"
          ],
          "name": "stderr"
        }
      ]
    },
    {
      "cell_type": "markdown",
      "metadata": {
        "id": "gdHOhGYRRiqh",
        "colab_type": "text"
      },
      "source": [
        "And then run the job on the emulator, with it reproducing all these features of the real device. Here's an example with a circuit that should output `'10'` in the noiseless case."
      ]
    },
    {
      "cell_type": "code",
      "metadata": {
        "id": "wbiF88g4Riqi",
        "colab_type": "code",
        "colab": {},
        "outputId": "7d0b24f9-b6df-4e05-faa5-d42f7bcd3b3a"
      },
      "source": [
        "qc = QuantumCircuit(2,2)\n",
        "qc.x(1)\n",
        "qc.measure(0,0)\n",
        "qc.measure(1,1)\n",
        "\n",
        "job = execute(qc, emulator, shots=1024, noise_model=noise_model,\n",
        "                    coupling_map=coupling_map,\n",
        "                    basis_gates=noise_model.basis_gates)\n",
        "\n",
        "job.result().get_counts()"
      ],
      "execution_count": 0,
      "outputs": [
        {
          "output_type": "execute_result",
          "data": {
            "text/plain": [
              "{'10': 907, '11': 2, '00': 115}"
            ]
          },
          "metadata": {
            "tags": []
          },
          "execution_count": 35
        }
      ]
    },
    {
      "cell_type": "markdown",
      "metadata": {
        "id": "DkR9lJnSRiqo",
        "colab_type": "text"
      },
      "source": [
        "Now the very basics have been covered, let's learn more about what qubits and quantum circuits are all about."
      ]
    },
    {
      "cell_type": "code",
      "metadata": {
        "id": "Ns-IstYyRiqp",
        "colab_type": "code",
        "colab": {},
        "outputId": "5b1da9f7-b676-43ce-f8ee-d4885af166fa"
      },
      "source": [
        "import qiskit\n",
        "qiskit.__qiskit_version__"
      ],
      "execution_count": 0,
      "outputs": [
        {
          "output_type": "execute_result",
          "data": {
            "text/plain": [
              "{'qiskit-terra': '0.12.0',\n",
              " 'qiskit-aer': '0.4.0',\n",
              " 'qiskit-ignis': '0.2.0',\n",
              " 'qiskit-ibmq-provider': '0.4.6',\n",
              " 'qiskit-aqua': '0.6.4',\n",
              " 'qiskit': '0.15.0'}"
            ]
          },
          "metadata": {
            "tags": []
          },
          "execution_count": 36
        }
      ]
    },
    {
      "cell_type": "code",
      "metadata": {
        "id": "VXzXBaKlRiqu",
        "colab_type": "code",
        "colab": {}
      },
      "source": [
        ""
      ],
      "execution_count": 0,
      "outputs": []
    },
    {
      "cell_type": "code",
      "metadata": {
        "id": "eiZiieANRiqz",
        "colab_type": "code",
        "colab": {}
      },
      "source": [
        ""
      ],
      "execution_count": 0,
      "outputs": []
    },
    {
      "cell_type": "code",
      "metadata": {
        "id": "IV1X4CXtRiq4",
        "colab_type": "code",
        "colab": {}
      },
      "source": [
        ""
      ],
      "execution_count": 0,
      "outputs": []
    },
    {
      "cell_type": "code",
      "metadata": {
        "id": "Ur6ai3mbRiq8",
        "colab_type": "code",
        "colab": {}
      },
      "source": [
        ""
      ],
      "execution_count": 0,
      "outputs": []
    },
    {
      "cell_type": "code",
      "metadata": {
        "id": "3_e8d0h4RirB",
        "colab_type": "code",
        "colab": {}
      },
      "source": [
        ""
      ],
      "execution_count": 0,
      "outputs": []
    }
  ]
}